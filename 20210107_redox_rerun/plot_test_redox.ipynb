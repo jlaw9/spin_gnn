{
 "cells": [
  {
   "cell_type": "code",
   "execution_count": 7,
   "metadata": {},
   "outputs": [],
   "source": [
    "import numpy as np\n",
    "import pandas as pd\n",
    "\n",
    "import matplotlib.pyplot as plt\n",
    "import seaborn as sns\n",
    "sns.set(context='talk', style='ticks',\n",
    "        color_codes=True, rc={'legend.frameon': False})\n",
    "\n",
    "%matplotlib inline"
   ]
  },
  {
   "cell_type": "code",
   "execution_count": 8,
   "metadata": {},
   "outputs": [
    {
     "name": "stdout",
     "output_type": "stream",
     "text": [
      "Fri Jan  8 09:23:01 2021       \n",
      "+-----------------------------------------------------------------------------+\n",
      "| NVIDIA-SMI 440.82       Driver Version: 440.82       CUDA Version: 10.2     |\n",
      "|-------------------------------+----------------------+----------------------+\n",
      "| GPU  Name        Persistence-M| Bus-Id        Disp.A | Volatile Uncorr. ECC |\n",
      "| Fan  Temp  Perf  Pwr:Usage/Cap|         Memory-Usage | GPU-Util  Compute M. |\n",
      "|===============================+======================+======================|\n",
      "|   0  Quadro GV100        Off  | 00000000:37:00.0 Off |                  Off |\n",
      "| 30%   42C    P2    35W / 250W |   2958MiB / 32508MiB |      0%      Default |\n",
      "+-------------------------------+----------------------+----------------------+\n",
      "                                                                               \n",
      "+-----------------------------------------------------------------------------+\n",
      "| Processes:                                                       GPU Memory |\n",
      "|  GPU       PID   Type   Process name                             Usage      |\n",
      "|=============================================================================|\n",
      "|    0      8966      G   paraview                                     182MiB |\n",
      "|    0     14386      G   ...Linux-Python3.8-64bit/bin/paraview-real   123MiB |\n",
      "|    0     20395      C   ...olecule/pstjohn/envs/tf2_gpu/bin/python   485MiB |\n",
      "|    0     20688      G   ...195/CFX/bin/linux-amd64/PostGui_ogl.exe  1199MiB |\n",
      "|    0     20978      C   ...olecule/pstjohn/envs/tf2_gpu/bin/python   639MiB |\n",
      "|    0     24988      G   ...ys_inc/v195/Tools/mono/Linux64/bin/mono     6MiB |\n",
      "|    0     25909      G   ...l/apps/matlab/R2020a/bin/glnxa64/MATLAB     6MiB |\n",
      "|    0     30911      G   paraview                                      79MiB |\n",
      "|    0     34934      G   ...ys_inc/v195/Tools/mono/Linux64/bin/mono     6MiB |\n",
      "|    0     36863      G   /usr/bin/X                                   208MiB |\n",
      "+-----------------------------------------------------------------------------+\n",
      "WARNING: infoROM is corrupted at gpu 0000:37:00.0\n"
     ]
    }
   ],
   "source": [
    "!nvidia-smi"
   ]
  },
  {
   "cell_type": "code",
   "execution_count": 9,
   "metadata": {},
   "outputs": [
    {
     "name": "stdout",
     "output_type": "stream",
     "text": [
      "loss        0.006737\n",
      "val_loss    0.042203\n",
      "dtype: float64\n"
     ]
    },
    {
     "data": {
      "image/png": "[encoded data removed]",
      "text/plain": [
       "<Figure size 432x288 with 1 Axes>"
      ]
     },
     "metadata": {
      "needs_background": "light"
     },
     "output_type": "display_data"
    }
   ],
   "source": [
    "log = pd.read_csv('20210107_redox_model/log.csv').set_index('epoch')\n",
    "\n",
    "plt.semilogy(log.loss)\n",
    "plt.semilogy(log.val_loss)\n",
    "\n",
    "print(log.min())\n",
    "\n",
    "plt.tight_layout()\n",
    "# plt.xlim([0, 10])"
   ]
  },
  {
   "cell_type": "code",
   "execution_count": 10,
   "metadata": {},
   "outputs": [],
   "source": [
    "import tensorflow as tf\n",
    "gpus = tf.config.experimental.list_physical_devices('GPU')\n",
    "if gpus:\n",
    "    # Currently, memory growth needs to be the same across GPUs\n",
    "    for gpu in gpus:\n",
    "        tf.config.experimental.set_memory_growth(gpu, True)\n",
    "import nfp"
   ]
  },
  {
   "cell_type": "code",
   "execution_count": 12,
   "metadata": {},
   "outputs": [],
   "source": [
    "from preprocessor import preprocessor\n",
    "\n",
    "from nfp import EdgeUpdate, NodeUpdate, GlobalUpdate\n",
    "import tensorflow_addons as tfa\n",
    "\n",
    "model = tf.keras.models.load_model(\n",
    "    '20210107_redox_model/best_model.hdf5',\n",
    "    custom_objects=nfp.custom_objects)"
   ]
  },
  {
   "cell_type": "code",
   "execution_count": 13,
   "metadata": {},
   "outputs": [
    {
     "name": "stdout",
     "output_type": "stream",
     "text": [
      "WARNING:tensorflow:Skipping full serialization of Keras layer <tensorflow.python.keras.layers.merge.Add object at 0x7f10d76ea4d0>, because it is not built.\n",
      "WARNING:tensorflow:Skipping full serialization of Keras layer <nfp.layers.layers.Tile object at 0x7f10d76a4c90>, because it is not built.\n",
      "WARNING:tensorflow:Skipping full serialization of Keras layer <nfp.layers.layers.Tile object at 0x7f10d75d19d0>, because it is not built.\n",
      "WARNING:tensorflow:Skipping full serialization of Keras layer <nfp.layers.layers.Tile object at 0x7f10d7541f90>, because it is not built.\n",
      "WARNING:tensorflow:Skipping full serialization of Keras layer <nfp.layers.layers.Tile object at 0x7f10d74c6450>, because it is not built.\n",
      "WARNING:tensorflow:Skipping full serialization of Keras layer <nfp.layers.layers.Tile object at 0x7f10d7470cd0>, because it is not built.\n",
      "WARNING:tensorflow:Skipping full serialization of Keras layer <nfp.layers.layers.Tile object at 0x7f10d73eb110>, because it is not built.\n",
      "WARNING:tensorflow:From /projects/rlmolecule/pstjohn/envs/tf2_gpu/lib/python3.7/site-packages/tensorflow/python/training/tracking/tracking.py:111: Model.state_updates (from tensorflow.python.keras.engine.training) is deprecated and will be removed in a future version.\n",
      "Instructions for updating:\n",
      "This property should not be used in TensorFlow 2.0, as updates are applied automatically.\n",
      "WARNING:tensorflow:From /projects/rlmolecule/pstjohn/envs/tf2_gpu/lib/python3.7/site-packages/tensorflow/python/training/tracking/tracking.py:111: Layer.updates (from tensorflow.python.keras.engine.base_layer) is deprecated and will be removed in a future version.\n",
      "Instructions for updating:\n",
      "This property should not be used in TensorFlow 2.0, as updates are applied automatically.\n",
      "INFO:tensorflow:Assets written to: /projects/rlmolecule/pstjohn/models/20210107_redox_model/assets\n"
     ]
    }
   ],
   "source": [
    "model.save('/projects/rlmolecule/pstjohn/models/20210107_redox_model/', include_optimizer=False)"
   ]
  },
  {
   "cell_type": "code",
   "execution_count": 14,
   "metadata": {},
   "outputs": [],
   "source": [
    "from train_model_redox import train_dataset"
   ]
  },
  {
   "cell_type": "code",
   "execution_count": 15,
   "metadata": {},
   "outputs": [],
   "source": [
    "redox_df = pd.read_csv('/projects/rlmolecule/pstjohn/spin_gnn/redox_data.csv.gz')"
   ]
  },
  {
   "cell_type": "code",
   "execution_count": 16,
   "metadata": {},
   "outputs": [
    {
     "data": {
      "text/plain": [
       "smiles               94743\n",
       "ionization energy    51599\n",
       "electron affinity    83627\n",
       "oxidized_s2           2355\n",
       "reduced_s2             216\n",
       "dtype: int64"
      ]
     },
     "execution_count": 16,
     "metadata": {},
     "output_type": "execute_result"
    }
   ],
   "source": [
    "redox_df.notna().sum(0)"
   ]
  },
  {
   "cell_type": "code",
   "execution_count": 17,
   "metadata": {},
   "outputs": [],
   "source": [
    "data = np.load('redox_split.npz', allow_pickle=True)\n",
    "redox_valid = redox_df[redox_df.smiles.isin(np.concatenate([data['valid'], data['test']]))]"
   ]
  },
  {
   "cell_type": "code",
   "execution_count": 18,
   "metadata": {},
   "outputs": [
    {
     "data": {
      "text/plain": [
       "(2000, 5)"
      ]
     },
     "execution_count": 18,
     "metadata": {},
     "output_type": "execute_result"
    }
   ],
   "source": [
    "redox_valid.shape"
   ]
  },
  {
   "cell_type": "code",
   "execution_count": 19,
   "metadata": {},
   "outputs": [],
   "source": [
    "test_dataset = tf.data.Dataset.from_generator(\n",
    "    lambda: (preprocessor.construct_feature_matrices(smiles, train=False) for smiles in redox_valid.smiles),\n",
    "    output_types=preprocessor.output_types,\n",
    "    output_shapes=preprocessor.output_shapes)\\\n",
    "    .padded_batch(batch_size=128, padded_shapes=preprocessor.padded_shapes(),\n",
    "                  padding_values=preprocessor.padding_values)"
   ]
  },
  {
   "cell_type": "code",
   "execution_count": 20,
   "metadata": {},
   "outputs": [
    {
     "name": "stderr",
     "output_type": "stream",
     "text": [
      "/projects/rlmolecule/pstjohn/envs/tf2_gpu/lib/python3.7/site-packages/tensorflow/python/keras/engine/functional.py:543: UserWarning: Input dict contained keys ['n_bond', 'bond_indices'] which did not match any model input. They will be ignored by the model.\n",
      "  [n for n in tensors.keys() if n not in ref_input_names])\n"
     ]
    },
    {
     "name": "stdout",
     "output_type": "stream",
     "text": [
      "16/16 [==============================] - 2s 105ms/step\n"
     ]
    }
   ],
   "source": [
    "predicted_redox = model.predict(test_dataset, verbose=1)"
   ]
  },
  {
   "cell_type": "code",
   "execution_count": 21,
   "metadata": {},
   "outputs": [
    {
     "data": {
      "text/plain": [
       "Text(0.5, 1.0, 'electron affinity')"
      ]
     },
     "execution_count": 21,
     "metadata": {},
     "output_type": "execute_result"
    },
    {
     "data": {
      "image/png": "[encoded data removed]",
      "text/plain": [
       "<Figure size 576x252 with 2 Axes>"
      ]
     },
     "metadata": {
      "needs_background": "light"
     },
     "output_type": "display_data"
    }
   ],
   "source": [
    "fig, axs = plt.subplots(ncols=2, figsize=(8,3.5))\n",
    "axs[0].plot(redox_valid['ionization energy'], predicted_redox[:, 0], '.', ms=1)\n",
    "axs[1].plot(redox_valid['electron affinity'], predicted_redox[:, 1], '.', ms=1)\n",
    "\n",
    "axs[0].text(.95, .05, f\"MAE: {(redox_valid['ionization energy'] - predicted_redox[:, 0]).abs().mean():.4f} V\", ha='right', va='bottom', transform=axs[0].transAxes, fontsize=14)\n",
    "axs[1].text(.95, .05, f\"MAE: {(redox_valid['electron affinity'] - predicted_redox[:, 1]).abs().mean():.4f} V\", ha='right', va='bottom', transform=axs[1].transAxes, fontsize=14)\n",
    "\n",
    "axs[0].set_title('ionization energy')\n",
    "axs[1].set_title('electron affinity')"
   ]
  },
  {
   "cell_type": "code",
   "execution_count": 50,
   "metadata": {},
   "outputs": [],
   "source": [
    "redox_valid = redox_valid.copy()\n",
    "redox_valid['pred ionization energy'] = predicted_redox[:, 0]\n",
    "redox_valid['pred electron affinity'] = predicted_redox[:, 1]"
   ]
  },
  {
   "cell_type": "code",
   "execution_count": 51,
   "metadata": {},
   "outputs": [],
   "source": [
    "redox_valid['err ionization energy'] = (redox_valid['pred ionization energy'] - redox_valid['ionization energy']).abs()\n",
    "redox_valid['err electron affinity'] = (redox_valid['pred electron affinity'] - redox_valid['electron affinity']).abs()"
   ]
  },
  {
   "cell_type": "code",
   "execution_count": 52,
   "metadata": {},
   "outputs": [
    {
     "name": "stderr",
     "output_type": "stream",
     "text": [
      "/projects/rlmolecule/pstjohn/envs/tf2_gpu/lib/python3.7/site-packages/numpy/lib/histograms.py:839: RuntimeWarning: invalid value encountered in greater_equal\n",
      "  keep = (tmp_a >= first_edge)\n",
      "/projects/rlmolecule/pstjohn/envs/tf2_gpu/lib/python3.7/site-packages/numpy/lib/histograms.py:840: RuntimeWarning: invalid value encountered in less_equal\n",
      "  keep &= (tmp_a <= last_edge)\n"
     ]
    },
    {
     "data": {
      "image/png": "[encoded data removed]",
      "text/plain": [
       "<Figure size 576x252 with 2 Axes>"
      ]
     },
     "metadata": {
      "needs_background": "light"
     },
     "output_type": "display_data"
    }
   ],
   "source": [
    "fig, axs = plt.subplots(nrows=1, ncols=2, figsize=(8, 3.5), sharey=True, sharex=True)\n",
    "\n",
    "axs[0].hist(redox_valid['err ionization energy'] * 1000, range=(0, 200), density=True)\n",
    "axs[1].hist(redox_valid['err electron affinity'] * 1000, range=(0, 200), density=True)\n",
    "\n",
    "axs[0].text(.99, .99, f\"$n_{{train}} = {len(redox_df[redox_df.smiles.isin(data['train'])]['ionization energy'].dropna())}$\\n$n_{{valid}} = {len(redox_valid['err ionization energy'].dropna())}$\",\n",
    "            transform=axs[0].transAxes,\n",
    "            ha='right', va='top', fontsize=14)\n",
    "\n",
    "axs[1].text(.99, .99, f\"$n_{{train}} = {len(redox_df[redox_df.smiles.isin(data['train'])]['electron affinity'].dropna())}$\\n$n_{{valid}} = {len(redox_valid['err electron affinity'].dropna())}$\",\n",
    "            transform=axs[1].transAxes,\n",
    "            ha='right', va='top', fontsize=14)\n",
    "\n",
    "med_ae = 1000*redox_valid['err ionization energy'].median()\n",
    "axs[0].axvline(med_ae, ls='--', color='.6')\n",
    "axs[0].text(.2, .7, f\"MedAE = {med_ae:.1f} mV\",\n",
    "            transform=axs[0].transAxes,\n",
    "            ha='left', va='top', fontsize=14, color='.6')\n",
    "\n",
    "axs[1].axvline(1000*redox_valid['err electron affinity'].median(), ls='--', color='.6')\n",
    "med_ae = 1000*redox_valid['err electron affinity'].median()\n",
    "axs[1].text(.2, .7, f\"MedAE = {med_ae:.1f} mV\",\n",
    "            transform=axs[1].transAxes,\n",
    "            ha='left', va='top', fontsize=14, color='.6')\n",
    "\n",
    "axs[0].set_ylabel('Frequency')\n",
    "axs[0].set_xlabel('Ionization Energy Error (mV)')\n",
    "axs[1].set_xlabel('Electron Affinity Error (mV)')\n",
    "\n",
    "axs[0].set_xlim([0, 200])\n",
    "\n",
    "plt.tight_layout()\n",
    "sns.despine(trim=True, offset=10)"
   ]
  },
  {
   "cell_type": "code",
   "execution_count": 19,
   "metadata": {},
   "outputs": [],
   "source": [
    "spins = pd.read_csv('/projects/rlmolecule/pstjohn/atom_spins/redf_spins_expanded.csv.gz')"
   ]
  },
  {
   "cell_type": "code",
   "execution_count": 20,
   "metadata": {},
   "outputs": [],
   "source": [
    "spins['fractional_spin'] = spins.groupby('smiles').spin.apply(lambda x: x.abs() / x.abs().sum())"
   ]
  },
  {
   "cell_type": "code",
   "execution_count": 21,
   "metadata": {},
   "outputs": [],
   "source": [
    "max_fractional_spin = spins.groupby('smiles').fractional_spin.max()"
   ]
  },
  {
   "cell_type": "code",
   "execution_count": 22,
   "metadata": {},
   "outputs": [],
   "source": [
    "redox_valid_spin = redox_valid.join(max_fractional_spin, on='smiles')"
   ]
  },
  {
   "cell_type": "code",
   "execution_count": 23,
   "metadata": {},
   "outputs": [
    {
     "data": {
      "text/plain": [
       "Text(0.5, 1.0, 'Electron Affinity')"
      ]
     },
     "execution_count": 23,
     "metadata": {},
     "output_type": "execute_result"
    },
    {
     "data": {
      "image/png": "[encoded data removed]",
      "text/plain": [
       "<Figure size 576x252 with 2 Axes>"
      ]
     },
     "metadata": {
      "needs_background": "light"
     },
     "output_type": "display_data"
    }
   ],
   "source": [
    "fig, axs = plt.subplots(nrows=1, ncols=2, figsize=(8,3.5), sharey=True, sharex=True)\n",
    "axs[0].semilogy(redox_valid_spin['fractional_spin'], redox_valid_spin['err ionization energy'], '.', ms=2.5)\n",
    "axs[0].axhline(0.025, ls='--', color='.8')\n",
    "axs[1].semilogy(redox_valid_spin['fractional_spin'], redox_valid_spin['err electron affinity'], '.', ms=2.5)\n",
    "axs[1].axhline(0.025, ls='--', color='.8')\n",
    "\n",
    "axs[0].set_ylabel('Error')\n",
    "axs[0].set_xlabel('Max fractional spin')\n",
    "axs[1].set_xlabel('Max fractional spin')\n",
    "\n",
    "axs[0].set_title('Ionization Energy')\n",
    "axs[1].set_title('Electron Affinity')"
   ]
  },
  {
   "cell_type": "code",
   "execution_count": 25,
   "metadata": {},
   "outputs": [],
   "source": [
    "# fig, axs = plt.subplots(nrows=1, ncols=2, figsize=(8,3.5), sharey=True, sharex=True)\n",
    "# axs[0].semilogy(redox_valid_spin['oxidized_rms'], redox_valid_spin['err ionization energy'], '.', ms=2.5)\n",
    "# axs[0].axhline(0.025, ls='--', color='.8')\n",
    "# axs[1].semilogy(redox_valid_spin['reduced_rms'], redox_valid_spin['err electron affinity'], '.', ms=2.5)\n",
    "# axs[1].axhline(0.025, ls='--', color='.8')\n",
    "\n",
    "# axs[0].set_ylabel('Error')\n",
    "# axs[0].set_xlabel('RMS')\n",
    "# axs[1].set_xlabel('RMS')\n",
    "\n",
    "# axs[0].set_title('Ionization Energy')\n",
    "# axs[1].set_title('Electron Affinity')"
   ]
  },
  {
   "cell_type": "code",
   "execution_count": 26,
   "metadata": {},
   "outputs": [],
   "source": [
    "ie_outliers = redox_valid_spin[redox_valid_spin['fractional_spin'] > 0.75].sort_values('err ionization energy', ascending=False).head(3)\n",
    "ea_outliers = redox_valid_spin[redox_valid_spin['fractional_spin'] > 0.70].sort_values('err electron affinity', ascending=False).head(3)"
   ]
  },
  {
   "cell_type": "code",
   "execution_count": 27,
   "metadata": {},
   "outputs": [],
   "source": [
    "import psycopg2\n",
    "\n",
    "dbparams = {\n",
    "    'dbname': 'bde',\n",
    "    'port': 5432,\n",
    "    'host': 'yuma.hpc.nrel.gov',\n",
    "    'user': 'bdeops',\n",
    "    'password': 'BD30ps99!',\n",
    "    'options': f'-c search_path=bde',\n",
    "}\n",
    "\n",
    "with psycopg2.connect(**dbparams) as conn:\n",
    "\n",
    "    redf = pd.read_sql_query(\"\"\"\n",
    "    SELECT * from redoxcompound where status='finished'\n",
    "    \"\"\", conn)"
   ]
  },
  {
   "cell_type": "code",
   "execution_count": 28,
   "metadata": {},
   "outputs": [
    {
     "data": {
      "text/html": [
       "<div>\n",
       "<style scoped>\n",
       "    .dataframe tbody tr th:only-of-type {\n",
       "        vertical-align: middle;\n",
       "    }\n",
       "\n",
       "    .dataframe tbody tr th {\n",
       "        vertical-align: top;\n",
       "    }\n",
       "\n",
       "    .dataframe thead th {\n",
       "        text-align: right;\n",
       "    }\n",
       "</style>\n",
       "<table border=\"1\" class=\"dataframe\">\n",
       "  <thead>\n",
       "    <tr style=\"text-align: right;\">\n",
       "      <th></th>\n",
       "      <th>smiles</th>\n",
       "      <th>ionization energy</th>\n",
       "      <th>pred ionization energy</th>\n",
       "      <th>fractional_spin</th>\n",
       "    </tr>\n",
       "  </thead>\n",
       "  <tbody>\n",
       "    <tr>\n",
       "      <th>93833</th>\n",
       "      <td>[N]1N=N1</td>\n",
       "      <td>3.047585</td>\n",
       "      <td>2.061290</td>\n",
       "      <td>0.932815</td>\n",
       "    </tr>\n",
       "    <tr>\n",
       "      <th>37659</th>\n",
       "      <td>CN(C)c1cc[c][nH]1</td>\n",
       "      <td>-0.090450</td>\n",
       "      <td>0.358120</td>\n",
       "      <td>0.837291</td>\n",
       "    </tr>\n",
       "    <tr>\n",
       "      <th>5247</th>\n",
       "      <td>C1N=N[C@@H]2O[C]12</td>\n",
       "      <td>1.702580</td>\n",
       "      <td>1.363614</td>\n",
       "      <td>0.783313</td>\n",
       "    </tr>\n",
       "  </tbody>\n",
       "</table>\n",
       "</div>"
      ],
      "text/plain": [
       "                   smiles  ionization energy  pred ionization energy  \\\n",
       "93833            [N]1N=N1           3.047585                2.061290   \n",
       "37659   CN(C)c1cc[c][nH]1          -0.090450                0.358120   \n",
       "5247   C1N=N[C@@H]2O[C]12           1.702580                1.363614   \n",
       "\n",
       "       fractional_spin  \n",
       "93833         0.932815  \n",
       "37659         0.837291  \n",
       "5247          0.783313  "
      ]
     },
     "execution_count": 28,
     "metadata": {},
     "output_type": "execute_result"
    }
   ],
   "source": [
    "ie_outliers[['smiles', 'ionization energy', 'pred ionization energy', 'fractional_spin']]  # oxidized"
   ]
  },
  {
   "cell_type": "code",
   "execution_count": 29,
   "metadata": {},
   "outputs": [
    {
     "data": {
      "text/html": [
       "<div>\n",
       "<style scoped>\n",
       "    .dataframe tbody tr th:only-of-type {\n",
       "        vertical-align: middle;\n",
       "    }\n",
       "\n",
       "    .dataframe tbody tr th {\n",
       "        vertical-align: top;\n",
       "    }\n",
       "\n",
       "    .dataframe thead th {\n",
       "        text-align: right;\n",
       "    }\n",
       "</style>\n",
       "<table border=\"1\" class=\"dataframe\">\n",
       "  <thead>\n",
       "    <tr style=\"text-align: right;\">\n",
       "      <th></th>\n",
       "      <th>smiles</th>\n",
       "      <th>electron affinity</th>\n",
       "      <th>pred electron affinity</th>\n",
       "      <th>fractional_spin</th>\n",
       "    </tr>\n",
       "  </thead>\n",
       "  <tbody>\n",
       "    <tr>\n",
       "      <th>63917</th>\n",
       "      <td>C[N+](=[N])C(C)(C)C</td>\n",
       "      <td>0.640161</td>\n",
       "      <td>0.130851</td>\n",
       "      <td>0.730143</td>\n",
       "    </tr>\n",
       "    <tr>\n",
       "      <th>23685</th>\n",
       "      <td>CC1=[C]CCCCC1=O</td>\n",
       "      <td>-1.030829</td>\n",
       "      <td>-0.763086</td>\n",
       "      <td>0.722847</td>\n",
       "    </tr>\n",
       "    <tr>\n",
       "      <th>55168</th>\n",
       "      <td>C[CH]C(CC)(CC)OO</td>\n",
       "      <td>-1.939481</td>\n",
       "      <td>-1.683886</td>\n",
       "      <td>0.739048</td>\n",
       "    </tr>\n",
       "  </tbody>\n",
       "</table>\n",
       "</div>"
      ],
      "text/plain": [
       "                    smiles  electron affinity  pred electron affinity  \\\n",
       "63917  C[N+](=[N])C(C)(C)C           0.640161                0.130851   \n",
       "23685      CC1=[C]CCCCC1=O          -1.030829               -0.763086   \n",
       "55168     C[CH]C(CC)(CC)OO          -1.939481               -1.683886   \n",
       "\n",
       "       fractional_spin  \n",
       "63917         0.730143  \n",
       "23685         0.722847  \n",
       "55168         0.739048  "
      ]
     },
     "execution_count": 29,
     "metadata": {},
     "output_type": "execute_result"
    }
   ],
   "source": [
    "ea_outliers[['smiles', 'electron affinity', 'pred electron affinity', 'fractional_spin']] "
   ]
  },
  {
   "cell_type": "code",
   "execution_count": 198,
   "metadata": {},
   "outputs": [],
   "source": [
    "ie_logs = redf[redf.smiles.isin(ie_outliers.smiles) & redf.estate.isin(('radical', 'oxidized'))].logfile\n",
    "ea_logs = redf[redf.smiles.isin(ea_outliers.smiles) & redf.estate.isin(('radical', 'reduced'))].logfile"
   ]
  },
  {
   "cell_type": "code",
   "execution_count": 199,
   "metadata": {},
   "outputs": [],
   "source": [
    "# redf[redf.smiles.isin(ie_outliers.smiles) & redf.estate.isin(('radical', 'oxidized'))].sort_values(['smiles', 'estate'])"
   ]
  },
  {
   "cell_type": "code",
   "execution_count": 200,
   "metadata": {},
   "outputs": [],
   "source": [
    "import shutil"
   ]
  },
  {
   "cell_type": "code",
   "execution_count": 201,
   "metadata": {},
   "outputs": [],
   "source": [
    "for log in ie_logs:\n",
    "    shutil.copy(log, '/home/pstjohn/Research/20200608_redox_calculations/spin_gnn/20200918_outliers/ie')"
   ]
  },
  {
   "cell_type": "code",
   "execution_count": 202,
   "metadata": {},
   "outputs": [],
   "source": [
    "for log in ea_logs:\n",
    "    shutil.copy(log, '/home/pstjohn/Research/20200608_redox_calculations/spin_gnn/20200918_outliers/ea')"
   ]
  },
  {
   "cell_type": "code",
   "execution_count": null,
   "metadata": {},
   "outputs": [],
   "source": [
    "log"
   ]
  },
  {
   "cell_type": "code",
   "execution_count": null,
   "metadata": {},
   "outputs": [],
   "source": [
    "import os\n"
   ]
  },
  {
   "cell_type": "code",
   "execution_count": null,
   "metadata": {},
   "outputs": [],
   "source": [
    "ie_logs"
   ]
  },
  {
   "cell_type": "code",
   "execution_count": null,
   "metadata": {},
   "outputs": [],
   "source": [
    "ie_logs.apply(os.path.basename)"
   ]
  },
  {
   "cell_type": "code",
   "execution_count": null,
   "metadata": {},
   "outputs": [],
   "source": []
  }
 ],
 "metadata": {
  "kernelspec": {
   "display_name": "Python 3",
   "language": "python",
   "name": "python3"
  },
  "language_info": {
   "codemirror_mode": {
    "name": "ipython",
    "version": 3
   },
   "file_extension": ".py",
   "mimetype": "text/x-python",
   "name": "python",
   "nbconvert_exporter": "python",
   "pygments_lexer": "ipython3",
   "version": "3.7.8"
  }
 },
 "nbformat": 4,
 "nbformat_minor": 4
}
