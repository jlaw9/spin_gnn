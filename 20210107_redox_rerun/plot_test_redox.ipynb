{
 "cells": [
  {
   "cell_type": "code",
   "execution_count": 1,
   "metadata": {},
   "outputs": [],
   "source": [
    "import numpy as np\n",
    "import pandas as pd\n",
    "\n",
    "import matplotlib.pyplot as plt\n",
    "import seaborn as sns\n",
    "sns.set(context='talk', style='ticks',\n",
    "        color_codes=True, rc={'legend.frameon': False})\n",
    "\n",
    "%matplotlib inline"
   ]
  },
  {
   "cell_type": "code",
   "execution_count": 2,
   "metadata": {},
   "outputs": [
    {
     "name": "stdout",
     "output_type": "stream",
     "text": [
      "Tue Feb 16 08:48:20 2021       \n",
      "+-----------------------------------------------------------------------------+\n",
      "| NVIDIA-SMI 440.82       Driver Version: 440.82       CUDA Version: 10.2     |\n",
      "|-------------------------------+----------------------+----------------------+\n",
      "| GPU  Name        Persistence-M| Bus-Id        Disp.A | Volatile Uncorr. ECC |\n",
      "| Fan  Temp  Perf  Pwr:Usage/Cap|         Memory-Usage | GPU-Util  Compute M. |\n",
      "|===============================+======================+======================|\n",
      "|   0  Quadro GV100        Off  | 00000000:37:00.0 Off |                  Off |\n",
      "| 29%   42C    P2    30W / 250W |   1179MiB / 32508MiB |      0%      Default |\n",
      "+-------------------------------+----------------------+----------------------+\n",
      "                                                                               \n",
      "+-----------------------------------------------------------------------------+\n",
      "| Processes:                                                       GPU Memory |\n",
      "|  GPU       PID   Type   Process name                             Usage      |\n",
      "|=============================================================================|\n",
      "|    0     15377      G   ...ys_inc/v192/Tools/mono/Linux64/bin/mono     6MiB |\n",
      "|    0     26340      C   ...olecule/pstjohn/envs/tf2_gpu/bin/python   647MiB |\n",
      "|    0     32528      C   ...olecule/pstjohn/envs/tf2_gpu/bin/python   469MiB |\n",
      "|    0     36582      G   /usr/bin/X                                    44MiB |\n",
      "+-----------------------------------------------------------------------------+\n"
     ]
    }
   ],
   "source": [
    "!nvidia-smi"
   ]
  },
  {
   "cell_type": "code",
   "execution_count": 3,
   "metadata": {},
   "outputs": [
    {
     "name": "stdout",
     "output_type": "stream",
     "text": [
      "loss        0.006355\n",
      "val_loss    0.040687\n",
      "dtype: float64\n"
     ]
    },
    {
     "data": {
      "image/png": "[encoded data removed]",
      "text/plain": [
       "<Figure size 432x288 with 1 Axes>"
      ]
     },
     "metadata": {
      "needs_background": "light"
     },
     "output_type": "display_data"
    }
   ],
   "source": [
    "log = pd.read_csv('20210214_redox_original_data/log.csv').set_index('epoch')\n",
    "\n",
    "plt.semilogy(log.loss)\n",
    "plt.semilogy(log.val_loss)\n",
    "\n",
    "print(log.min())\n",
    "\n",
    "plt.tight_layout()\n",
    "# plt.xlim([0, 10])"
   ]
  },
  {
   "cell_type": "code",
   "execution_count": 5,
   "metadata": {},
   "outputs": [
    {
     "data": {
      "text/plain": [
       "'0.2.0'"
      ]
     },
     "execution_count": 5,
     "metadata": {},
     "output_type": "execute_result"
    }
   ],
   "source": [
    "import tensorflow as tf\n",
    "gpus = tf.config.experimental.list_physical_devices('GPU')\n",
    "if gpus:\n",
    "    # Currently, memory growth needs to be the same across GPUs\n",
    "    for gpu in gpus:\n",
    "        tf.config.experimental.set_memory_growth(gpu, True)\n",
    "import nfp\n",
    "nfp.__version__"
   ]
  },
  {
   "cell_type": "code",
   "execution_count": 6,
   "metadata": {},
   "outputs": [],
   "source": [
    "from preprocessor import preprocessor\n",
    "\n",
    "from nfp import EdgeUpdate, NodeUpdate, GlobalUpdate\n",
    "import tensorflow_addons as tfa\n",
    "\n",
    "model = tf.keras.models.load_model(\n",
    "    '20210214_redox_original_data/best_model.hdf5',\n",
    "    custom_objects=nfp.custom_objects)"
   ]
  },
  {
   "cell_type": "code",
   "execution_count": 23,
   "metadata": {},
   "outputs": [
    {
     "name": "stdout",
     "output_type": "stream",
     "text": [
      "WARNING:tensorflow:From /projects/rlmolecule/pstjohn/envs/tf2_gpu/lib/python3.7/site-packages/tensorflow/python/training/tracking/tracking.py:111: Model.state_updates (from tensorflow.python.keras.engine.training) is deprecated and will be removed in a future version.\n",
      "Instructions for updating:\n",
      "This property should not be used in TensorFlow 2.0, as updates are applied automatically.\n",
      "WARNING:tensorflow:From /projects/rlmolecule/pstjohn/envs/tf2_gpu/lib/python3.7/site-packages/tensorflow/python/training/tracking/tracking.py:111: Layer.updates (from tensorflow.python.keras.engine.base_layer) is deprecated and will be removed in a future version.\n",
      "Instructions for updating:\n",
      "This property should not be used in TensorFlow 2.0, as updates are applied automatically.\n",
      "INFO:tensorflow:Assets written to: /projects/rlmolecule/pstjohn/models/20210214_redox/assets\n"
     ]
    }
   ],
   "source": [
    "new_model = tf.keras.Model(model.inputs[:3], model.outputs)\n",
    "new_model.save('/projects/rlmolecule/pstjohn/models/20210214_redox/', include_optimizer=False)"
   ]
  },
  {
   "cell_type": "code",
   "execution_count": 8,
   "metadata": {},
   "outputs": [
    {
     "data": {
      "text/plain": [
       "<tensorflow.python.keras.engine.functional.Functional at 0x7f2efdd1b550>"
      ]
     },
     "execution_count": 8,
     "metadata": {},
     "output_type": "execute_result"
    }
   ],
   "source": [
    "tf.keras.models.load_model('/projects/rlmolecule/pstjohn/models/20210214_redox/', compile=False)"
   ]
  },
  {
   "cell_type": "code",
   "execution_count": 9,
   "metadata": {},
   "outputs": [],
   "source": [
    "from train_model_redox import parse_example"
   ]
  },
  {
   "cell_type": "code",
   "execution_count": 10,
   "metadata": {},
   "outputs": [],
   "source": [
    "redox_df = pd.read_csv('/projects/rlmolecule/pstjohn/spin_gnn/redox_data.csv.gz')\n",
    "data = np.load('redox_split.npz', allow_pickle=True)\n",
    "redox_valid = redox_df[redox_df.smiles.isin(np.concatenate([data['valid'], data['test']]))]"
   ]
  },
  {
   "cell_type": "code",
   "execution_count": 11,
   "metadata": {},
   "outputs": [
    {
     "data": {
      "text/plain": [
       "(2000, 5)"
      ]
     },
     "execution_count": 11,
     "metadata": {},
     "output_type": "execute_result"
    }
   ],
   "source": [
    "redox_valid.shape"
   ]
  },
  {
   "cell_type": "code",
   "execution_count": 12,
   "metadata": {},
   "outputs": [],
   "source": [
    "test_dataset = tf.data.Dataset.from_generator(\n",
    "    lambda: (preprocessor.construct_feature_matrices(smiles, train=False) for smiles in redox_valid.smiles),\n",
    "    output_types=preprocessor.output_types,\n",
    "    output_shapes=preprocessor.output_shapes)\\\n",
    "    .padded_batch(batch_size=128, padded_shapes=preprocessor.padded_shapes(),\n",
    "                  padding_values=preprocessor.padding_values)"
   ]
  },
  {
   "cell_type": "code",
   "execution_count": 13,
   "metadata": {},
   "outputs": [
    {
     "name": "stderr",
     "output_type": "stream",
     "text": [
      "/projects/rlmolecule/pstjohn/envs/tf2_gpu/lib/python3.7/site-packages/tensorflow/python/keras/engine/functional.py:543: UserWarning: Input dict contained keys ['n_bond', 'bond_indices'] which did not match any model input. They will be ignored by the model.\n",
      "  [n for n in tensors.keys() if n not in ref_input_names])\n"
     ]
    },
    {
     "name": "stdout",
     "output_type": "stream",
     "text": [
      "16/16 [==============================] - 1s 68ms/step\n"
     ]
    }
   ],
   "source": [
    "predicted_redox = model.predict(test_dataset, verbose=1)"
   ]
  },
  {
   "cell_type": "code",
   "execution_count": 14,
   "metadata": {},
   "outputs": [
    {
     "data": {
      "text/plain": [
       "Text(0.5, 1.0, 'electron affinity')"
      ]
     },
     "execution_count": 14,
     "metadata": {},
     "output_type": "execute_result"
    },
    {
     "data": {
      "image/png": "[encoded data removed]",
      "text/plain": [
       "<Figure size 576x252 with 2 Axes>"
      ]
     },
     "metadata": {
      "needs_background": "light"
     },
     "output_type": "display_data"
    }
   ],
   "source": [
    "fig, axs = plt.subplots(ncols=2, figsize=(8,3.5))\n",
    "axs[0].plot(redox_valid['ionization energy'], predicted_redox[:, 0], '.', ms=1)\n",
    "axs[1].plot(redox_valid['electron affinity'], predicted_redox[:, 1], '.', ms=1)\n",
    "\n",
    "axs[0].text(.95, .05, f\"MAE: {(redox_valid['ionization energy'] - predicted_redox[:, 0]).abs().mean():.4f} V\", ha='right', va='bottom', transform=axs[0].transAxes, fontsize=14)\n",
    "axs[1].text(.95, .05, f\"MAE: {(redox_valid['electron affinity'] - predicted_redox[:, 1]).abs().mean():.4f} V\", ha='right', va='bottom', transform=axs[1].transAxes, fontsize=14)\n",
    "\n",
    "axs[0].set_title('ionization energy')\n",
    "axs[1].set_title('electron affinity')"
   ]
  },
  {
   "cell_type": "code",
   "execution_count": 15,
   "metadata": {},
   "outputs": [],
   "source": [
    "redox_valid = redox_valid.copy()\n",
    "redox_valid['pred ionization energy'] = predicted_redox[:, 0]\n",
    "redox_valid['pred electron affinity'] = predicted_redox[:, 1]"
   ]
  },
  {
   "cell_type": "code",
   "execution_count": 16,
   "metadata": {},
   "outputs": [],
   "source": [
    "redox_valid['err ionization energy'] = (redox_valid['pred ionization energy'] - redox_valid['ionization energy']).abs()\n",
    "redox_valid['err electron affinity'] = (redox_valid['pred electron affinity'] - redox_valid['electron affinity']).abs()"
   ]
  },
  {
   "cell_type": "code",
   "execution_count": 17,
   "metadata": {},
   "outputs": [
    {
     "data": {
      "text/plain": [
       "0.04738907335529841"
      ]
     },
     "execution_count": 17,
     "metadata": {},
     "output_type": "execute_result"
    }
   ],
   "source": [
    "redox_valid['err ionization energy'].dropna().mean()"
   ]
  },
  {
   "cell_type": "code",
   "execution_count": 18,
   "metadata": {},
   "outputs": [
    {
     "data": {
      "image/png": "[encoded data removed]",
      "text/plain": [
       "<Figure size 576x252 with 2 Axes>"
      ]
     },
     "metadata": {
      "needs_background": "light"
     },
     "output_type": "display_data"
    }
   ],
   "source": [
    "fig, axs = plt.subplots(nrows=1, ncols=2, figsize=(8, 3.5), sharey=True, sharex=True)\n",
    "\n",
    "axs[0].hist(redox_valid['err ionization energy'] * 1000, range=(0, 200), density=True)\n",
    "axs[1].hist(redox_valid['err electron affinity'] * 1000, range=(0, 200), density=True)\n",
    "\n",
    "axs[0].text(.99, .99, f\"$n_{{train}} = {len(redox_df[redox_df.smiles.isin(data['train'])]['ionization energy'].dropna())}$\\n$n_{{valid}} = {len(redox_valid['err ionization energy'].dropna())}$\",\n",
    "            transform=axs[0].transAxes,\n",
    "            ha='right', va='top', fontsize=14)\n",
    "\n",
    "axs[1].text(.99, .99, f\"$n_{{train}} = {len(redox_df[redox_df.smiles.isin(data['train'])]['electron affinity'].dropna())}$\\n$n_{{valid}} = {len(redox_valid['err electron affinity'].dropna())}$\",\n",
    "            transform=axs[1].transAxes,\n",
    "            ha='right', va='top', fontsize=14)\n",
    "\n",
    "med_ae = 1000*redox_valid['err ionization energy'].median()\n",
    "axs[0].axvline(med_ae, ls='--', color='.6')\n",
    "axs[0].text(.2, .7, f\"MedAE = {med_ae:.1f} mV\",\n",
    "            transform=axs[0].transAxes,\n",
    "            ha='left', va='top', fontsize=14, color='.6')\n",
    "\n",
    "axs[1].axvline(1000*redox_valid['err electron affinity'].median(), ls='--', color='.6')\n",
    "med_ae = 1000*redox_valid['err electron affinity'].median()\n",
    "axs[1].text(.2, .7, f\"MedAE = {med_ae:.1f} mV\",\n",
    "            transform=axs[1].transAxes,\n",
    "            ha='left', va='top', fontsize=14, color='.6')\n",
    "\n",
    "axs[0].set_ylabel('Frequency')\n",
    "axs[0].set_xlabel('Ionization Energy Error (mV)')\n",
    "axs[1].set_xlabel('Electron Affinity Error (mV)')\n",
    "\n",
    "axs[0].set_xlim([0, 200])\n",
    "\n",
    "plt.tight_layout()\n",
    "sns.despine(trim=True, offset=10)"
   ]
  },
  {
   "cell_type": "code",
   "execution_count": null,
   "metadata": {},
   "outputs": [],
   "source": [
    "spins = pd.read_csv('/projects/rlmolecule/pstjohn/atom_spins/redf_spins_expanded.csv.gz')"
   ]
  },
  {
   "cell_type": "code",
   "execution_count": null,
   "metadata": {},
   "outputs": [],
   "source": [
    "spins['fractional_spin'] = spins.groupby('smiles').spin.apply(lambda x: x.abs() / x.abs().sum())"
   ]
  },
  {
   "cell_type": "code",
   "execution_count": null,
   "metadata": {},
   "outputs": [],
   "source": [
    "max_fractional_spin = spins.groupby('smiles').fractional_spin.max()"
   ]
  },
  {
   "cell_type": "code",
   "execution_count": null,
   "metadata": {},
   "outputs": [],
   "source": [
    "redox_valid_spin = redox_valid.join(max_fractional_spin, on='smiles')"
   ]
  },
  {
   "cell_type": "code",
   "execution_count": null,
   "metadata": {},
   "outputs": [],
   "source": [
    "fig, axs = plt.subplots(nrows=1, ncols=2, figsize=(8,3.5), sharey=True, sharex=True)\n",
    "axs[0].semilogy(redox_valid_spin['fractional_spin'], redox_valid_spin['err ionization energy'], '.', ms=2.5)\n",
    "axs[0].axhline(0.025, ls='--', color='.8')\n",
    "axs[1].semilogy(redox_valid_spin['fractional_spin'], redox_valid_spin['err electron affinity'], '.', ms=2.5)\n",
    "axs[1].axhline(0.025, ls='--', color='.8')\n",
    "\n",
    "axs[0].set_ylabel('Error')\n",
    "axs[0].set_xlabel('Max fractional spin')\n",
    "axs[1].set_xlabel('Max fractional spin')\n",
    "\n",
    "axs[0].set_title('Ionization Energy')\n",
    "axs[1].set_title('Electron Affinity')"
   ]
  },
  {
   "cell_type": "code",
   "execution_count": null,
   "metadata": {},
   "outputs": [],
   "source": [
    "# fig, axs = plt.subplots(nrows=1, ncols=2, figsize=(8,3.5), sharey=True, sharex=True)\n",
    "# axs[0].semilogy(redox_valid_spin['oxidized_rms'], redox_valid_spin['err ionization energy'], '.', ms=2.5)\n",
    "# axs[0].axhline(0.025, ls='--', color='.8')\n",
    "# axs[1].semilogy(redox_valid_spin['reduced_rms'], redox_valid_spin['err electron affinity'], '.', ms=2.5)\n",
    "# axs[1].axhline(0.025, ls='--', color='.8')\n",
    "\n",
    "# axs[0].set_ylabel('Error')\n",
    "# axs[0].set_xlabel('RMS')\n",
    "# axs[1].set_xlabel('RMS')\n",
    "\n",
    "# axs[0].set_title('Ionization Energy')\n",
    "# axs[1].set_title('Electron Affinity')"
   ]
  },
  {
   "cell_type": "code",
   "execution_count": null,
   "metadata": {},
   "outputs": [],
   "source": [
    "ie_outliers = redox_valid_spin[redox_valid_spin['fractional_spin'] > 0.75].sort_values('err ionization energy', ascending=False).head(3)\n",
    "ea_outliers = redox_valid_spin[redox_valid_spin['fractional_spin'] > 0.70].sort_values('err electron affinity', ascending=False).head(3)"
   ]
  },
  {
   "cell_type": "code",
   "execution_count": null,
   "metadata": {},
   "outputs": [],
   "source": [
    "import psycopg2\n",
    "\n",
    "dbparams = {\n",
    "    'dbname': 'bde',\n",
    "    'port': 5432,\n",
    "    'host': 'yuma.hpc.nrel.gov',\n",
    "    'user': 'bdeops',\n",
    "    'password': 'BD30ps99!',\n",
    "    'options': f'-c search_path=bde',\n",
    "}\n",
    "\n",
    "with psycopg2.connect(**dbparams) as conn:\n",
    "\n",
    "    redf = pd.read_sql_query(\"\"\"\n",
    "    SELECT * from redoxcompound where status='finished'\n",
    "    \"\"\", conn)"
   ]
  },
  {
   "cell_type": "code",
   "execution_count": null,
   "metadata": {},
   "outputs": [],
   "source": [
    "ie_outliers[['smiles', 'ionization energy', 'pred ionization energy', 'fractional_spin']]  # oxidized"
   ]
  },
  {
   "cell_type": "code",
   "execution_count": null,
   "metadata": {},
   "outputs": [],
   "source": [
    "ea_outliers[['smiles', 'electron affinity', 'pred electron affinity', 'fractional_spin']] "
   ]
  },
  {
   "cell_type": "code",
   "execution_count": null,
   "metadata": {},
   "outputs": [],
   "source": [
    "ie_logs = redf[redf.smiles.isin(ie_outliers.smiles) & redf.estate.isin(('radical', 'oxidized'))].logfile\n",
    "ea_logs = redf[redf.smiles.isin(ea_outliers.smiles) & redf.estate.isin(('radical', 'reduced'))].logfile"
   ]
  },
  {
   "cell_type": "code",
   "execution_count": null,
   "metadata": {},
   "outputs": [],
   "source": [
    "# redf[redf.smiles.isin(ie_outliers.smiles) & redf.estate.isin(('radical', 'oxidized'))].sort_values(['smiles', 'estate'])"
   ]
  },
  {
   "cell_type": "code",
   "execution_count": null,
   "metadata": {},
   "outputs": [],
   "source": [
    "import shutil"
   ]
  },
  {
   "cell_type": "code",
   "execution_count": null,
   "metadata": {},
   "outputs": [],
   "source": [
    "for log in ie_logs:\n",
    "    shutil.copy(log, '/home/pstjohn/Research/20200608_redox_calculations/spin_gnn/20200918_outliers/ie')"
   ]
  },
  {
   "cell_type": "code",
   "execution_count": null,
   "metadata": {},
   "outputs": [],
   "source": [
    "for log in ea_logs:\n",
    "    shutil.copy(log, '/home/pstjohn/Research/20200608_redox_calculations/spin_gnn/20200918_outliers/ea')"
   ]
  },
  {
   "cell_type": "code",
   "execution_count": null,
   "metadata": {},
   "outputs": [],
   "source": [
    "log"
   ]
  },
  {
   "cell_type": "code",
   "execution_count": null,
   "metadata": {},
   "outputs": [],
   "source": [
    "import os\n"
   ]
  },
  {
   "cell_type": "code",
   "execution_count": null,
   "metadata": {},
   "outputs": [],
   "source": [
    "ie_logs"
   ]
  },
  {
   "cell_type": "code",
   "execution_count": null,
   "metadata": {},
   "outputs": [],
   "source": [
    "ie_logs.apply(os.path.basename)"
   ]
  },
  {
   "cell_type": "code",
   "execution_count": null,
   "metadata": {},
   "outputs": [],
   "source": []
  }
 ],
 "metadata": {
  "kernelspec": {
   "display_name": "Python 3",
   "language": "python",
   "name": "python3"
  },
  "language_info": {
   "codemirror_mode": {
    "name": "ipython",
    "version": 3
   },
   "file_extension": ".py",
   "mimetype": "text/x-python",
   "name": "python",
   "nbconvert_exporter": "python",
   "pygments_lexer": "ipython3",
   "version": "3.7.9"
  }
 },
 "nbformat": 4,
 "nbformat_minor": 4
}
