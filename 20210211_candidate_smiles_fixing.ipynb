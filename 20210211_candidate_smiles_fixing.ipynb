{
 "cells": [
  {
   "cell_type": "code",
   "execution_count": 2,
   "metadata": {},
   "outputs": [],
   "source": [
    "import numpy as np\n",
    "import pandas as pd\n",
    "\n",
    "import matplotlib.pyplot as plt\n",
    "import seaborn as sns\n",
    "sns.set(context='talk', style='ticks',\n",
    "        color_codes=True, rc={'legend.frameon': False})\n",
    "\n",
    "%matplotlib inline"
   ]
  },
  {
   "cell_type": "code",
   "execution_count": 5,
   "metadata": {},
   "outputs": [],
   "source": [
    "import psycopg2\n",
    "import pandas as pd\n",
    "\n",
    "dbparams = {\n",
    "    'dbname': 'bde',\n",
    "    'port': 5432,\n",
    "    'host': 'yuma.hpc.nrel.gov',\n",
    "    'user': 'redoxops',\n",
    "    'password': 'R3d0x!',\n",
    "    'options': f'-c search_path=redox',\n",
    "}\n",
    "\n",
    "with psycopg2.connect(**dbparams) as conn:\n",
    "    redf = pd.read_sql_query(\"\"\"\n",
    "    SELECT * from redox_rl_1 where run=4 and status='finished';\n",
    "    \"\"\", conn)\n",
    "    "
   ]
  },
  {
   "cell_type": "code",
   "execution_count": 20,
   "metadata": {},
   "outputs": [
    {
     "name": "stderr",
     "output_type": "stream",
     "text": [
      "100%|██████████| 10663/10663 [11:04<00:00, 16.06it/s]\n"
     ]
    }
   ],
   "source": [
    "import re\n",
    "import gzip\n",
    "from tqdm import tqdm\n",
    "tqdm.pandas()\n",
    "\n",
    "\n",
    "search = re.compile('<S\\*\\*2>=\\ \\d\\.\\d{4}')\n",
    "\n",
    "def get_s2(logfile):\n",
    "    opt_freq = False\n",
    "    s2 = None\n",
    "    open_func = gzip.open if logfile.endswith('.gz') else open\n",
    "    \n",
    "    with open_func(logfile, 'rt') as f:\n",
    "        for line in f:\n",
    "            if 'opt freq' in line:\n",
    "                opt_freq = True\n",
    "            if opt_freq:\n",
    "                for result in search.finditer(line):\n",
    "                    s2 = float(result.group()[-6:])\n",
    "                    \n",
    "    return s2\n",
    "\n",
    "redf['s2'] = redf.logfile.progress_apply(get_s2)"
   ]
  },
  {
   "cell_type": "code",
   "execution_count": 22,
   "metadata": {},
   "outputs": [
    {
     "name": "stderr",
     "output_type": "stream",
     "text": [
      "100%|██████████| 10663/10663 [00:12<00:00, 869.23it/s] \n"
     ]
    }
   ],
   "source": [
    "import rdkit\n",
    "from rdkit import Chem\n",
    "\n",
    "def get_ac(mol, covalent_factor=1.3):\n",
    "    \"\"\"\n",
    "    Generate adjacent matrix from atoms and coordinates.\n",
    "    AC is a (num_atoms, num_atoms) matrix with 1 being covalent bond and 0 is not\n",
    "    covalent_factor - 1.3 is an arbitrary factor\n",
    "    args:\n",
    "        mol - rdkit molobj with 3D conformer\n",
    "    optional\n",
    "        covalent_factor - increase covalent bond length threshold with facto\n",
    "    \"\"\"\n",
    "\n",
    "    # Calculate distance matrix\n",
    "    dMat = Chem.Get3DDistanceMatrix(mol)\n",
    "\n",
    "    pt = Chem.GetPeriodicTable()\n",
    "    num_atoms = mol.GetNumAtoms()\n",
    "    Rcovs = [pt.GetRcovalent(a_i.GetAtomicNum())\n",
    "             for a_i in mol.GetAtoms()]\n",
    "\n",
    "    for i in range(num_atoms):\n",
    "        a_i = mol.GetAtomWithIdx(i)\n",
    "        for j in range(i + 1, num_atoms):\n",
    "            a_j = mol.GetAtomWithIdx(j)\n",
    "            if dMat[i, j] <= ((Rcovs[i] + Rcovs[j]) * covalent_factor):\n",
    "                yield tuple(sorted((i, j)))\n",
    "                \n",
    "                \n",
    "def get_bond_ac(mol):\n",
    "    return {tuple(sorted((bond.GetBeginAtomIdx(), bond.GetEndAtomIdx()))) for bond in mol.GetBonds()}\n",
    "\n",
    "\n",
    "def check_different_bonds(row, covalent_factor=1.3):\n",
    "    mol = rdkit.Chem.MolFromMolBlock(row.mol)\n",
    "    return len(get_bond_ac(mol).symmetric_difference(set(get_ac(mol, covalent_factor))))\n",
    "\n",
    "changed_bonds = redf.progress_apply(check_different_bonds, axis=1)"
   ]
  },
  {
   "cell_type": "code",
   "execution_count": 34,
   "metadata": {},
   "outputs": [
    {
     "data": {
      "text/plain": [
       "oxidized    329\n",
       "reduced       7\n",
       "Name: type, dtype: int64"
      ]
     },
     "execution_count": 34,
     "metadata": {},
     "output_type": "execute_result"
    }
   ],
   "source": [
    "redf[changed_bonds > 0].type.value_counts()"
   ]
  },
  {
   "cell_type": "code",
   "execution_count": 38,
   "metadata": {},
   "outputs": [],
   "source": [
    "valid_redf = redf[changed_bonds == 0]\n",
    "valid_redf = valid_redf.drop(valid_redf[(valid_redf.type == 'radical') & (valid_redf.s2 > 0.8)].index)\n",
    "valid_redf = valid_redf.drop(valid_redf[(valid_redf.type == 'oxidized') & (valid_redf.s2 > 0.25)].index)\n",
    "valid_redf = valid_redf.drop(valid_redf[(valid_redf.type == 'reduced') & (valid_redf.s2 > 0.25)].index)"
   ]
  },
  {
   "cell_type": "code",
   "execution_count": 40,
   "metadata": {},
   "outputs": [],
   "source": [
    "import rdkit\n",
    "from rdkit.Chem.EnumerateStereoisomers import EnumerateStereoisomers, StereoEnumerationOptions\n",
    "\n",
    "def get_smiles(molblock):\n",
    "    mol = rdkit.Chem.MolFromMolBlock(molblock)\n",
    "    rdkit.Chem.rdmolops.AssignStereochemistryFrom3D(mol)\n",
    "    return rdkit.Chem.MolToSmiles(mol)\n",
    "    \n",
    "valid_redf['stereo_smiles'] = valid_redf.mol.str.replace('2  3\\n', '2  0\\n').apply(get_smiles)"
   ]
  },
  {
   "cell_type": "code",
   "execution_count": 41,
   "metadata": {},
   "outputs": [],
   "source": [
    "def num_isomers(smiles):\n",
    "    opts = StereoEnumerationOptions(unique=True)\n",
    "    return len(list(EnumerateStereoisomers(rdkit.Chem.MolFromSmiles(smiles), options=opts)))\n",
    "\n",
    "unique_smiles = pd.DataFrame(valid_redf.stereo_smiles.unique(), columns=['smiles'])\n",
    "unique_smiles['num_isomers'] = unique_smiles.smiles.apply(num_isomers)"
   ]
  },
  {
   "cell_type": "code",
   "execution_count": 42,
   "metadata": {},
   "outputs": [
    {
     "data": {
      "text/html": [
       "<div>\n",
       "<style scoped>\n",
       "    .dataframe tbody tr th:only-of-type {\n",
       "        vertical-align: middle;\n",
       "    }\n",
       "\n",
       "    .dataframe tbody tr th {\n",
       "        vertical-align: top;\n",
       "    }\n",
       "\n",
       "    .dataframe thead th {\n",
       "        text-align: right;\n",
       "    }\n",
       "</style>\n",
       "<table border=\"1\" class=\"dataframe\">\n",
       "  <thead>\n",
       "    <tr style=\"text-align: right;\">\n",
       "      <th></th>\n",
       "      <th>smiles</th>\n",
       "      <th>num_isomers</th>\n",
       "    </tr>\n",
       "  </thead>\n",
       "  <tbody>\n",
       "  </tbody>\n",
       "</table>\n",
       "</div>"
      ],
      "text/plain": [
       "Empty DataFrame\n",
       "Columns: [smiles, num_isomers]\n",
       "Index: []"
      ]
     },
     "execution_count": 42,
     "metadata": {},
     "output_type": "execute_result"
    }
   ],
   "source": [
    "unique_smiles[unique_smiles.num_isomers > 1]"
   ]
  },
  {
   "cell_type": "code",
   "execution_count": 43,
   "metadata": {},
   "outputs": [],
   "source": [
    "radical = valid_redf[valid_redf.type == 'radical'].set_index('stereo_smiles')\n",
    "oxidized = valid_redf[valid_redf.type == 'oxidized'].set_index('stereo_smiles')\n",
    "reduced = valid_redf[valid_redf.type == 'reduced'].set_index('stereo_smiles')\n",
    "\n",
    "e_electronaffinity = -((reduced.freeenergy - radical.freeenergy) * 627.509) / 23.061 - 4.281\n",
    "e_ionizationenery = -((radical.freeenergy - oxidized.freeenergy) * 627.509) / 23.061 - 4.281"
   ]
  },
  {
   "cell_type": "code",
   "execution_count": 44,
   "metadata": {},
   "outputs": [
    {
     "data": {
      "text/plain": [
       "(3698, 2)"
      ]
     },
     "execution_count": 44,
     "metadata": {},
     "output_type": "execute_result"
    }
   ],
   "source": [
    "e_ionizationenery.name = 'ionization energy'\n",
    "e_electronaffinity.name = 'electron affinity'\n",
    "\n",
    "e_ionizationenery = e_ionizationenery.dropna()\n",
    "e_electronaffinity = e_electronaffinity.dropna()\n",
    "\n",
    "df = pd.DataFrame(e_ionizationenery).merge(pd.DataFrame(e_electronaffinity), left_index=True, right_index=True, how='outer')\n",
    "df.shape"
   ]
  },
  {
   "cell_type": "code",
   "execution_count": 45,
   "metadata": {},
   "outputs": [],
   "source": [
    "df = df.merge(valid_redf.drop_duplicates(subset='stereo_smiles')[['smiles', 'stereo_smiles']], left_index=True, right_on='stereo_smiles')"
   ]
  },
  {
   "cell_type": "code",
   "execution_count": 46,
   "metadata": {},
   "outputs": [
    {
     "data": {
      "text/plain": [
       "False"
      ]
     },
     "execution_count": 46,
     "metadata": {},
     "output_type": "execute_result"
    }
   ],
   "source": [
    "df.smiles.duplicated().any()"
   ]
  },
  {
   "cell_type": "code",
   "execution_count": 47,
   "metadata": {},
   "outputs": [
    {
     "data": {
      "text/plain": [
       "False"
      ]
     },
     "execution_count": 47,
     "metadata": {},
     "output_type": "execute_result"
    }
   ],
   "source": [
    "df.stereo_smiles.duplicated().any()"
   ]
  },
  {
   "cell_type": "code",
   "execution_count": 48,
   "metadata": {},
   "outputs": [],
   "source": [
    "# test = pd.read_csv('/projects/rlmolecule/pstjohn/spin_gnn/20210109_dft_ml_redox_data.csv.gz')\n",
    "\n",
    "# x = df.merge(test, left_on='stereo_smiles', right_on='smiles')\n",
    "# x.head()"
   ]
  },
  {
   "cell_type": "code",
   "execution_count": 49,
   "metadata": {},
   "outputs": [],
   "source": [
    "fdf = df.rename(columns={'smiles': 'err_smiles', 'stereo_smiles': 'smiles'})"
   ]
  },
  {
   "cell_type": "code",
   "execution_count": 50,
   "metadata": {},
   "outputs": [
    {
     "data": {
      "text/html": [
       "<div>\n",
       "<style scoped>\n",
       "    .dataframe tbody tr th:only-of-type {\n",
       "        vertical-align: middle;\n",
       "    }\n",
       "\n",
       "    .dataframe tbody tr th {\n",
       "        vertical-align: top;\n",
       "    }\n",
       "\n",
       "    .dataframe thead th {\n",
       "        text-align: right;\n",
       "    }\n",
       "</style>\n",
       "<table border=\"1\" class=\"dataframe\">\n",
       "  <thead>\n",
       "    <tr style=\"text-align: right;\">\n",
       "      <th></th>\n",
       "      <th>ionization energy</th>\n",
       "      <th>electron affinity</th>\n",
       "      <th>err_smiles</th>\n",
       "      <th>smiles</th>\n",
       "    </tr>\n",
       "  </thead>\n",
       "  <tbody>\n",
       "    <tr>\n",
       "      <th>457</th>\n",
       "      <td>0.913684</td>\n",
       "      <td>-0.292055</td>\n",
       "      <td>C#CC1=C(C(C)C)C(C2CC2)=C([O])CC1</td>\n",
       "      <td>C#CC1=C(C(C)C)C(C2CC2)=C([O])CC1</td>\n",
       "    </tr>\n",
       "    <tr>\n",
       "      <th>462</th>\n",
       "      <td>1.066037</td>\n",
       "      <td>-0.326042</td>\n",
       "      <td>C#C[CH]C(C)=C(C(=O)O)C(C)(C)C</td>\n",
       "      <td>C#C[CH]/C(C)=C(\\C(=O)O)C(C)(C)C</td>\n",
       "    </tr>\n",
       "    <tr>\n",
       "      <th>5941</th>\n",
       "      <td>NaN</td>\n",
       "      <td>-0.382259</td>\n",
       "      <td>CC(=C(C=C([O])O)C(C)(C)C)C(C)(C)C</td>\n",
       "      <td>C/C(=C(/C=C(\\[O])O)C(C)(C)C)C(C)(C)C</td>\n",
       "    </tr>\n",
       "    <tr>\n",
       "      <th>5921</th>\n",
       "      <td>0.844432</td>\n",
       "      <td>-0.547755</td>\n",
       "      <td>CC(=C(C(O)=C[O])C(C)(C)C)C(C)(C)C</td>\n",
       "      <td>C/C(=C(C(/O)=C/[O])\\C(C)(C)C)C(C)(C)C</td>\n",
       "    </tr>\n",
       "    <tr>\n",
       "      <th>5907</th>\n",
       "      <td>0.843045</td>\n",
       "      <td>-0.576871</td>\n",
       "      <td>CC(=C(C(O)=C[O])C(C)(C)C)C(C)C</td>\n",
       "      <td>C/C(=C(C(/O)=C/[O])\\C(C)(C)C)C(C)C</td>\n",
       "    </tr>\n",
       "    <tr>\n",
       "      <th>...</th>\n",
       "      <td>...</td>\n",
       "      <td>...</td>\n",
       "      <td>...</td>\n",
       "      <td>...</td>\n",
       "    </tr>\n",
       "    <tr>\n",
       "      <th>469</th>\n",
       "      <td>0.242474</td>\n",
       "      <td>-0.291457</td>\n",
       "      <td>[O]C=C(CCO)C1=C(C2CC2)CCCC1</td>\n",
       "      <td>[O]/C=C(\\CCO)C1=C(C2CC2)CCCC1</td>\n",
       "    </tr>\n",
       "    <tr>\n",
       "      <th>465</th>\n",
       "      <td>0.543834</td>\n",
       "      <td>-0.251810</td>\n",
       "      <td>[O]C=C1CCC=C(CO)C2=C1CCCC2</td>\n",
       "      <td>[O]/C=C1\\CCC=C(CO)C2=C1CCCC2</td>\n",
       "    </tr>\n",
       "    <tr>\n",
       "      <th>466</th>\n",
       "      <td>0.519780</td>\n",
       "      <td>-0.347701</td>\n",
       "      <td>[O]C=C1CCCCC2=C1CCC=C2CO</td>\n",
       "      <td>[O]/C=C1\\CCCCC2=C1CCC=C2CO</td>\n",
       "    </tr>\n",
       "    <tr>\n",
       "      <th>463</th>\n",
       "      <td>0.928242</td>\n",
       "      <td>-0.174722</td>\n",
       "      <td>[O]C1=C(CCCO)C(CO)=CC=CC1</td>\n",
       "      <td>[O]C1=C(CCCO)C(CO)=CC=CC1</td>\n",
       "    </tr>\n",
       "    <tr>\n",
       "      <th>467</th>\n",
       "      <td>0.648596</td>\n",
       "      <td>-0.466395</td>\n",
       "      <td>[O]C1=C2C(=CCC1)CCC=C2C1CC1</td>\n",
       "      <td>[O]C1=C2C(=CCC1)CCC=C2C1CC1</td>\n",
       "    </tr>\n",
       "  </tbody>\n",
       "</table>\n",
       "<p>3698 rows × 4 columns</p>\n",
       "</div>"
      ],
      "text/plain": [
       "      ionization energy  electron affinity                         err_smiles  \\\n",
       "457            0.913684          -0.292055   C#CC1=C(C(C)C)C(C2CC2)=C([O])CC1   \n",
       "462            1.066037          -0.326042      C#C[CH]C(C)=C(C(=O)O)C(C)(C)C   \n",
       "5941                NaN          -0.382259  CC(=C(C=C([O])O)C(C)(C)C)C(C)(C)C   \n",
       "5921           0.844432          -0.547755  CC(=C(C(O)=C[O])C(C)(C)C)C(C)(C)C   \n",
       "5907           0.843045          -0.576871     CC(=C(C(O)=C[O])C(C)(C)C)C(C)C   \n",
       "...                 ...                ...                                ...   \n",
       "469            0.242474          -0.291457        [O]C=C(CCO)C1=C(C2CC2)CCCC1   \n",
       "465            0.543834          -0.251810         [O]C=C1CCC=C(CO)C2=C1CCCC2   \n",
       "466            0.519780          -0.347701           [O]C=C1CCCCC2=C1CCC=C2CO   \n",
       "463            0.928242          -0.174722          [O]C1=C(CCCO)C(CO)=CC=CC1   \n",
       "467            0.648596          -0.466395        [O]C1=C2C(=CCC1)CCC=C2C1CC1   \n",
       "\n",
       "                                     smiles  \n",
       "457        C#CC1=C(C(C)C)C(C2CC2)=C([O])CC1  \n",
       "462         C#C[CH]/C(C)=C(\\C(=O)O)C(C)(C)C  \n",
       "5941   C/C(=C(/C=C(\\[O])O)C(C)(C)C)C(C)(C)C  \n",
       "5921  C/C(=C(C(/O)=C/[O])\\C(C)(C)C)C(C)(C)C  \n",
       "5907     C/C(=C(C(/O)=C/[O])\\C(C)(C)C)C(C)C  \n",
       "...                                     ...  \n",
       "469           [O]/C=C(\\CCO)C1=C(C2CC2)CCCC1  \n",
       "465            [O]/C=C1\\CCC=C(CO)C2=C1CCCC2  \n",
       "466              [O]/C=C1\\CCCCC2=C1CCC=C2CO  \n",
       "463               [O]C1=C(CCCO)C(CO)=CC=CC1  \n",
       "467             [O]C1=C2C(=CCC1)CCC=C2C1CC1  \n",
       "\n",
       "[3698 rows x 4 columns]"
      ]
     },
     "execution_count": 50,
     "metadata": {},
     "output_type": "execute_result"
    }
   ],
   "source": [
    "fdf"
   ]
  },
  {
   "cell_type": "code",
   "execution_count": 51,
   "metadata": {},
   "outputs": [],
   "source": [
    "fdf.to_csv('/projects/rlmolecule/pstjohn/spin_gnn/20210216_fixed_rl_redox_data.csv', index=False)"
   ]
  },
  {
   "cell_type": "code",
   "execution_count": 46,
   "metadata": {},
   "outputs": [
    {
     "data": {
      "text/html": [
       "<div>\n",
       "<style scoped>\n",
       "    .dataframe tbody tr th:only-of-type {\n",
       "        vertical-align: middle;\n",
       "    }\n",
       "\n",
       "    .dataframe tbody tr th {\n",
       "        vertical-align: top;\n",
       "    }\n",
       "\n",
       "    .dataframe thead th {\n",
       "        text-align: right;\n",
       "    }\n",
       "</style>\n",
       "<table border=\"1\" class=\"dataframe\">\n",
       "  <thead>\n",
       "    <tr style=\"text-align: right;\">\n",
       "      <th></th>\n",
       "      <th>ionization energy</th>\n",
       "      <th>electron affinity</th>\n",
       "      <th>err_smiles</th>\n",
       "      <th>smiles</th>\n",
       "    </tr>\n",
       "  </thead>\n",
       "  <tbody>\n",
       "    <tr>\n",
       "      <th>457</th>\n",
       "      <td>0.913684</td>\n",
       "      <td>-0.292055</td>\n",
       "      <td>C#CC1=C(C(C)C)C(C2CC2)=C([O])CC1</td>\n",
       "      <td>C#CC1=C(C(C)C)C(C2CC2)=C([O])CC1</td>\n",
       "    </tr>\n",
       "    <tr>\n",
       "      <th>462</th>\n",
       "      <td>1.066037</td>\n",
       "      <td>-0.326042</td>\n",
       "      <td>C#C[CH]C(C)=C(C(=O)O)C(C)(C)C</td>\n",
       "      <td>C#C[CH]/C(C)=C(\\C(=O)O)C(C)(C)C</td>\n",
       "    </tr>\n",
       "    <tr>\n",
       "      <th>5941</th>\n",
       "      <td>-0.883864</td>\n",
       "      <td>-0.382259</td>\n",
       "      <td>CC(=C(C=C([O])O)C(C)(C)C)C(C)(C)C</td>\n",
       "      <td>C/C(=C(/C=C(\\[O])O)C(C)(C)C)C(C)(C)C</td>\n",
       "    </tr>\n",
       "    <tr>\n",
       "      <th>5921</th>\n",
       "      <td>0.844432</td>\n",
       "      <td>-0.547755</td>\n",
       "      <td>CC(=C(C(O)=C[O])C(C)(C)C)C(C)(C)C</td>\n",
       "      <td>C/C(=C(C(/O)=C/[O])\\C(C)(C)C)C(C)(C)C</td>\n",
       "    </tr>\n",
       "    <tr>\n",
       "      <th>5907</th>\n",
       "      <td>0.843045</td>\n",
       "      <td>-0.576871</td>\n",
       "      <td>CC(=C(C(O)=C[O])C(C)(C)C)C(C)C</td>\n",
       "      <td>C/C(=C(C(/O)=C/[O])\\C(C)(C)C)C(C)C</td>\n",
       "    </tr>\n",
       "    <tr>\n",
       "      <th>...</th>\n",
       "      <td>...</td>\n",
       "      <td>...</td>\n",
       "      <td>...</td>\n",
       "      <td>...</td>\n",
       "    </tr>\n",
       "    <tr>\n",
       "      <th>469</th>\n",
       "      <td>0.242474</td>\n",
       "      <td>-0.291457</td>\n",
       "      <td>[O]C=C(CCO)C1=C(C2CC2)CCCC1</td>\n",
       "      <td>[O]/C=C(\\CCO)C1=C(C2CC2)CCCC1</td>\n",
       "    </tr>\n",
       "    <tr>\n",
       "      <th>465</th>\n",
       "      <td>0.543834</td>\n",
       "      <td>-0.251810</td>\n",
       "      <td>[O]C=C1CCC=C(CO)C2=C1CCCC2</td>\n",
       "      <td>[O]/C=C1\\CCC=C(CO)C2=C1CCCC2</td>\n",
       "    </tr>\n",
       "    <tr>\n",
       "      <th>466</th>\n",
       "      <td>0.519780</td>\n",
       "      <td>-0.347701</td>\n",
       "      <td>[O]C=C1CCCCC2=C1CCC=C2CO</td>\n",
       "      <td>[O]/C=C1\\CCCCC2=C1CCC=C2CO</td>\n",
       "    </tr>\n",
       "    <tr>\n",
       "      <th>463</th>\n",
       "      <td>0.928242</td>\n",
       "      <td>-0.174722</td>\n",
       "      <td>[O]C1=C(CCCO)C(CO)=CC=CC1</td>\n",
       "      <td>[O]C1=C(CCCO)C(CO)=CC=CC1</td>\n",
       "    </tr>\n",
       "    <tr>\n",
       "      <th>467</th>\n",
       "      <td>0.648596</td>\n",
       "      <td>-0.466395</td>\n",
       "      <td>[O]C1=C2C(=CCC1)CCC=C2C1CC1</td>\n",
       "      <td>[O]C1=C2C(=CCC1)CCC=C2C1CC1</td>\n",
       "    </tr>\n",
       "  </tbody>\n",
       "</table>\n",
       "<p>3723 rows × 4 columns</p>\n",
       "</div>"
      ],
      "text/plain": [
       "      ionization energy  electron affinity                         err_smiles  \\\n",
       "457            0.913684          -0.292055   C#CC1=C(C(C)C)C(C2CC2)=C([O])CC1   \n",
       "462            1.066037          -0.326042      C#C[CH]C(C)=C(C(=O)O)C(C)(C)C   \n",
       "5941          -0.883864          -0.382259  CC(=C(C=C([O])O)C(C)(C)C)C(C)(C)C   \n",
       "5921           0.844432          -0.547755  CC(=C(C(O)=C[O])C(C)(C)C)C(C)(C)C   \n",
       "5907           0.843045          -0.576871     CC(=C(C(O)=C[O])C(C)(C)C)C(C)C   \n",
       "...                 ...                ...                                ...   \n",
       "469            0.242474          -0.291457        [O]C=C(CCO)C1=C(C2CC2)CCCC1   \n",
       "465            0.543834          -0.251810         [O]C=C1CCC=C(CO)C2=C1CCCC2   \n",
       "466            0.519780          -0.347701           [O]C=C1CCCCC2=C1CCC=C2CO   \n",
       "463            0.928242          -0.174722          [O]C1=C(CCCO)C(CO)=CC=CC1   \n",
       "467            0.648596          -0.466395        [O]C1=C2C(=CCC1)CCC=C2C1CC1   \n",
       "\n",
       "                                     smiles  \n",
       "457        C#CC1=C(C(C)C)C(C2CC2)=C([O])CC1  \n",
       "462         C#C[CH]/C(C)=C(\\C(=O)O)C(C)(C)C  \n",
       "5941   C/C(=C(/C=C(\\[O])O)C(C)(C)C)C(C)(C)C  \n",
       "5921  C/C(=C(C(/O)=C/[O])\\C(C)(C)C)C(C)(C)C  \n",
       "5907     C/C(=C(C(/O)=C/[O])\\C(C)(C)C)C(C)C  \n",
       "...                                     ...  \n",
       "469           [O]/C=C(\\CCO)C1=C(C2CC2)CCCC1  \n",
       "465            [O]/C=C1\\CCC=C(CO)C2=C1CCCC2  \n",
       "466              [O]/C=C1\\CCCCC2=C1CCC=C2CO  \n",
       "463               [O]C1=C(CCCO)C(CO)=CC=CC1  \n",
       "467             [O]C1=C2C(=CCC1)CCC=C2C1CC1  \n",
       "\n",
       "[3723 rows x 4 columns]"
      ]
     },
     "execution_count": 46,
     "metadata": {},
     "output_type": "execute_result"
    }
   ],
   "source": [
    "fdf"
   ]
  },
  {
   "cell_type": "code",
   "execution_count": 258,
   "metadata": {},
   "outputs": [],
   "source": [
    "spin_bv = pd.read_csv('/projects/rlmolecule/pstjohn/spin_gnn/20210109_dft_ml_spin_bv_data.csv.gz')"
   ]
  },
  {
   "cell_type": "code",
   "execution_count": 263,
   "metadata": {},
   "outputs": [
    {
     "data": {
      "text/plain": [
       "(54863, 6)"
      ]
     },
     "execution_count": 263,
     "metadata": {},
     "output_type": "execute_result"
    }
   ],
   "source": [
    "spin_bv.shape"
   ]
  },
  {
   "cell_type": "code",
   "execution_count": 281,
   "metadata": {},
   "outputs": [],
   "source": [
    "spin_bv_fixed = spin_bv.merge(fdf, left_on='smiles', right_on='err_smiles', how='inner').drop('smiles_x', 1).rename(columns={'smiles_y': 'smiles'})\n",
    "spin_bv_fixed.to_csv('/projects/rlmolecule/pstjohn/spin_gnn/20210211_fixed_rl_spin_bv_data.csv.gz', index=False, compression='gzip')"
   ]
  },
  {
   "cell_type": "code",
   "execution_count": 283,
   "metadata": {},
   "outputs": [
    {
     "data": {
      "text/html": [
       "<div>\n",
       "<style scoped>\n",
       "    .dataframe tbody tr th:only-of-type {\n",
       "        vertical-align: middle;\n",
       "    }\n",
       "\n",
       "    .dataframe tbody tr th {\n",
       "        vertical-align: top;\n",
       "    }\n",
       "\n",
       "    .dataframe thead th {\n",
       "        text-align: right;\n",
       "    }\n",
       "</style>\n",
       "<table border=\"1\" class=\"dataframe\">\n",
       "  <thead>\n",
       "    <tr style=\"text-align: right;\">\n",
       "      <th></th>\n",
       "      <th>buried_vol</th>\n",
       "      <th>pred buried_vol</th>\n",
       "      <th>fractional_spin</th>\n",
       "      <th>pred fractional_spin</th>\n",
       "      <th>atom_index</th>\n",
       "      <th>ionization energy</th>\n",
       "      <th>electron affinity</th>\n",
       "      <th>err_smiles</th>\n",
       "      <th>smiles</th>\n",
       "    </tr>\n",
       "  </thead>\n",
       "  <tbody>\n",
       "    <tr>\n",
       "      <th>0</th>\n",
       "      <td>40.057887</td>\n",
       "      <td>37.746520</td>\n",
       "      <td>0.085155</td>\n",
       "      <td>0.130998</td>\n",
       "      <td>0</td>\n",
       "      <td>0.194136</td>\n",
       "      <td>NaN</td>\n",
       "      <td>C=C(CO)C1=C([CH]O)C(=O)C=C(C)C1=O</td>\n",
       "      <td>C=C(CO)C1=C([CH]O)C(=O)C=C(C)C1=O</td>\n",
       "    </tr>\n",
       "    <tr>\n",
       "      <th>1</th>\n",
       "      <td>54.431655</td>\n",
       "      <td>53.257458</td>\n",
       "      <td>0.024316</td>\n",
       "      <td>0.055328</td>\n",
       "      <td>1</td>\n",
       "      <td>0.194136</td>\n",
       "      <td>NaN</td>\n",
       "      <td>C=C(CO)C1=C([CH]O)C(=O)C=C(C)C1=O</td>\n",
       "      <td>C=C(CO)C1=C([CH]O)C(=O)C=C(C)C1=O</td>\n",
       "    </tr>\n",
       "    <tr>\n",
       "      <th>2</th>\n",
       "      <td>41.549793</td>\n",
       "      <td>40.567318</td>\n",
       "      <td>0.009385</td>\n",
       "      <td>0.004386</td>\n",
       "      <td>2</td>\n",
       "      <td>0.194136</td>\n",
       "      <td>NaN</td>\n",
       "      <td>C=C(CO)C1=C([CH]O)C(=O)C=C(C)C1=O</td>\n",
       "      <td>C=C(CO)C1=C([CH]O)C(=O)C=C(C)C1=O</td>\n",
       "    </tr>\n",
       "    <tr>\n",
       "      <th>3</th>\n",
       "      <td>32.768445</td>\n",
       "      <td>32.566360</td>\n",
       "      <td>0.001184</td>\n",
       "      <td>0.002064</td>\n",
       "      <td>3</td>\n",
       "      <td>0.194136</td>\n",
       "      <td>NaN</td>\n",
       "      <td>C=C(CO)C1=C([CH]O)C(=O)C=C(C)C1=O</td>\n",
       "      <td>C=C(CO)C1=C([CH]O)C(=O)C=C(C)C1=O</td>\n",
       "    </tr>\n",
       "    <tr>\n",
       "      <th>4</th>\n",
       "      <td>62.511166</td>\n",
       "      <td>63.582790</td>\n",
       "      <td>0.345404</td>\n",
       "      <td>0.263097</td>\n",
       "      <td>4</td>\n",
       "      <td>0.194136</td>\n",
       "      <td>NaN</td>\n",
       "      <td>C=C(CO)C1=C([CH]O)C(=O)C=C(C)C1=O</td>\n",
       "      <td>C=C(CO)C1=C([CH]O)C(=O)C=C(C)C1=O</td>\n",
       "    </tr>\n",
       "    <tr>\n",
       "      <th>...</th>\n",
       "      <td>...</td>\n",
       "      <td>...</td>\n",
       "      <td>...</td>\n",
       "      <td>...</td>\n",
       "      <td>...</td>\n",
       "      <td>...</td>\n",
       "      <td>...</td>\n",
       "      <td>...</td>\n",
       "      <td>...</td>\n",
       "    </tr>\n",
       "    <tr>\n",
       "      <th>54288</th>\n",
       "      <td>41.773301</td>\n",
       "      <td>41.901000</td>\n",
       "      <td>0.003670</td>\n",
       "      <td>0.002244</td>\n",
       "      <td>9</td>\n",
       "      <td>NaN</td>\n",
       "      <td>0.147084</td>\n",
       "      <td>CC(C)(C)C1=C([CH]O)CCC(=O)C1=O</td>\n",
       "      <td>CC(C)(C)C1=C([CH]O)CCC(=O)C1=O</td>\n",
       "    </tr>\n",
       "    <tr>\n",
       "      <th>54289</th>\n",
       "      <td>45.459577</td>\n",
       "      <td>45.216320</td>\n",
       "      <td>0.000288</td>\n",
       "      <td>0.004649</td>\n",
       "      <td>10</td>\n",
       "      <td>NaN</td>\n",
       "      <td>0.147084</td>\n",
       "      <td>CC(C)(C)C1=C([CH]O)CCC(=O)C1=O</td>\n",
       "      <td>CC(C)(C)C1=C([CH]O)CCC(=O)C1=O</td>\n",
       "    </tr>\n",
       "    <tr>\n",
       "      <th>54290</th>\n",
       "      <td>31.590982</td>\n",
       "      <td>31.469965</td>\n",
       "      <td>0.012289</td>\n",
       "      <td>0.006706</td>\n",
       "      <td>11</td>\n",
       "      <td>NaN</td>\n",
       "      <td>0.147084</td>\n",
       "      <td>CC(C)(C)C1=C([CH]O)CCC(=O)C1=O</td>\n",
       "      <td>CC(C)(C)C1=C([CH]O)CCC(=O)C1=O</td>\n",
       "    </tr>\n",
       "    <tr>\n",
       "      <th>54291</th>\n",
       "      <td>56.270252</td>\n",
       "      <td>58.166733</td>\n",
       "      <td>0.013208</td>\n",
       "      <td>0.017550</td>\n",
       "      <td>12</td>\n",
       "      <td>NaN</td>\n",
       "      <td>0.147084</td>\n",
       "      <td>CC(C)(C)C1=C([CH]O)CCC(=O)C1=O</td>\n",
       "      <td>CC(C)(C)C1=C([CH]O)CCC(=O)C1=O</td>\n",
       "    </tr>\n",
       "    <tr>\n",
       "      <th>54292</th>\n",
       "      <td>41.856587</td>\n",
       "      <td>40.168290</td>\n",
       "      <td>0.185407</td>\n",
       "      <td>0.129396</td>\n",
       "      <td>13</td>\n",
       "      <td>NaN</td>\n",
       "      <td>0.147084</td>\n",
       "      <td>CC(C)(C)C1=C([CH]O)CCC(=O)C1=O</td>\n",
       "      <td>CC(C)(C)C1=C([CH]O)CCC(=O)C1=O</td>\n",
       "    </tr>\n",
       "  </tbody>\n",
       "</table>\n",
       "<p>54293 rows × 9 columns</p>\n",
       "</div>"
      ],
      "text/plain": [
       "       buried_vol   pred buried_vol  fractional_spin  pred fractional_spin  \\\n",
       "0       40.057887         37.746520         0.085155              0.130998   \n",
       "1       54.431655         53.257458         0.024316              0.055328   \n",
       "2       41.549793         40.567318         0.009385              0.004386   \n",
       "3       32.768445         32.566360         0.001184              0.002064   \n",
       "4       62.511166         63.582790         0.345404              0.263097   \n",
       "...           ...               ...              ...                   ...   \n",
       "54288   41.773301         41.901000         0.003670              0.002244   \n",
       "54289   45.459577         45.216320         0.000288              0.004649   \n",
       "54290   31.590982         31.469965         0.012289              0.006706   \n",
       "54291   56.270252         58.166733         0.013208              0.017550   \n",
       "54292   41.856587         40.168290         0.185407              0.129396   \n",
       "\n",
       "       atom_index  ionization energy  electron affinity  \\\n",
       "0               0           0.194136                NaN   \n",
       "1               1           0.194136                NaN   \n",
       "2               2           0.194136                NaN   \n",
       "3               3           0.194136                NaN   \n",
       "4               4           0.194136                NaN   \n",
       "...           ...                ...                ...   \n",
       "54288           9                NaN           0.147084   \n",
       "54289          10                NaN           0.147084   \n",
       "54290          11                NaN           0.147084   \n",
       "54291          12                NaN           0.147084   \n",
       "54292          13                NaN           0.147084   \n",
       "\n",
       "                              err_smiles                             smiles  \n",
       "0      C=C(CO)C1=C([CH]O)C(=O)C=C(C)C1=O  C=C(CO)C1=C([CH]O)C(=O)C=C(C)C1=O  \n",
       "1      C=C(CO)C1=C([CH]O)C(=O)C=C(C)C1=O  C=C(CO)C1=C([CH]O)C(=O)C=C(C)C1=O  \n",
       "2      C=C(CO)C1=C([CH]O)C(=O)C=C(C)C1=O  C=C(CO)C1=C([CH]O)C(=O)C=C(C)C1=O  \n",
       "3      C=C(CO)C1=C([CH]O)C(=O)C=C(C)C1=O  C=C(CO)C1=C([CH]O)C(=O)C=C(C)C1=O  \n",
       "4      C=C(CO)C1=C([CH]O)C(=O)C=C(C)C1=O  C=C(CO)C1=C([CH]O)C(=O)C=C(C)C1=O  \n",
       "...                                  ...                                ...  \n",
       "54288     CC(C)(C)C1=C([CH]O)CCC(=O)C1=O     CC(C)(C)C1=C([CH]O)CCC(=O)C1=O  \n",
       "54289     CC(C)(C)C1=C([CH]O)CCC(=O)C1=O     CC(C)(C)C1=C([CH]O)CCC(=O)C1=O  \n",
       "54290     CC(C)(C)C1=C([CH]O)CCC(=O)C1=O     CC(C)(C)C1=C([CH]O)CCC(=O)C1=O  \n",
       "54291     CC(C)(C)C1=C([CH]O)CCC(=O)C1=O     CC(C)(C)C1=C([CH]O)CCC(=O)C1=O  \n",
       "54292     CC(C)(C)C1=C([CH]O)CCC(=O)C1=O     CC(C)(C)C1=C([CH]O)CCC(=O)C1=O  \n",
       "\n",
       "[54293 rows x 9 columns]"
      ]
     },
     "execution_count": 283,
     "metadata": {},
     "output_type": "execute_result"
    }
   ],
   "source": [
    "spin_bv_fixed"
   ]
  },
  {
   "cell_type": "code",
   "execution_count": null,
   "metadata": {},
   "outputs": [],
   "source": []
  }
 ],
 "metadata": {
  "kernelspec": {
   "display_name": "Python 3",
   "language": "python",
   "name": "python3"
  },
  "language_info": {
   "codemirror_mode": {
    "name": "ipython",
    "version": 3
   },
   "file_extension": ".py",
   "mimetype": "text/x-python",
   "name": "python",
   "nbconvert_exporter": "python",
   "pygments_lexer": "ipython3",
   "version": "3.7.9"
  }
 },
 "nbformat": 4,
 "nbformat_minor": 4
}
