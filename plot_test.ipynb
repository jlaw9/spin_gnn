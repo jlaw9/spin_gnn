{
 "cells": [
  {
   "cell_type": "code",
   "execution_count": 1,
   "metadata": {},
   "outputs": [],
   "source": [
    "import numpy as np\n",
    "import pandas as pd\n",
    "\n",
    "import matplotlib.pyplot as plt\n",
    "import seaborn as sns\n",
    "sns.set(context='talk', style='ticks',\n",
    "        color_codes=True, rc={'legend.frameon': False})\n",
    "\n",
    "%matplotlib inline"
   ]
  },
  {
   "cell_type": "code",
   "execution_count": 2,
   "metadata": {},
   "outputs": [
    {
     "name": "stdout",
     "output_type": "stream",
     "text": [
      "Thu Aug 13 07:18:00 2020       \n",
      "+-----------------------------------------------------------------------------+\n",
      "| NVIDIA-SMI 440.82       Driver Version: 440.82       CUDA Version: 10.2     |\n",
      "|-------------------------------+----------------------+----------------------+\n",
      "| GPU  Name        Persistence-M| Bus-Id        Disp.A | Volatile Uncorr. ECC |\n",
      "| Fan  Temp  Perf  Pwr:Usage/Cap|         Memory-Usage | GPU-Util  Compute M. |\n",
      "|===============================+======================+======================|\n",
      "|   0  Quadro GV100        Off  | 00000000:37:00.0 Off |                  Off |\n",
      "| 30%   43C    P2    35W / 250W |   1330MiB / 32508MiB |      0%      Default |\n",
      "+-------------------------------+----------------------+----------------------+\n",
      "                                                                               \n",
      "+-----------------------------------------------------------------------------+\n",
      "| Processes:                                                       GPU Memory |\n",
      "|  GPU       PID   Type   Process name                             Usage      |\n",
      "|=============================================================================|\n",
      "|    0      6666      G   paraview                                      77MiB |\n",
      "|    0      8098      G   ...t/nrel/apps/paraview/5.6.0/lib/paraview    87MiB |\n",
      "|    0      9462      G   paraview                                     204MiB |\n",
      "|    0     16750      G   paraview                                     116MiB |\n",
      "|    0     19337      G   /usr/bin/X                                   175MiB |\n",
      "|    0     27145      G   ...t/nrel/apps/paraview/5.6.0/lib/paraview   168MiB |\n",
      "|    0     34891      C   ...nwilson/miniconda3/envs/mytf/bin/python   445MiB |\n",
      "+-----------------------------------------------------------------------------+\n",
      "WARNING: infoROM is corrupted at gpu 0000:37:00.0\n"
     ]
    }
   ],
   "source": [
    "!nvidia-smi"
   ]
  },
  {
   "cell_type": "code",
   "execution_count": 3,
   "metadata": {},
   "outputs": [
    {
     "data": {
      "image/png": "[encoded data removed]",
      "text/plain": [
       "<Figure size 432x288 with 1 Axes>"
      ]
     },
     "metadata": {
      "needs_background": "light"
     },
     "output_type": "display_data"
    }
   ],
   "source": [
    "pd.read_csv('20200812_kl_divergence_faster_lr/log.csv').set_index('epoch').plot()\n",
    "plt.yscale('log')"
   ]
  },
  {
   "cell_type": "code",
   "execution_count": 4,
   "metadata": {},
   "outputs": [],
   "source": [
    "import tensorflow as tf\n",
    "gpus = tf.config.experimental.list_physical_devices('GPU')\n",
    "if gpus:\n",
    "    # Currently, memory growth needs to be the same across GPUs\n",
    "    for gpu in gpus:\n",
    "        tf.config.experimental.set_memory_growth(gpu, True)\n",
    "import nfp"
   ]
  },
  {
   "cell_type": "code",
   "execution_count": 5,
   "metadata": {},
   "outputs": [],
   "source": [
    "from preprocess_inputs import preprocessor\n",
    "preprocessor.from_json('tfrecords/preprocessor.json')\n",
    "\n",
    "from loss import AtomInfMask, KLWithLogits\n",
    "\n",
    "model = tf.keras.models.load_model(\n",
    "    '20200812_kl_divergence_faster_lr/best_model.hdf5',\n",
    "    custom_objects={**nfp.custom_objects,\n",
    "                    **{'AtomInfMask': AtomInfMask, 'KLWithLogits': KLWithLogits}})"
   ]
  },
  {
   "cell_type": "code",
   "execution_count": 6,
   "metadata": {},
   "outputs": [],
   "source": [
    "cdf = pd.read_csv('/projects/rlmolecule/pstjohn/atom_spins/cdf_spins.csv.gz')\n",
    "test = np.load('split.npz', allow_pickle=True)['test']"
   ]
  },
  {
   "cell_type": "code",
   "execution_count": 7,
   "metadata": {},
   "outputs": [
    {
     "data": {
      "text/html": [
       "<div>\n",
       "<style scoped>\n",
       "    .dataframe tbody tr th:only-of-type {\n",
       "        vertical-align: middle;\n",
       "    }\n",
       "\n",
       "    .dataframe tbody tr th {\n",
       "        vertical-align: top;\n",
       "    }\n",
       "\n",
       "    .dataframe thead th {\n",
       "        text-align: right;\n",
       "    }\n",
       "</style>\n",
       "<table border=\"1\" class=\"dataframe\">\n",
       "  <thead>\n",
       "    <tr style=\"text-align: right;\">\n",
       "      <th>atom_index</th>\n",
       "      <th>0</th>\n",
       "      <th>1</th>\n",
       "      <th>2</th>\n",
       "      <th>3</th>\n",
       "      <th>4</th>\n",
       "      <th>5</th>\n",
       "      <th>6</th>\n",
       "      <th>7</th>\n",
       "      <th>8</th>\n",
       "      <th>9</th>\n",
       "      <th>...</th>\n",
       "      <th>62</th>\n",
       "      <th>63</th>\n",
       "      <th>64</th>\n",
       "      <th>65</th>\n",
       "      <th>66</th>\n",
       "      <th>67</th>\n",
       "      <th>68</th>\n",
       "      <th>69</th>\n",
       "      <th>70</th>\n",
       "      <th>71</th>\n",
       "    </tr>\n",
       "    <tr>\n",
       "      <th>smiles</th>\n",
       "      <th></th>\n",
       "      <th></th>\n",
       "      <th></th>\n",
       "      <th></th>\n",
       "      <th></th>\n",
       "      <th></th>\n",
       "      <th></th>\n",
       "      <th></th>\n",
       "      <th></th>\n",
       "      <th></th>\n",
       "      <th></th>\n",
       "      <th></th>\n",
       "      <th></th>\n",
       "      <th></th>\n",
       "      <th></th>\n",
       "      <th></th>\n",
       "      <th></th>\n",
       "      <th></th>\n",
       "      <th></th>\n",
       "      <th></th>\n",
       "      <th></th>\n",
       "    </tr>\n",
       "  </thead>\n",
       "  <tbody>\n",
       "    <tr>\n",
       "      <th>CO/[C]=C1/CCCCC1=O</th>\n",
       "      <td>0.001776</td>\n",
       "      <td>0.103081</td>\n",
       "      <td>0.702058</td>\n",
       "      <td>0.109981</td>\n",
       "      <td>0.001902</td>\n",
       "      <td>0.002830</td>\n",
       "      <td>0.001808</td>\n",
       "      <td>0.005006</td>\n",
       "      <td>0.042844</td>\n",
       "      <td>0.010367</td>\n",
       "      <td>...</td>\n",
       "      <td>NaN</td>\n",
       "      <td>NaN</td>\n",
       "      <td>NaN</td>\n",
       "      <td>NaN</td>\n",
       "      <td>NaN</td>\n",
       "      <td>NaN</td>\n",
       "      <td>NaN</td>\n",
       "      <td>NaN</td>\n",
       "      <td>NaN</td>\n",
       "      <td>NaN</td>\n",
       "    </tr>\n",
       "    <tr>\n",
       "      <th>C[CH]C[C@@H]1COOO1</th>\n",
       "      <td>0.047013</td>\n",
       "      <td>0.718680</td>\n",
       "      <td>0.057055</td>\n",
       "      <td>0.019739</td>\n",
       "      <td>0.001834</td>\n",
       "      <td>0.000174</td>\n",
       "      <td>0.000294</td>\n",
       "      <td>0.000185</td>\n",
       "      <td>0.005816</td>\n",
       "      <td>0.043117</td>\n",
       "      <td>...</td>\n",
       "      <td>NaN</td>\n",
       "      <td>NaN</td>\n",
       "      <td>NaN</td>\n",
       "      <td>NaN</td>\n",
       "      <td>NaN</td>\n",
       "      <td>NaN</td>\n",
       "      <td>NaN</td>\n",
       "      <td>NaN</td>\n",
       "      <td>NaN</td>\n",
       "      <td>NaN</td>\n",
       "    </tr>\n",
       "    <tr>\n",
       "      <th>CC[C@@H](F)C(=[N])N</th>\n",
       "      <td>0.000306</td>\n",
       "      <td>0.000109</td>\n",
       "      <td>0.074523</td>\n",
       "      <td>0.005681</td>\n",
       "      <td>0.122172</td>\n",
       "      <td>0.762786</td>\n",
       "      <td>0.020510</td>\n",
       "      <td>0.000498</td>\n",
       "      <td>0.000044</td>\n",
       "      <td>0.000007</td>\n",
       "      <td>...</td>\n",
       "      <td>NaN</td>\n",
       "      <td>NaN</td>\n",
       "      <td>NaN</td>\n",
       "      <td>NaN</td>\n",
       "      <td>NaN</td>\n",
       "      <td>NaN</td>\n",
       "      <td>NaN</td>\n",
       "      <td>NaN</td>\n",
       "      <td>NaN</td>\n",
       "      <td>NaN</td>\n",
       "    </tr>\n",
       "    <tr>\n",
       "      <th>[CH2]Nc1ccc(C)c(Cl)c1</th>\n",
       "      <td>0.597656</td>\n",
       "      <td>0.083265</td>\n",
       "      <td>0.045439</td>\n",
       "      <td>0.047257</td>\n",
       "      <td>0.023602</td>\n",
       "      <td>0.053582</td>\n",
       "      <td>0.002519</td>\n",
       "      <td>0.020194</td>\n",
       "      <td>0.000900</td>\n",
       "      <td>0.065124</td>\n",
       "      <td>...</td>\n",
       "      <td>NaN</td>\n",
       "      <td>NaN</td>\n",
       "      <td>NaN</td>\n",
       "      <td>NaN</td>\n",
       "      <td>NaN</td>\n",
       "      <td>NaN</td>\n",
       "      <td>NaN</td>\n",
       "      <td>NaN</td>\n",
       "      <td>NaN</td>\n",
       "      <td>NaN</td>\n",
       "    </tr>\n",
       "    <tr>\n",
       "      <th>NCc1nc[c]cc1F</th>\n",
       "      <td>0.000266</td>\n",
       "      <td>0.004885</td>\n",
       "      <td>0.036233</td>\n",
       "      <td>0.059242</td>\n",
       "      <td>0.046752</td>\n",
       "      <td>0.721763</td>\n",
       "      <td>0.058991</td>\n",
       "      <td>0.046018</td>\n",
       "      <td>0.003389</td>\n",
       "      <td>0.000182</td>\n",
       "      <td>...</td>\n",
       "      <td>NaN</td>\n",
       "      <td>NaN</td>\n",
       "      <td>NaN</td>\n",
       "      <td>NaN</td>\n",
       "      <td>NaN</td>\n",
       "      <td>NaN</td>\n",
       "      <td>NaN</td>\n",
       "      <td>NaN</td>\n",
       "      <td>NaN</td>\n",
       "      <td>NaN</td>\n",
       "    </tr>\n",
       "  </tbody>\n",
       "</table>\n",
       "<p>5 rows × 72 columns</p>\n",
       "</div>"
      ],
      "text/plain": [
       "atom_index                   0         1         2         3         4   \\\n",
       "smiles                                                                    \n",
       "CO/[C]=C1/CCCCC1=O     0.001776  0.103081  0.702058  0.109981  0.001902   \n",
       "C[CH]C[C@@H]1COOO1     0.047013  0.718680  0.057055  0.019739  0.001834   \n",
       "CC[C@@H](F)C(=[N])N    0.000306  0.000109  0.074523  0.005681  0.122172   \n",
       "[CH2]Nc1ccc(C)c(Cl)c1  0.597656  0.083265  0.045439  0.047257  0.023602   \n",
       "NCc1nc[c]cc1F          0.000266  0.004885  0.036233  0.059242  0.046752   \n",
       "\n",
       "atom_index                   5         6         7         8         9   ...  \\\n",
       "smiles                                                                   ...   \n",
       "CO/[C]=C1/CCCCC1=O     0.002830  0.001808  0.005006  0.042844  0.010367  ...   \n",
       "C[CH]C[C@@H]1COOO1     0.000174  0.000294  0.000185  0.005816  0.043117  ...   \n",
       "CC[C@@H](F)C(=[N])N    0.762786  0.020510  0.000498  0.000044  0.000007  ...   \n",
       "[CH2]Nc1ccc(C)c(Cl)c1  0.053582  0.002519  0.020194  0.000900  0.065124  ...   \n",
       "NCc1nc[c]cc1F          0.721763  0.058991  0.046018  0.003389  0.000182  ...   \n",
       "\n",
       "atom_index             62  63  64  65  66  67  68  69  70  71  \n",
       "smiles                                                         \n",
       "CO/[C]=C1/CCCCC1=O    NaN NaN NaN NaN NaN NaN NaN NaN NaN NaN  \n",
       "C[CH]C[C@@H]1COOO1    NaN NaN NaN NaN NaN NaN NaN NaN NaN NaN  \n",
       "CC[C@@H](F)C(=[N])N   NaN NaN NaN NaN NaN NaN NaN NaN NaN NaN  \n",
       "[CH2]Nc1ccc(C)c(Cl)c1 NaN NaN NaN NaN NaN NaN NaN NaN NaN NaN  \n",
       "NCc1nc[c]cc1F         NaN NaN NaN NaN NaN NaN NaN NaN NaN NaN  \n",
       "\n",
       "[5 rows x 72 columns]"
      ]
     },
     "execution_count": 7,
     "metadata": {},
     "output_type": "execute_result"
    }
   ],
   "source": [
    "cdf_test = cdf[cdf.smiles.isin(test)].copy()\n",
    "cdf_test['fractional_spin'] = cdf_test.groupby('smiles').spin.apply(lambda x: x.abs() / x.abs().sum())\n",
    "cdf_test_pivot = cdf_test.pivot(index='smiles', columns='atom_index', values='fractional_spin')\n",
    "cdf_test_pivot = cdf_test_pivot.reindex(test)\n",
    "cdf_test_pivot.head()"
   ]
  },
  {
   "cell_type": "code",
   "execution_count": 8,
   "metadata": {},
   "outputs": [],
   "source": [
    "test_dataset = tf.data.Dataset.from_generator(\n",
    "    lambda: (preprocessor.construct_feature_matrices(smiles, train=False) for smiles in test),\n",
    "    output_types=preprocessor.output_types,\n",
    "    output_shapes=preprocessor.output_shapes)\\\n",
    "    .padded_batch(batch_size=128, padded_shapes=preprocessor.padded_shapes(max_atoms=cdf_test_pivot.shape[1]),  # explicit padding required for consistent output shape\n",
    "                  padding_values=preprocessor.padding_values)"
   ]
  },
  {
   "cell_type": "code",
   "execution_count": 9,
   "metadata": {},
   "outputs": [
    {
     "name": "stdout",
     "output_type": "stream",
     "text": [
      "     16/Unknown - 2s 99ms/step "
     ]
    },
    {
     "name": "stderr",
     "output_type": "stream",
     "text": [
      "RDKit WARNING: [07:19:43] Conflicting single bond directions around double bond at index 2.\n",
      "RDKit WARNING: [07:19:43]   BondStereo set to STEREONONE and single bond directions set to NONE.\n",
      "RDKit WARNING: [07:19:43] Conflicting single bond directions around double bond at index 2.\n",
      "RDKit WARNING: [07:19:43]   BondStereo set to STEREONONE and single bond directions set to NONE.\n"
     ]
    },
    {
     "name": "stdout",
     "output_type": "stream",
     "text": [
      "40/40 [==============================] - 5s 113ms/step\n"
     ]
    }
   ],
   "source": [
    "predicted_fractional_spins = tf.nn.softmax(model.predict(test_dataset, verbose=True))"
   ]
  },
  {
   "cell_type": "code",
   "execution_count": 10,
   "metadata": {},
   "outputs": [
    {
     "data": {
      "text/plain": [
       "Text(0, 0.5, 'Predicted fractional spin')"
      ]
     },
     "execution_count": 10,
     "metadata": {},
     "output_type": "execute_result"
    },
    {
     "data": {
      "image/png": "[encoded data removed]",
      "text/plain": [
       "<Figure size 288x288 with 1 Axes>"
      ]
     },
     "metadata": {
      "needs_background": "light"
     },
     "output_type": "display_data"
    }
   ],
   "source": [
    "fig = plt.figure(figsize=(4,4))\n",
    "ax = fig.add_subplot(111, aspect='equal')\n",
    "ax.plot(cdf_test_pivot.values.flatten(), predicted_fractional_spins.numpy().flatten(), '.', ms=.5)\n",
    "ax.set_xlim([0, 1])\n",
    "ax.set_ylim([0, 1])\n",
    "sns.despine(trim=True, offset=10)\n",
    "ax.set_xlabel('Measured fractional spin')\n",
    "ax.set_ylabel('Predicted fractional spin')"
   ]
  },
  {
   "cell_type": "code",
   "execution_count": 11,
   "metadata": {},
   "outputs": [
    {
     "data": {
      "text/plain": [
       "Text(0, 0.5, 'Fractional Spin MAE')"
      ]
     },
     "execution_count": 11,
     "metadata": {},
     "output_type": "execute_result"
    },
    {
     "data": {
      "image/png": "[encoded data removed]",
      "text/plain": [
       "<Figure size 432x288 with 1 Axes>"
      ]
     },
     "metadata": {
      "needs_background": "light"
     },
     "output_type": "display_data"
    }
   ],
   "source": [
    "df_pred = pd.DataFrame(predicted_fractional_spins.numpy(), index=test).reset_index().melt(id_vars=['index']).rename(\n",
    "    columns={'variable': 'atom_index', 'value': 'predicted_fractional_spin', 'index': 'smiles'})\n",
    "\n",
    "cdf_test_merged = cdf_test.merge(df_pred, on=['smiles', 'atom_index'], how='left')\n",
    "cdf_test_merged['abs_err'] = (cdf_test_merged['fractional_spin'] - cdf_test_merged['predicted_fractional_spin']).abs()\n",
    "\n",
    "cdf_test_merged.groupby('atom_type').abs_err.mean().sort_values().plot.bar()\n",
    "plt.ylabel('Fractional Spin MAE')"
   ]
  },
  {
   "cell_type": "markdown",
   "metadata": {},
   "source": [
    "## Drawing outliers"
   ]
  },
  {
   "cell_type": "code",
   "execution_count": 142,
   "metadata": {},
   "outputs": [],
   "source": [
    "import rdkit\n",
    "from rdkit import Chem\n",
    "from rdkit.Chem import Draw\n",
    "from rdkit.Chem.Draw import rdMolDraw2D\n",
    "from rdkit.Chem import rdDepictor\n",
    "rdDepictor.SetPreferCoordGen(True)\n",
    "from IPython.display import SVG\n",
    "from collections import defaultdict\n",
    "\n",
    "pred_spin_df = cdf_test_merged.set_index(['smiles', 'atom_index'])\n",
    "\n",
    "def draw(smiles, thres=0.25):\n",
    "\n",
    "    mol = rdkit.Chem.MolFromSmiles(smiles)\n",
    "\n",
    "    atomHighlights = defaultdict(list)\n",
    "\n",
    "    colors = {'DFT':(1,0,0),\n",
    "              'ML':(0,0,1),\n",
    "              'rad':(0,1,0)\n",
    "             }\n",
    "\n",
    "    for atom in mol.GetAtoms():\n",
    "\n",
    "        row = pred_spin_df.loc[smiles, atom.GetIdx()]\n",
    "        if row.fractional_spin > thres:\n",
    "            atomHighlights[atom.GetIdx()].append(colors['DFT'])\n",
    "\n",
    "        if row.predicted_fractional_spin > thres:\n",
    "            atomHighlights[atom.GetIdx()].append(colors['ML'])       \n",
    "\n",
    "        if atom.GetNumRadicalElectrons() > 0:\n",
    "            atomHighlights[atom.GetIdx()].append(colors['rad'])       \n",
    "\n",
    "\n",
    "    d2d = rdMolDraw2D.MolDraw2DSVG(600,280,300,280)\n",
    "    dos = d2d.drawOptions()\n",
    "    dos.atomHighlightsAreCircles = True\n",
    "    dos.fillHighlights=False\n",
    "\n",
    "    d2d.DrawMoleculeWithHighlights(mol,smiles,dict(atomHighlights),{},{},{})\n",
    "    d2d.FinishDrawing()\n",
    "    return SVG(d2d.GetDrawingText())"
   ]
  },
  {
   "cell_type": "code",
   "execution_count": 58,
   "metadata": {},
   "outputs": [
    {
     "data": {
      "text/html": [
       "<div>\n",
       "<style scoped>\n",
       "    .dataframe tbody tr th:only-of-type {\n",
       "        vertical-align: middle;\n",
       "    }\n",
       "\n",
       "    .dataframe tbody tr th {\n",
       "        vertical-align: top;\n",
       "    }\n",
       "\n",
       "    .dataframe thead th {\n",
       "        text-align: right;\n",
       "    }\n",
       "</style>\n",
       "<table border=\"1\" class=\"dataframe\">\n",
       "  <thead>\n",
       "    <tr style=\"text-align: right;\">\n",
       "      <th></th>\n",
       "      <th>smiles</th>\n",
       "      <th>atom_type</th>\n",
       "      <th>atom_index</th>\n",
       "      <th>spin</th>\n",
       "      <th>fractional_spin</th>\n",
       "      <th>predicted_fractional_spin</th>\n",
       "      <th>abs_err</th>\n",
       "    </tr>\n",
       "  </thead>\n",
       "  <tbody>\n",
       "    <tr>\n",
       "      <th>7444</th>\n",
       "      <td>Cc1nc(CC([O])=O)co1</td>\n",
       "      <td>O</td>\n",
       "      <td>6</td>\n",
       "      <td>0.031001</td>\n",
       "      <td>0.028549</td>\n",
       "      <td>0.875540</td>\n",
       "      <td>0.846990</td>\n",
       "    </tr>\n",
       "    <tr>\n",
       "      <th>94584</th>\n",
       "      <td>[O]C(=O)C[C@@H]1CO1</td>\n",
       "      <td>O</td>\n",
       "      <td>2</td>\n",
       "      <td>0.949535</td>\n",
       "      <td>0.880171</td>\n",
       "      <td>0.033733</td>\n",
       "      <td>0.846438</td>\n",
       "    </tr>\n",
       "    <tr>\n",
       "      <th>75746</th>\n",
       "      <td>CO[C@H]1COC[C@H]1C([O])=O</td>\n",
       "      <td>O</td>\n",
       "      <td>8</td>\n",
       "      <td>0.058870</td>\n",
       "      <td>0.050901</td>\n",
       "      <td>0.858653</td>\n",
       "      <td>0.807753</td>\n",
       "    </tr>\n",
       "    <tr>\n",
       "      <th>89719</th>\n",
       "      <td>O=c1cnc2[c][nH]ccn1-2</td>\n",
       "      <td>C</td>\n",
       "      <td>5</td>\n",
       "      <td>-0.067202</td>\n",
       "      <td>0.055085</td>\n",
       "      <td>0.853996</td>\n",
       "      <td>0.798911</td>\n",
       "    </tr>\n",
       "    <tr>\n",
       "      <th>29044</th>\n",
       "      <td>C=C(C([O])=O)[C@H](C)CC</td>\n",
       "      <td>O</td>\n",
       "      <td>4</td>\n",
       "      <td>0.940387</td>\n",
       "      <td>0.819364</td>\n",
       "      <td>0.029781</td>\n",
       "      <td>0.789583</td>\n",
       "    </tr>\n",
       "    <tr>\n",
       "      <th>15466</th>\n",
       "      <td>C=C/C=C(\\C#N)C([O])=O</td>\n",
       "      <td>O</td>\n",
       "      <td>8</td>\n",
       "      <td>0.953606</td>\n",
       "      <td>0.820587</td>\n",
       "      <td>0.095183</td>\n",
       "      <td>0.725405</td>\n",
       "    </tr>\n",
       "    <tr>\n",
       "      <th>85186</th>\n",
       "      <td>N[C@H](O)CC([O])=O</td>\n",
       "      <td>O</td>\n",
       "      <td>6</td>\n",
       "      <td>0.950731</td>\n",
       "      <td>0.870983</td>\n",
       "      <td>0.192041</td>\n",
       "      <td>0.678942</td>\n",
       "    </tr>\n",
       "    <tr>\n",
       "      <th>76682</th>\n",
       "      <td>COC(=O)c1[c]c(O)cs1</td>\n",
       "      <td>C</td>\n",
       "      <td>5</td>\n",
       "      <td>0.968328</td>\n",
       "      <td>0.832611</td>\n",
       "      <td>0.182034</td>\n",
       "      <td>0.650577</td>\n",
       "    </tr>\n",
       "    <tr>\n",
       "      <th>3021</th>\n",
       "      <td>CC1CCC(C([O])=O)CC1</td>\n",
       "      <td>O</td>\n",
       "      <td>7</td>\n",
       "      <td>0.946257</td>\n",
       "      <td>0.838589</td>\n",
       "      <td>0.204745</td>\n",
       "      <td>0.633844</td>\n",
       "    </tr>\n",
       "    <tr>\n",
       "      <th>25864</th>\n",
       "      <td>CCCn1[c]c(N)nn1</td>\n",
       "      <td>C</td>\n",
       "      <td>4</td>\n",
       "      <td>0.972479</td>\n",
       "      <td>0.852591</td>\n",
       "      <td>0.227463</td>\n",
       "      <td>0.625128</td>\n",
       "    </tr>\n",
       "  </tbody>\n",
       "</table>\n",
       "</div>"
      ],
      "text/plain": [
       "                          smiles atom_type atom_index      spin  \\\n",
       "7444         Cc1nc(CC([O])=O)co1         O          6  0.031001   \n",
       "94584        [O]C(=O)C[C@@H]1CO1         O          2  0.949535   \n",
       "75746  CO[C@H]1COC[C@H]1C([O])=O         O          8  0.058870   \n",
       "89719      O=c1cnc2[c][nH]ccn1-2         C          5 -0.067202   \n",
       "29044    C=C(C([O])=O)[C@H](C)CC         O          4  0.940387   \n",
       "15466      C=C/C=C(\\C#N)C([O])=O         O          8  0.953606   \n",
       "85186         N[C@H](O)CC([O])=O         O          6  0.950731   \n",
       "76682        COC(=O)c1[c]c(O)cs1         C          5  0.968328   \n",
       "3021         CC1CCC(C([O])=O)CC1         O          7  0.946257   \n",
       "25864            CCCn1[c]c(N)nn1         C          4  0.972479   \n",
       "\n",
       "       fractional_spin  predicted_fractional_spin   abs_err  \n",
       "7444          0.028549                   0.875540  0.846990  \n",
       "94584         0.880171                   0.033733  0.846438  \n",
       "75746         0.050901                   0.858653  0.807753  \n",
       "89719         0.055085                   0.853996  0.798911  \n",
       "29044         0.819364                   0.029781  0.789583  \n",
       "15466         0.820587                   0.095183  0.725405  \n",
       "85186         0.870983                   0.192041  0.678942  \n",
       "76682         0.832611                   0.182034  0.650577  \n",
       "3021          0.838589                   0.204745  0.633844  \n",
       "25864         0.852591                   0.227463  0.625128  "
      ]
     },
     "execution_count": 58,
     "metadata": {},
     "output_type": "execute_result"
    }
   ],
   "source": [
    "cdf_test_merged.sort_values('abs_err', ascending=False).drop_duplicates(subset='smiles', keep='first').head(10)"
   ]
  },
  {
   "cell_type": "markdown",
   "metadata": {},
   "source": [
    "* Red: DFT\n",
    "* Blue: ML\n",
    "* Green: Formal radical center"
   ]
  },
  {
   "cell_type": "code",
   "execution_count": 60,
   "metadata": {},
   "outputs": [
    {
     "data": {
      "image/svg+xml": [
       "<svg baseProfile=\"full\" height=\"280px\" version=\"1.1\" viewBox=\"0 0 600 280\" width=\"600px\" xml:space=\"preserve\" xmlns=\"http://www.w3.org/2000/svg\" xmlns:rdkit=\"http://www.rdkit.org/xml\" xmlns:xlink=\"http://www.w3.org/1999/xlink\">\n",
       "<!-- END OF HEADER -->\n",
       "<rect height=\"280\" style=\"opacity:1.0;fill:#FFFFFF;stroke:none\" width=\"600\" x=\"0\" y=\"0\"> </rect>\n",
       "<path d=\"M 271.422,166.102 L 270.155,166.156 L 268.897,166.317 L 267.658,166.584 L 266.445,166.956 L 265.268,167.429 L 264.136,168 L 263.056,168.665 L 262.036,169.419 L 261.084,170.257 L 260.206,171.172 L 259.41,172.159 L 258.7,173.21 L 258.081,174.317 L 257.559,175.473 L 257.136,176.668 L 256.817,177.896 L 256.602,179.146 L 256.495,180.409 L 256.495,181.678 L 256.602,182.941 L 256.817,184.191 L 257.136,185.419 L 257.559,186.614 L 258.081,187.77 L 258.7,188.877 L 259.41,189.928 L 260.206,190.915 L 261.084,191.83 L 262.036,192.668 L 263.056,193.423 L 264.136,194.087 L 265.268,194.658 L 266.445,195.131 L 267.658,195.503 L 268.897,195.77 L 270.155,195.931 L 271.422,195.985\" style=\"fill:none;stroke:#0000FF;stroke-width:7px;stroke-linecap:butt;stroke-linejoin:miter;stroke-opacity:1;\"/>\n",
       "<path d=\"M 271.422,195.985 L 272.69,195.931 L 273.947,195.77 L 275.187,195.503 L 276.4,195.131 L 277.577,194.658 L 278.709,194.087 L 279.789,193.423 L 280.809,192.668 L 281.761,191.83 L 282.638,190.915 L 283.435,189.928 L 284.145,188.877 L 284.764,187.77 L 285.286,186.614 L 285.709,185.419 L 286.028,184.191 L 286.243,182.941 L 286.35,181.678 L 286.35,180.409 L 286.243,179.146 L 286.028,177.896 L 285.709,176.668 L 285.286,175.473 L 284.764,174.317 L 284.145,173.21 L 283.435,172.159 L 282.638,171.172 L 281.761,170.257 L 280.809,169.419 L 279.789,168.665 L 278.709,168 L 277.577,167.429 L 276.4,166.956 L 275.187,166.584 L 273.947,166.317 L 272.69,166.156 L 271.422,166.102\" style=\"fill:none;stroke:#00FF00;stroke-width:7px;stroke-linecap:butt;stroke-linejoin:miter;stroke-opacity:1;\"/>\n",
       "<ellipse cx=\"228.192\" cy=\"106.387\" rx=\"14.9412\" ry=\"14.9412\" style=\"fill:none;stroke:#FF0000;stroke-width:7px;stroke-linecap:butt;stroke-linejoin:miter;stroke-opacity:1\"/>\n",
       "<path class=\"bond-0\" d=\"M 13.6364,144.886 L 63.1616,139.626\" style=\"fill:none;fill-rule:evenodd;stroke:#000000;stroke-width:2px;stroke-linecap:butt;stroke-linejoin:miter;stroke-opacity:1\"/>\n",
       "<path class=\"bond-1\" d=\"M 63.1616,139.626 L 74.45,152.135\" style=\"fill:none;fill-rule:evenodd;stroke:#000000;stroke-width:2px;stroke-linecap:butt;stroke-linejoin:miter;stroke-opacity:1\"/>\n",
       "<path class=\"bond-1\" d=\"M 74.45,152.135 L 85.7384,164.643\" style=\"fill:none;fill-rule:evenodd;stroke:#0000FF;stroke-width:2px;stroke-linecap:butt;stroke-linejoin:miter;stroke-opacity:1\"/>\n",
       "<path class=\"bond-1\" d=\"M 73.2033,137.373 L 81.1052,146.129\" style=\"fill:none;fill-rule:evenodd;stroke:#000000;stroke-width:2px;stroke-linecap:butt;stroke-linejoin:miter;stroke-opacity:1\"/>\n",
       "<path class=\"bond-1\" d=\"M 81.1052,146.129 L 89.0071,154.884\" style=\"fill:none;fill-rule:evenodd;stroke:#0000FF;stroke-width:2px;stroke-linecap:butt;stroke-linejoin:miter;stroke-opacity:1\"/>\n",
       "<path class=\"bond-9\" d=\"M 63.1616,139.626 L 72.003,124.272\" style=\"fill:none;fill-rule:evenodd;stroke:#FF0000;stroke-width:2px;stroke-linecap:butt;stroke-linejoin:miter;stroke-opacity:1\"/>\n",
       "<path class=\"bond-9\" d=\"M 72.003,124.272 L 80.8443,108.917\" style=\"fill:none;fill-rule:evenodd;stroke:#000000;stroke-width:2px;stroke-linecap:butt;stroke-linejoin:miter;stroke-opacity:1\"/>\n",
       "<path class=\"bond-2\" d=\"M 107.322,171.781 L 124.662,164.036\" style=\"fill:none;fill-rule:evenodd;stroke:#0000FF;stroke-width:2px;stroke-linecap:butt;stroke-linejoin:miter;stroke-opacity:1\"/>\n",
       "<path class=\"bond-2\" d=\"M 124.662,164.036 L 142.001,156.291\" style=\"fill:none;fill-rule:evenodd;stroke:#000000;stroke-width:2px;stroke-linecap:butt;stroke-linejoin:miter;stroke-opacity:1\"/>\n",
       "<path class=\"bond-3\" d=\"M 142.001,156.291 L 185.162,181.143\" style=\"fill:none;fill-rule:evenodd;stroke:#000000;stroke-width:2px;stroke-linecap:butt;stroke-linejoin:miter;stroke-opacity:1\"/>\n",
       "<path class=\"bond-7\" d=\"M 142.001,156.291 L 136.742,106.766\" style=\"fill:none;fill-rule:evenodd;stroke:#000000;stroke-width:2px;stroke-linecap:butt;stroke-linejoin:miter;stroke-opacity:1\"/>\n",
       "<path class=\"bond-7\" d=\"M 132.298,149.809 L 128.616,115.141\" style=\"fill:none;fill-rule:evenodd;stroke:#000000;stroke-width:2px;stroke-linecap:butt;stroke-linejoin:miter;stroke-opacity:1\"/>\n",
       "<path class=\"bond-4\" d=\"M 185.162,181.143 L 228.262,156.191\" style=\"fill:none;fill-rule:evenodd;stroke:#000000;stroke-width:2px;stroke-linecap:butt;stroke-linejoin:miter;stroke-opacity:1\"/>\n",
       "<path class=\"bond-5\" d=\"M 228.262,156.191 L 244.028,165.269\" style=\"fill:none;fill-rule:evenodd;stroke:#000000;stroke-width:2px;stroke-linecap:butt;stroke-linejoin:miter;stroke-opacity:1\"/>\n",
       "<path class=\"bond-5\" d=\"M 244.028,165.269 L 259.793,174.347\" style=\"fill:none;fill-rule:evenodd;stroke:#FF0000;stroke-width:2px;stroke-linecap:butt;stroke-linejoin:miter;stroke-opacity:1\"/>\n",
       "<path class=\"bond-6\" d=\"M 232.745,156.185 L 232.718,137.509\" style=\"fill:none;fill-rule:evenodd;stroke:#000000;stroke-width:2px;stroke-linecap:butt;stroke-linejoin:miter;stroke-opacity:1\"/>\n",
       "<path class=\"bond-6\" d=\"M 232.718,137.509 L 232.692,118.832\" style=\"fill:none;fill-rule:evenodd;stroke:#FF0000;stroke-width:2px;stroke-linecap:butt;stroke-linejoin:miter;stroke-opacity:1\"/>\n",
       "<path class=\"bond-6\" d=\"M 223.78,156.198 L 223.754,137.521\" style=\"fill:none;fill-rule:evenodd;stroke:#000000;stroke-width:2px;stroke-linecap:butt;stroke-linejoin:miter;stroke-opacity:1\"/>\n",
       "<path class=\"bond-6\" d=\"M 223.754,137.521 L 223.728,118.845\" style=\"fill:none;fill-rule:evenodd;stroke:#FF0000;stroke-width:2px;stroke-linecap:butt;stroke-linejoin:miter;stroke-opacity:1\"/>\n",
       "<path class=\"bond-8\" d=\"M 136.742,106.766 L 118.192,102.845\" style=\"fill:none;fill-rule:evenodd;stroke:#000000;stroke-width:2px;stroke-linecap:butt;stroke-linejoin:miter;stroke-opacity:1\"/>\n",
       "<path class=\"bond-8\" d=\"M 118.192,102.845 L 99.6427,98.9242\" style=\"fill:none;fill-rule:evenodd;stroke:#FF0000;stroke-width:2px;stroke-linecap:butt;stroke-linejoin:miter;stroke-opacity:1\"/>\n",
       "<text dominant-baseline=\"central\" style=\"font-size:24px;font-style:normal;font-weight:normal;fill-opacity:1;stroke:none;font-family:sans-serif;fill:#0000FF\" text-anchor=\"middle\" x=\"96.5303\" y=\"180.336\"><tspan>N</tspan></text>\n",
       "<text dominant-baseline=\"central\" style=\"font-size:24px;font-style:normal;font-weight:normal;fill-opacity:1;stroke:none;font-family:sans-serif;fill:#FF0000\" text-anchor=\"start\" x=\"262.284\" y=\"184.779\"><tspan>O</tspan></text>\n",
       "<text dominant-baseline=\"central\" style=\"font-size:24px;font-style:normal;font-weight:normal;fill-opacity:1;stroke:none;font-family:sans-serif;fill:#000000\" text-anchor=\"start\" x=\"219.054\" y=\"110.123\"><tspan>O</tspan></text>\n",
       "<text dominant-baseline=\"central\" style=\"font-size:24px;font-style:normal;font-weight:normal;fill-opacity:1;stroke:none;font-family:sans-serif;fill:#FF0000\" text-anchor=\"end\" x=\"97.1525\" y=\"100.202\"><tspan>O</tspan></text>\n",
       "<path d=\"M 272.917,165.604 L 272.911,165.476 L 272.894,165.348 L 272.867,165.223 L 272.829,165.1 L 272.78,164.981 L 272.722,164.867 L 272.653,164.758 L 272.576,164.655 L 272.49,164.559 L 272.396,164.471 L 272.295,164.392 L 272.188,164.321 L 272.075,164.26 L 271.957,164.209 L 271.835,164.168 L 271.71,164.138 L 271.583,164.119 L 271.455,164.111 L 271.326,164.113 L 271.198,164.127 L 271.072,164.152 L 270.948,164.187 L 270.828,164.233 L 270.713,164.289 L 270.602,164.355 L 270.498,164.43 L 270.401,164.514 L 270.311,164.606 L 270.229,164.705 L 270.156,164.811 L 270.093,164.923 L 270.039,165.04 L 269.996,165.161 L 269.963,165.285 L 269.941,165.412 L 269.93,165.54 L 269.93,165.669 L 269.941,165.797 L 269.963,165.923 L 269.996,166.048 L 270.039,166.169 L 270.093,166.285 L 270.156,166.397 L 270.229,166.503 L 270.311,166.602 L 270.401,166.694 L 270.498,166.778 L 270.602,166.853 L 270.713,166.919 L 270.828,166.975 L 270.948,167.021 L 271.072,167.057 L 271.198,167.081 L 271.326,167.095 L 271.455,167.098 L 271.583,167.09 L 271.71,167.07 L 271.835,167.04 L 271.957,167 L 272.075,166.948 L 272.188,166.887 L 272.295,166.817 L 272.396,166.737 L 272.49,166.649 L 272.576,166.554 L 272.653,166.451 L 272.722,166.342 L 272.78,166.228 L 272.829,166.109 L 272.867,165.986 L 272.894,165.86 L 272.911,165.733 L 272.917,165.604 L 271.422,165.604 Z\" style=\"fill:#000000;fill-rule:evenodd;fill-opacity=1;stroke:#000000;stroke-width:2px;stroke-linecap:butt;stroke-linejoin:miter;stroke-opacity:1;\"/>\n",
       "<text dominant-baseline=\"central\" style=\"font-size:12px;font-style:normal;font-weight:normal;fill-opacity:1;stroke:none;font-family:sans-serif;fill:#000000\" text-anchor=\"middle\" x=\"150\" y=\"265\"><tspan>Cc1nc(CC([O])=O)co1</tspan></text>\n",
       "</svg>"
      ],
      "text/plain": [
       "<IPython.core.display.SVG object>"
      ]
     },
     "execution_count": 60,
     "metadata": {},
     "output_type": "execute_result"
    }
   ],
   "source": [
    "draw('Cc1nc(CC([O])=O)co1')"
   ]
  },
  {
   "cell_type": "code",
   "execution_count": 61,
   "metadata": {},
   "outputs": [
    {
     "data": {
      "image/svg+xml": [
       "<svg baseProfile=\"full\" height=\"280px\" version=\"1.1\" viewBox=\"0 0 600 280\" width=\"600px\" xml:space=\"preserve\" xmlns=\"http://www.w3.org/2000/svg\" xmlns:rdkit=\"http://www.rdkit.org/xml\" xmlns:xlink=\"http://www.w3.org/1999/xlink\">\n",
       "<!-- END OF HEADER -->\n",
       "<rect height=\"280\" style=\"opacity:1.0;fill:#FFFFFF;stroke:none\" width=\"600\" x=\"0\" y=\"0\"> </rect>\n",
       "<path d=\"M 33.4399,169.705 L 31.7604,169.777 L 30.0931,169.99 L 28.4498,170.344 L 26.8426,170.837 L 25.2828,171.463 L 23.7818,172.22 L 22.3504,173.101 L 20.9989,174.101 L 19.7371,175.212 L 18.5739,176.425 L 17.5179,177.733 L 16.5766,179.126 L 15.7568,180.593 L 15.0644,182.125 L 14.5044,183.71 L 14.0808,185.337 L 13.7968,186.993 L 13.6542,188.668 L 13.6542,190.349 L 13.7968,192.024 L 14.0808,193.681 L 14.5044,195.308 L 15.0644,196.893 L 15.7568,198.424 L 16.5766,199.892 L 17.5179,201.285 L 18.5739,202.593 L 19.7371,203.806 L 20.9989,204.917 L 22.3504,205.916 L 23.7818,206.798 L 25.2828,207.554 L 26.8426,208.181 L 28.4498,208.673 L 30.0931,209.028 L 31.7604,209.241 L 33.4399,209.312\" style=\"fill:none;stroke:#0000FF;stroke-width:10px;stroke-linecap:butt;stroke-linejoin:miter;stroke-opacity:1;\"/>\n",
       "<path d=\"M 33.4399,209.312 L 35.1194,209.241 L 36.7867,209.028 L 38.43,208.673 L 40.0372,208.181 L 41.597,207.554 L 43.098,206.798 L 44.5294,205.916 L 45.8809,204.917 L 47.1427,203.806 L 48.3059,202.593 L 49.3619,201.285 L 50.3032,199.892 L 51.123,198.424 L 51.8154,196.893 L 52.3754,195.308 L 52.799,193.681 L 53.083,192.024 L 53.2256,190.349 L 53.2256,188.668 L 53.083,186.993 L 52.799,185.337 L 52.3754,183.71 L 51.8154,182.125 L 51.123,180.593 L 50.3032,179.126 L 49.3619,177.733 L 48.3059,176.425 L 47.1427,175.212 L 45.8809,174.101 L 44.5294,173.101 L 43.098,172.22 L 41.597,171.463 L 40.0372,170.837 L 38.43,170.344 L 36.7867,169.99 L 35.1194,169.777 L 33.4399,169.705\" style=\"fill:none;stroke:#00FF00;stroke-width:10px;stroke-linecap:butt;stroke-linejoin:miter;stroke-opacity:1;\"/>\n",
       "<ellipse cx=\"90.6061\" cy=\"90.4912\" rx=\"19.8035\" ry=\"19.8035\" style=\"fill:none;stroke:#FF0000;stroke-width:10px;stroke-linecap:butt;stroke-linejoin:miter;stroke-opacity:1\"/>\n",
       "<path class=\"bond-0\" d=\"M 48.8532,180.61 L 69.7297,168.556\" style=\"fill:none;fill-rule:evenodd;stroke:#FF0000;stroke-width:2px;stroke-linecap:butt;stroke-linejoin:miter;stroke-opacity:1\"/>\n",
       "<path class=\"bond-0\" d=\"M 69.7297,168.556 L 90.6061,156.503\" style=\"fill:none;fill-rule:evenodd;stroke:#000000;stroke-width:2px;stroke-linecap:butt;stroke-linejoin:miter;stroke-opacity:1\"/>\n",
       "<path class=\"bond-1\" d=\"M 96.5472,156.503 L 96.5472,131.749\" style=\"fill:none;fill-rule:evenodd;stroke:#000000;stroke-width:2px;stroke-linecap:butt;stroke-linejoin:miter;stroke-opacity:1\"/>\n",
       "<path class=\"bond-1\" d=\"M 96.5472,131.749 L 96.5472,106.994\" style=\"fill:none;fill-rule:evenodd;stroke:#FF0000;stroke-width:2px;stroke-linecap:butt;stroke-linejoin:miter;stroke-opacity:1\"/>\n",
       "<path class=\"bond-1\" d=\"M 84.665,156.503 L 84.665,131.749\" style=\"fill:none;fill-rule:evenodd;stroke:#000000;stroke-width:2px;stroke-linecap:butt;stroke-linejoin:miter;stroke-opacity:1\"/>\n",
       "<path class=\"bond-1\" d=\"M 84.665,131.749 L 84.665,106.994\" style=\"fill:none;fill-rule:evenodd;stroke:#FF0000;stroke-width:2px;stroke-linecap:butt;stroke-linejoin:miter;stroke-opacity:1\"/>\n",
       "<path class=\"bond-2\" d=\"M 90.6061,156.503 L 147.772,189.509\" style=\"fill:none;fill-rule:evenodd;stroke:#000000;stroke-width:2px;stroke-linecap:butt;stroke-linejoin:miter;stroke-opacity:1\"/>\n",
       "<path class=\"bond-3\" d=\"M 194.916,161.146 L 195.906,162.861\" style=\"fill:none;fill-rule:evenodd;stroke:#000000;stroke-width:2px;stroke-linecap:butt;stroke-linejoin:miter;stroke-opacity:1\"/>\n",
       "<path class=\"bond-3\" d=\"M 184.893,165.79 L 186.873,169.22\" style=\"fill:none;fill-rule:evenodd;stroke:#000000;stroke-width:2px;stroke-linecap:butt;stroke-linejoin:miter;stroke-opacity:1\"/>\n",
       "<path class=\"bond-3\" d=\"M 174.87,170.433 L 177.841,175.578\" style=\"fill:none;fill-rule:evenodd;stroke:#000000;stroke-width:2px;stroke-linecap:butt;stroke-linejoin:miter;stroke-opacity:1\"/>\n",
       "<path class=\"bond-3\" d=\"M 164.847,175.077 L 168.808,181.937\" style=\"fill:none;fill-rule:evenodd;stroke:#000000;stroke-width:2px;stroke-linecap:butt;stroke-linejoin:miter;stroke-opacity:1\"/>\n",
       "<path class=\"bond-3\" d=\"M 154.825,179.72 L 159.776,188.295\" style=\"fill:none;fill-rule:evenodd;stroke:#000000;stroke-width:2px;stroke-linecap:butt;stroke-linejoin:miter;stroke-opacity:1\"/>\n",
       "<path class=\"bond-3\" d=\"M 144.802,184.364 L 150.743,194.654\" style=\"fill:none;fill-rule:evenodd;stroke:#000000;stroke-width:2px;stroke-linecap:butt;stroke-linejoin:miter;stroke-opacity:1\"/>\n",
       "<path class=\"bond-4\" d=\"M 204.939,156.503 L 237.944,99.3367\" style=\"fill:none;fill-rule:evenodd;stroke:#000000;stroke-width:2px;stroke-linecap:butt;stroke-linejoin:miter;stroke-opacity:1\"/>\n",
       "<path class=\"bond-6\" d=\"M 204.939,156.503 L 230.238,156.503\" style=\"fill:none;fill-rule:evenodd;stroke:#FF0000;stroke-width:2px;stroke-linecap:butt;stroke-linejoin:miter;stroke-opacity:1\"/>\n",
       "<path class=\"bond-6\" d=\"M 230.238,156.503 L 255.537,156.503\" style=\"fill:none;fill-rule:evenodd;stroke:#000000;stroke-width:2px;stroke-linecap:butt;stroke-linejoin:miter;stroke-opacity:1\"/>\n",
       "<path class=\"bond-5\" d=\"M 237.944,99.3367 L 249.683,119.668\" style=\"fill:none;fill-rule:evenodd;stroke:#000000;stroke-width:2px;stroke-linecap:butt;stroke-linejoin:miter;stroke-opacity:1\"/>\n",
       "<path class=\"bond-5\" d=\"M 249.683,119.668 L 261.422,140\" style=\"fill:none;fill-rule:evenodd;stroke:#FF0000;stroke-width:2px;stroke-linecap:butt;stroke-linejoin:miter;stroke-opacity:1\"/>\n",
       "<text dominant-baseline=\"central\" style=\"font-size:33px;font-style:normal;font-weight:normal;fill-opacity:1;stroke:none;font-family:sans-serif;fill:#FF0000\" text-anchor=\"end\" x=\"45.5526\" y=\"194.46\"><tspan>O</tspan></text>\n",
       "<text dominant-baseline=\"central\" style=\"font-size:33px;font-style:normal;font-weight:normal;fill-opacity:1;stroke:none;font-family:sans-serif;fill:#000000\" text-anchor=\"start\" x=\"78.4934\" y=\"95.442\"><tspan>O</tspan></text>\n",
       "<text dominant-baseline=\"central\" style=\"font-size:33px;font-style:normal;font-weight:normal;fill-opacity:1;stroke:none;font-family:sans-serif;fill:#FF0000\" text-anchor=\"start\" x=\"258.838\" y=\"161.454\"><tspan>O</tspan></text>\n",
       "<path d=\"M 35.4203,169.045 L 35.4129,168.875 L 35.391,168.706 L 35.3546,168.539 L 35.304,168.377 L 35.2397,168.219 L 35.162,168.067 L 35.0716,167.923 L 34.969,167.787 L 34.8552,167.66 L 34.7309,167.543 L 34.597,167.438 L 34.4546,167.345 L 34.3046,167.264 L 34.1483,167.196 L 33.9867,167.142 L 33.821,167.102 L 33.6526,167.076 L 33.4825,167.065 L 33.3122,167.069 L 33.1427,167.087 L 32.9755,167.12 L 32.8117,167.167 L 32.6526,167.228 L 32.4993,167.302 L 32.353,167.39 L 32.2147,167.489 L 32.0855,167.6 L 31.9663,167.722 L 31.858,167.854 L 31.7615,167.994 L 31.6773,168.142 L 31.6062,168.297 L 31.5487,168.458 L 31.5052,168.622 L 31.476,168.79 L 31.4614,168.96 L 31.4614,169.13 L 31.476,169.3 L 31.5052,169.468 L 31.5487,169.633 L 31.6062,169.793 L 31.6773,169.948 L 31.7615,170.096 L 31.858,170.237 L 31.9663,170.368 L 32.0855,170.49 L 32.2147,170.601 L 32.353,170.701 L 32.4993,170.788 L 32.6526,170.862 L 32.8117,170.923 L 32.9755,170.97 L 33.1427,171.003 L 33.3122,171.021 L 33.4825,171.025 L 33.6526,171.014 L 33.821,170.989 L 33.9867,170.949 L 34.1483,170.895 L 34.3046,170.827 L 34.4546,170.746 L 34.597,170.652 L 34.7309,170.547 L 34.8552,170.43 L 34.969,170.304 L 35.0716,170.167 L 35.162,170.023 L 35.2397,169.871 L 35.304,169.714 L 35.3546,169.551 L 35.391,169.384 L 35.4129,169.215 L 35.4203,169.045 L 33.4399,169.045 Z\" style=\"fill:#000000;fill-rule:evenodd;fill-opacity=1;stroke:#000000;stroke-width:2px;stroke-linecap:butt;stroke-linejoin:miter;stroke-opacity:1;\"/>\n",
       "<text dominant-baseline=\"central\" style=\"font-size:12px;font-style:normal;font-weight:normal;fill-opacity:1;stroke:none;font-family:sans-serif;fill:#000000\" text-anchor=\"middle\" x=\"150\" y=\"265\"><tspan>[O]C(=O)C[C@@H]1CO1</tspan></text>\n",
       "</svg>"
      ],
      "text/plain": [
       "<IPython.core.display.SVG object>"
      ]
     },
     "execution_count": 61,
     "metadata": {},
     "output_type": "execute_result"
    }
   ],
   "source": [
    "draw('[O]C(=O)C[C@@H]1CO1')"
   ]
  },
  {
   "cell_type": "markdown",
   "metadata": {},
   "source": [
    "Looks like there's some problem with carboxylic acid radicals. Let's pull all of them to see how we do on average"
   ]
  },
  {
   "cell_type": "code",
   "execution_count": 68,
   "metadata": {},
   "outputs": [
    {
     "name": "stderr",
     "output_type": "stream",
     "text": [
      "/projects/rlmolecule/pstjohn/envs/tf2_gpu/lib/python3.7/site-packages/tqdm/std.py:668: FutureWarning: The Panel class is removed from pandas. Accessing it from the top-level namespace will also be removed in the next version\n",
      "  from pandas import Panel\n"
     ]
    }
   ],
   "source": [
    "from tqdm import tqdm\n",
    "tqdm.pandas()"
   ]
  },
  {
   "cell_type": "code",
   "execution_count": 121,
   "metadata": {},
   "outputs": [
    {
     "name": "stderr",
     "output_type": "stream",
     "text": [
      " 42%|████▏     | 2124/5000 [00:00<00:01, 2708.06it/s]RDKit WARNING: [08:31:19] Conflicting single bond directions around double bond at index 2.\n",
      "RDKit WARNING: [08:31:19]   BondStereo set to STEREONONE and single bond directions set to NONE.\n",
      " 73%|███████▎  | 3666/5000 [00:00<00:00, 3562.12it/s]RDKit WARNING: [08:31:19] Conflicting single bond directions around double bond at index 2.\n",
      "RDKit WARNING: [08:31:19]   BondStereo set to STEREONONE and single bond directions set to NONE.\n",
      "100%|██████████| 5000/5000 [00:00<00:00, 12796.67it/s]\n"
     ]
    }
   ],
   "source": [
    "patt = Chem.MolFromSmarts('[OX1v1+0]C(=O)')  # https://www.daylight.com/dayhtml_tutorials/languages/smarts/smarts_examples.html#RAD\n",
    "unique_mols = pd.Series(cdf_test.smiles.unique())\n",
    "is_carboxylic_acid = unique_mols.progress_apply(lambda x: Chem.MolFromSmiles(x).HasSubstructMatch(patt))"
   ]
  },
  {
   "cell_type": "code",
   "execution_count": 122,
   "metadata": {},
   "outputs": [
    {
     "data": {
      "text/plain": [
       "Text(0.5, 1.0, 'Just [O]C(=O) Radicals')"
      ]
     },
     "execution_count": 122,
     "metadata": {},
     "output_type": "execute_result"
    },
    {
     "data": {
      "image/png": "[encoded data removed]",
      "text/plain": [
       "<Figure size 288x288 with 1 Axes>"
      ]
     },
     "metadata": {
      "needs_background": "light"
     },
     "output_type": "display_data"
    }
   ],
   "source": [
    "cdf_subset = cdf_test_merged[cdf_test_merged.smiles.isin(unique_mols[is_carboxylic_acid])]\n",
    "\n",
    "fig = plt.figure(figsize=(4,4))\n",
    "ax = fig.add_subplot(111, aspect='equal')\n",
    "ax.plot(cdf_subset.fractional_spin, cdf_subset.predicted_fractional_spin, '.', ms=1)\n",
    "ax.set_xlim([0, 1])\n",
    "ax.set_ylim([0, 1])\n",
    "sns.despine(trim=True, offset=10)\n",
    "ax.set_xlabel('Measured fractional spin')\n",
    "ax.set_ylabel('Predicted fractional spin')\n",
    "ax.set_title('Just [O]C(=O) Radicals')"
   ]
  },
  {
   "cell_type": "markdown",
   "metadata": {},
   "source": [
    "Yup; not great here"
   ]
  },
  {
   "cell_type": "code",
   "execution_count": 123,
   "metadata": {},
   "outputs": [
    {
     "data": {
      "text/html": [
       "<div>\n",
       "<style scoped>\n",
       "    .dataframe tbody tr th:only-of-type {\n",
       "        vertical-align: middle;\n",
       "    }\n",
       "\n",
       "    .dataframe tbody tr th {\n",
       "        vertical-align: top;\n",
       "    }\n",
       "\n",
       "    .dataframe thead th {\n",
       "        text-align: right;\n",
       "    }\n",
       "</style>\n",
       "<table border=\"1\" class=\"dataframe\">\n",
       "  <thead>\n",
       "    <tr style=\"text-align: right;\">\n",
       "      <th></th>\n",
       "      <th>smiles</th>\n",
       "      <th>atom_type</th>\n",
       "      <th>atom_index</th>\n",
       "      <th>spin</th>\n",
       "      <th>fractional_spin</th>\n",
       "      <th>predicted_fractional_spin</th>\n",
       "      <th>abs_err</th>\n",
       "    </tr>\n",
       "  </thead>\n",
       "  <tbody>\n",
       "    <tr>\n",
       "      <th>3021</th>\n",
       "      <td>CC1CCC(C([O])=O)CC1</td>\n",
       "      <td>O</td>\n",
       "      <td>7</td>\n",
       "      <td>0.946257</td>\n",
       "      <td>0.838589</td>\n",
       "      <td>0.204745</td>\n",
       "      <td>0.633844</td>\n",
       "    </tr>\n",
       "    <tr>\n",
       "      <th>5349</th>\n",
       "      <td>C[C@]1(CC([O])=O)C[C@@]1(F)Cl</td>\n",
       "      <td>O</td>\n",
       "      <td>4</td>\n",
       "      <td>0.956261</td>\n",
       "      <td>0.866659</td>\n",
       "      <td>0.829333</td>\n",
       "      <td>0.037326</td>\n",
       "    </tr>\n",
       "    <tr>\n",
       "      <th>7445</th>\n",
       "      <td>Cc1nc(CC([O])=O)co1</td>\n",
       "      <td>O</td>\n",
       "      <td>7</td>\n",
       "      <td>0.945665</td>\n",
       "      <td>0.870876</td>\n",
       "      <td>0.042366</td>\n",
       "      <td>0.828510</td>\n",
       "    </tr>\n",
       "    <tr>\n",
       "      <th>12544</th>\n",
       "      <td>CCC/C=C/CCC([O])=O</td>\n",
       "      <td>O</td>\n",
       "      <td>8</td>\n",
       "      <td>0.949973</td>\n",
       "      <td>0.847514</td>\n",
       "      <td>0.287580</td>\n",
       "      <td>0.559934</td>\n",
       "    </tr>\n",
       "    <tr>\n",
       "      <th>13130</th>\n",
       "      <td>C=CCCC(=C)C([O])=O</td>\n",
       "      <td>O</td>\n",
       "      <td>7</td>\n",
       "      <td>0.936550</td>\n",
       "      <td>0.810851</td>\n",
       "      <td>0.759533</td>\n",
       "      <td>0.051318</td>\n",
       "    </tr>\n",
       "    <tr>\n",
       "      <th>13961</th>\n",
       "      <td>C/C=C(/CC)C([O])=O</td>\n",
       "      <td>O</td>\n",
       "      <td>6</td>\n",
       "      <td>0.664304</td>\n",
       "      <td>0.622351</td>\n",
       "      <td>0.405127</td>\n",
       "      <td>0.217224</td>\n",
       "    </tr>\n",
       "    <tr>\n",
       "      <th>15466</th>\n",
       "      <td>C=C/C=C(\\C#N)C([O])=O</td>\n",
       "      <td>O</td>\n",
       "      <td>8</td>\n",
       "      <td>0.953606</td>\n",
       "      <td>0.820587</td>\n",
       "      <td>0.095183</td>\n",
       "      <td>0.725405</td>\n",
       "    </tr>\n",
       "    <tr>\n",
       "      <th>16357</th>\n",
       "      <td>CCC[C@H]1C[C@@H]1C([O])=O</td>\n",
       "      <td>O</td>\n",
       "      <td>7</td>\n",
       "      <td>0.951414</td>\n",
       "      <td>0.862795</td>\n",
       "      <td>0.853838</td>\n",
       "      <td>0.008956</td>\n",
       "    </tr>\n",
       "    <tr>\n",
       "      <th>28970</th>\n",
       "      <td>C=C(C([O])=O)c1ccoc1</td>\n",
       "      <td>O</td>\n",
       "      <td>4</td>\n",
       "      <td>0.907011</td>\n",
       "      <td>0.819320</td>\n",
       "      <td>0.241989</td>\n",
       "      <td>0.577331</td>\n",
       "    </tr>\n",
       "    <tr>\n",
       "      <th>29044</th>\n",
       "      <td>C=C(C([O])=O)[C@H](C)CC</td>\n",
       "      <td>O</td>\n",
       "      <td>4</td>\n",
       "      <td>0.940387</td>\n",
       "      <td>0.819364</td>\n",
       "      <td>0.029781</td>\n",
       "      <td>0.789583</td>\n",
       "    </tr>\n",
       "  </tbody>\n",
       "</table>\n",
       "</div>"
      ],
      "text/plain": [
       "                              smiles atom_type atom_index      spin  \\\n",
       "3021             CC1CCC(C([O])=O)CC1         O          7  0.946257   \n",
       "5349   C[C@]1(CC([O])=O)C[C@@]1(F)Cl         O          4  0.956261   \n",
       "7445             Cc1nc(CC([O])=O)co1         O          7  0.945665   \n",
       "12544             CCC/C=C/CCC([O])=O         O          8  0.949973   \n",
       "13130             C=CCCC(=C)C([O])=O         O          7  0.936550   \n",
       "13961             C/C=C(/CC)C([O])=O         O          6  0.664304   \n",
       "15466          C=C/C=C(\\C#N)C([O])=O         O          8  0.953606   \n",
       "16357      CCC[C@H]1C[C@@H]1C([O])=O         O          7  0.951414   \n",
       "28970           C=C(C([O])=O)c1ccoc1         O          4  0.907011   \n",
       "29044        C=C(C([O])=O)[C@H](C)CC         O          4  0.940387   \n",
       "\n",
       "       fractional_spin  predicted_fractional_spin   abs_err  \n",
       "3021          0.838589                   0.204745  0.633844  \n",
       "5349          0.866659                   0.829333  0.037326  \n",
       "7445          0.870876                   0.042366  0.828510  \n",
       "12544         0.847514                   0.287580  0.559934  \n",
       "13130         0.810851                   0.759533  0.051318  \n",
       "13961         0.622351                   0.405127  0.217224  \n",
       "15466         0.820587                   0.095183  0.725405  \n",
       "16357         0.862795                   0.853838  0.008956  \n",
       "28970         0.819320                   0.241989  0.577331  \n",
       "29044         0.819364                   0.029781  0.789583  "
      ]
     },
     "execution_count": 123,
     "metadata": {},
     "output_type": "execute_result"
    }
   ],
   "source": [
    "cdf_subset[cdf_subset.fractional_spin > .5].head(10)"
   ]
  },
  {
   "cell_type": "markdown",
   "metadata": {},
   "source": [
    "Sometimes it ends up on the formal radical center..."
   ]
  },
  {
   "cell_type": "code",
   "execution_count": 124,
   "metadata": {},
   "outputs": [
    {
     "data": {
      "image/svg+xml": [
       "<svg baseProfile=\"full\" height=\"280px\" version=\"1.1\" viewBox=\"0 0 600 280\" width=\"600px\" xml:space=\"preserve\" xmlns=\"http://www.w3.org/2000/svg\" xmlns:rdkit=\"http://www.rdkit.org/xml\" xmlns:xlink=\"http://www.w3.org/1999/xlink\">\n",
       "<!-- END OF HEADER -->\n",
       "<rect height=\"280\" style=\"opacity:1.0;fill:#FFFFFF;stroke:none\" width=\"600\" x=\"0\" y=\"0\"> </rect>\n",
       "<path d=\"M 93.5488,204.187 L 92.755,202.936 L 91.8593,201.756 L 90.868,200.655 L 89.7881,199.641 L 88.6271,198.721 L 87.3931,197.901 L 86.0949,197.187 L 84.7415,196.585 L 83.3424,196.098 L 81.9075,195.729 L 80.4468,195.482 L 78.9705,195.358 L 77.4891,195.358 L 76.0128,195.482 L 74.5521,195.729 L 73.1172,196.098 L 71.7181,196.585 L 70.3647,197.187 L 69.0665,197.901 L 67.8325,198.721 L 66.6715,199.641 L 65.5916,200.655 L 64.6003,201.756 L 63.7046,202.936 L 62.9108,204.187\" style=\"fill:none;stroke:#FF0000;stroke-width:9px;stroke-linecap:butt;stroke-linejoin:miter;stroke-opacity:1;\"/>\n",
       "<path d=\"M 62.9108,204.187 L 62.2244,205.5 L 61.6503,206.866 L 61.1926,208.275 L 60.8543,209.717 L 60.6378,211.182 L 60.5448,212.661 L 60.5758,214.142 L 60.7307,215.615 L 61.0083,217.071 L 61.4067,218.498 L 61.9231,219.886 L 62.5539,221.227 L 63.2946,222.51 L 64.1401,223.726 L 65.0844,224.868 L 66.1209,225.926 L 67.2424,226.894 L 68.4409,227.765 L 69.7081,228.532 L 71.0351,229.191 L 72.4125,229.736 L 73.8308,230.165 L 75.2799,230.473 L 76.7496,230.658 L 78.2298,230.72\" style=\"fill:none;stroke:#0000FF;stroke-width:9px;stroke-linecap:butt;stroke-linejoin:miter;stroke-opacity:1;\"/>\n",
       "<path d=\"M 78.2298,230.72 L 79.71,230.658 L 81.1798,230.473 L 82.6288,230.165 L 84.0471,229.736 L 85.4245,229.191 L 86.7515,228.532 L 88.0187,227.765 L 89.2172,226.894 L 90.3387,225.926 L 91.3752,224.868 L 92.3195,223.726 L 93.165,222.51 L 93.9057,221.227 L 94.5365,219.886 L 95.0529,218.498 L 95.4513,217.071 L 95.7289,215.615 L 95.8838,214.142 L 95.9148,212.661 L 95.8218,211.182 L 95.6053,209.717 L 95.2671,208.275 L 94.8093,206.866 L 94.2352,205.5 L 93.5488,204.187\" style=\"fill:none;stroke:#00FF00;stroke-width:9px;stroke-linecap:butt;stroke-linejoin:miter;stroke-opacity:1;\"/>\n",
       "<path class=\"bond-0\" d=\"M 180.507,154.352 L 155.207,207.877 L 165.17,211.534 Z\" style=\"fill:#000000;fill-rule:evenodd;fill-opacity=1;stroke:#000000;stroke-width:2px;stroke-linecap:butt;stroke-linejoin:miter;stroke-opacity:1;\"/>\n",
       "<path class=\"bond-1\" d=\"M 180.507,154.352 L 129.528,124.729\" style=\"fill:none;fill-rule:evenodd;stroke:#000000;stroke-width:2px;stroke-linecap:butt;stroke-linejoin:miter;stroke-opacity:1\"/>\n",
       "<path class=\"bond-5\" d=\"M 180.507,154.352 L 238.538,164.741\" style=\"fill:none;fill-rule:evenodd;stroke:#000000;stroke-width:2px;stroke-linecap:butt;stroke-linejoin:miter;stroke-opacity:1\"/>\n",
       "<path class=\"bond-9\" d=\"M 180.507,154.352 L 218.526,109.28\" style=\"fill:none;fill-rule:evenodd;stroke:#000000;stroke-width:2px;stroke-linecap:butt;stroke-linejoin:miter;stroke-opacity:1\"/>\n",
       "<path class=\"bond-2\" d=\"M 129.528,124.729 L 78.3831,154.08\" style=\"fill:none;fill-rule:evenodd;stroke:#000000;stroke-width:2px;stroke-linecap:butt;stroke-linejoin:miter;stroke-opacity:1\"/>\n",
       "<path class=\"bond-3\" d=\"M 78.3831,154.08 L 78.3256,176.186\" style=\"fill:none;fill-rule:evenodd;stroke:#000000;stroke-width:2px;stroke-linecap:butt;stroke-linejoin:miter;stroke-opacity:1\"/>\n",
       "<path class=\"bond-3\" d=\"M 78.3256,176.186 L 78.2681,198.291\" style=\"fill:none;fill-rule:evenodd;stroke:#FF0000;stroke-width:2px;stroke-linecap:butt;stroke-linejoin:miter;stroke-opacity:1\"/>\n",
       "<path class=\"bond-4\" d=\"M 81.0492,149.492 L 62.4433,138.681\" style=\"fill:none;fill-rule:evenodd;stroke:#000000;stroke-width:2px;stroke-linecap:butt;stroke-linejoin:miter;stroke-opacity:1\"/>\n",
       "<path class=\"bond-4\" d=\"M 62.4433,138.681 L 43.8374,127.869\" style=\"fill:none;fill-rule:evenodd;stroke:#FF0000;stroke-width:2px;stroke-linecap:butt;stroke-linejoin:miter;stroke-opacity:1\"/>\n",
       "<path class=\"bond-4\" d=\"M 75.717,158.669 L 57.111,147.857\" style=\"fill:none;fill-rule:evenodd;stroke:#000000;stroke-width:2px;stroke-linecap:butt;stroke-linejoin:miter;stroke-opacity:1\"/>\n",
       "<path class=\"bond-4\" d=\"M 57.111,147.857 L 38.5051,137.046\" style=\"fill:none;fill-rule:evenodd;stroke:#FF0000;stroke-width:2px;stroke-linecap:butt;stroke-linejoin:miter;stroke-opacity:1\"/>\n",
       "<path class=\"bond-6\" d=\"M 238.538,164.741 L 218.526,109.28\" style=\"fill:none;fill-rule:evenodd;stroke:#000000;stroke-width:2px;stroke-linecap:butt;stroke-linejoin:miter;stroke-opacity:1\"/>\n",
       "<path class=\"bond-7\" d=\"M 218.526,109.28 L 207.077,91.4259 L 203.004,94.8266 Z\" style=\"fill:#000000;fill-rule:evenodd;fill-opacity=1;stroke:#000000;stroke-width:2px;stroke-linecap:butt;stroke-linejoin:miter;stroke-opacity:1;\"/>\n",
       "<path class=\"bond-7\" d=\"M 207.077,91.4259 L 187.481,80.3729 L 195.629,73.5714 Z\" style=\"fill:#33CCCC;fill-rule:evenodd;fill-opacity=1;stroke:#33CCCC;stroke-width:2px;stroke-linecap:butt;stroke-linejoin:miter;stroke-opacity:1;\"/>\n",
       "<path class=\"bond-7\" d=\"M 207.077,91.4259 L 203.004,94.8266 L 187.481,80.3729 Z\" style=\"fill:#33CCCC;fill-rule:evenodd;fill-opacity=1;stroke:#33CCCC;stroke-width:2px;stroke-linecap:butt;stroke-linejoin:miter;stroke-opacity:1;\"/>\n",
       "<path class=\"bond-8\" d=\"M 218.526,109.28 L 235.74,99.403\" style=\"fill:none;fill-rule:evenodd;stroke:#000000;stroke-width:2px;stroke-linecap:butt;stroke-linejoin:miter;stroke-opacity:1\"/>\n",
       "<path class=\"bond-8\" d=\"M 235.74,99.403 L 252.954,89.5257\" style=\"fill:none;fill-rule:evenodd;stroke:#00CC00;stroke-width:2px;stroke-linecap:butt;stroke-linejoin:miter;stroke-opacity:1\"/>\n",
       "<text dominant-baseline=\"central\" style=\"font-size:29px;font-style:normal;font-weight:normal;fill-opacity:1;stroke:none;font-family:sans-serif;fill:#000000\" text-anchor=\"start\" x=\"67.4105\" y=\"217.454\"><tspan>O</tspan></text>\n",
       "<text dominant-baseline=\"central\" style=\"font-size:29px;font-style:normal;font-weight:normal;fill-opacity:1;stroke:none;font-family:sans-serif;fill:#FF0000\" text-anchor=\"end\" x=\"38.2231\" y=\"128.88\"><tspan>O</tspan></text>\n",
       "<text dominant-baseline=\"central\" style=\"font-size:29px;font-style:normal;font-weight:normal;fill-opacity:1;stroke:none;font-family:sans-serif;fill:#33CCCC\" text-anchor=\"end\" x=\"188.607\" y=\"68.4427\"><tspan>F</tspan></text>\n",
       "<text dominant-baseline=\"central\" style=\"font-size:29px;font-style:normal;font-weight:normal;fill-opacity:1;stroke:none;font-family:sans-serif;fill:#00CC00\" text-anchor=\"start\" x=\"255.902\" y=\"84.3626\"><tspan>Cl</tspan></text>\n",
       "<path d=\"M 79.9987,231.31 L 79.9921,231.158 L 79.9725,231.007 L 79.94,230.858 L 79.8949,230.713 L 79.8374,230.572 L 79.768,230.436 L 79.6872,230.307 L 79.5957,230.186 L 79.494,230.073 L 79.3829,229.969 L 79.2634,229.874 L 79.1361,229.791 L 79.0022,229.719 L 78.8625,229.658 L 78.7182,229.61 L 78.5702,229.574 L 78.4197,229.551 L 78.2679,229.541 L 78.1157,229.545 L 77.9644,229.561 L 77.815,229.59 L 77.6687,229.632 L 77.5266,229.687 L 77.3897,229.753 L 77.259,229.831 L 77.1354,229.92 L 77.02,230.019 L 76.9136,230.128 L 76.8169,230.246 L 76.7306,230.371 L 76.6554,230.503 L 76.5919,230.642 L 76.5406,230.785 L 76.5017,230.932 L 76.4756,231.082 L 76.4626,231.234 L 76.4626,231.386 L 76.4756,231.538 L 76.5017,231.688 L 76.5406,231.835 L 76.5919,231.978 L 76.6554,232.116 L 76.7306,232.249 L 76.8169,232.374 L 76.9136,232.492 L 77.02,232.6 L 77.1354,232.7 L 77.259,232.789 L 77.3897,232.867 L 77.5266,232.933 L 77.6687,232.987 L 77.815,233.029 L 77.9644,233.059 L 78.1157,233.075 L 78.2679,233.078 L 78.4197,233.069 L 78.5702,233.046 L 78.7182,233.01 L 78.8625,232.962 L 79.0022,232.901 L 79.1361,232.829 L 79.2634,232.745 L 79.3829,232.651 L 79.494,232.547 L 79.5957,232.434 L 79.6872,232.312 L 79.768,232.183 L 79.8374,232.048 L 79.8949,231.907 L 79.94,231.762 L 79.9725,231.613 L 79.9921,231.462 L 79.9987,231.31 L 78.2298,231.31 Z\" style=\"fill:#000000;fill-rule:evenodd;fill-opacity=1;stroke:#000000;stroke-width:2px;stroke-linecap:butt;stroke-linejoin:miter;stroke-opacity:1;\"/>\n",
       "<text dominant-baseline=\"central\" style=\"font-size:12px;font-style:normal;font-weight:normal;fill-opacity:1;stroke:none;font-family:sans-serif;fill:#000000\" text-anchor=\"middle\" x=\"150\" y=\"265\"><tspan>C[C@]1(CC([O])=O)C[C@@]1(F)Cl</tspan></text>\n",
       "</svg>"
      ],
      "text/plain": [
       "<IPython.core.display.SVG object>"
      ]
     },
     "execution_count": 124,
     "metadata": {},
     "output_type": "execute_result"
    }
   ],
   "source": [
    "draw('C[C@]1(CC([O])=O)C[C@@]1(F)Cl')"
   ]
  },
  {
   "cell_type": "code",
   "execution_count": 125,
   "metadata": {},
   "outputs": [
    {
     "data": {
      "image/svg+xml": [
       "<svg baseProfile=\"full\" height=\"280px\" version=\"1.1\" viewBox=\"0 0 600 280\" width=\"600px\" xml:space=\"preserve\" xmlns=\"http://www.w3.org/2000/svg\" xmlns:rdkit=\"http://www.rdkit.org/xml\" xmlns:xlink=\"http://www.w3.org/1999/xlink\">\n",
       "<!-- END OF HEADER -->\n",
       "<rect height=\"280\" style=\"opacity:1.0;fill:#FFFFFF;stroke:none\" width=\"600\" x=\"0\" y=\"0\"> </rect>\n",
       "<path d=\"M 284.369,113.993 L 283.701,112.94 L 282.947,111.947 L 282.113,111.02 L 281.204,110.167 L 280.227,109.392 L 279.189,108.702 L 278.096,108.102 L 276.957,107.595 L 275.78,107.185 L 274.572,106.875 L 273.343,106.667 L 272.1,106.562 L 270.853,106.562 L 269.611,106.667 L 268.382,106.875 L 267.174,107.185 L 265.997,107.595 L 264.858,108.102 L 263.765,108.702 L 262.727,109.392 L 261.749,110.167 L 260.841,111.02 L 260.006,111.947 L 259.252,112.94 L 258.584,113.993\" style=\"fill:none;stroke:#FF0000;stroke-width:7px;stroke-linecap:butt;stroke-linejoin:miter;stroke-opacity:1;\"/>\n",
       "<path d=\"M 258.584,113.993 L 258.007,115.098 L 257.524,116.247 L 257.138,117.433 L 256.854,118.647 L 256.671,119.88 L 256.593,121.124 L 256.619,122.371 L 256.75,123.611 L 256.983,124.836 L 257.319,126.036 L 257.753,127.205 L 258.284,128.333 L 258.907,129.413 L 259.619,130.437 L 260.414,131.397 L 261.286,132.288 L 262.23,133.103 L 263.239,133.836 L 264.305,134.482 L 265.422,135.036 L 266.581,135.495 L 267.775,135.855 L 268.994,136.114 L 270.231,136.271 L 271.477,136.323\" style=\"fill:none;stroke:#0000FF;stroke-width:7px;stroke-linecap:butt;stroke-linejoin:miter;stroke-opacity:1;\"/>\n",
       "<path d=\"M 271.477,136.323 L 272.722,136.271 L 273.959,136.114 L 275.179,135.855 L 276.373,135.495 L 277.532,135.036 L 278.649,134.482 L 279.715,133.836 L 280.724,133.103 L 281.668,132.288 L 282.54,131.397 L 283.335,130.437 L 284.046,129.413 L 284.67,128.333 L 285.2,127.205 L 285.635,126.036 L 285.97,124.836 L 286.204,123.611 L 286.334,122.371 L 286.36,121.124 L 286.282,119.88 L 286.1,118.647 L 285.815,117.433 L 285.43,116.247 L 284.947,115.098 L 284.369,113.993\" style=\"fill:none;stroke:#00FF00;stroke-width:7px;stroke-linecap:butt;stroke-linejoin:miter;stroke-opacity:1;\"/>\n",
       "<path class=\"bond-0\" d=\"M 11.4005,125.104 L 54.3541,149.945\" style=\"fill:none;fill-rule:evenodd;stroke:#000000;stroke-width:2px;stroke-linecap:butt;stroke-linejoin:miter;stroke-opacity:1\"/>\n",
       "<path class=\"bond-0\" d=\"M 15.8722,117.372 L 58.8258,142.213\" style=\"fill:none;fill-rule:evenodd;stroke:#000000;stroke-width:2px;stroke-linecap:butt;stroke-linejoin:miter;stroke-opacity:1\"/>\n",
       "<path class=\"bond-1\" d=\"M 56.5899,146.079 L 99.5832,121.307\" style=\"fill:none;fill-rule:evenodd;stroke:#000000;stroke-width:2px;stroke-linecap:butt;stroke-linejoin:miter;stroke-opacity:1\"/>\n",
       "<path class=\"bond-2\" d=\"M 99.5832,121.307 L 142.537,146.148\" style=\"fill:none;fill-rule:evenodd;stroke:#000000;stroke-width:2px;stroke-linecap:butt;stroke-linejoin:miter;stroke-opacity:1\"/>\n",
       "<path class=\"bond-3\" d=\"M 142.537,146.148 L 185.53,121.377\" style=\"fill:none;fill-rule:evenodd;stroke:#000000;stroke-width:2px;stroke-linecap:butt;stroke-linejoin:miter;stroke-opacity:1\"/>\n",
       "<path class=\"bond-4\" d=\"M 189.996,121.38 L 190.036,71.7572\" style=\"fill:none;fill-rule:evenodd;stroke:#000000;stroke-width:2px;stroke-linecap:butt;stroke-linejoin:miter;stroke-opacity:1\"/>\n",
       "<path class=\"bond-4\" d=\"M 181.064,121.373 L 181.104,71.7501\" style=\"fill:none;fill-rule:evenodd;stroke:#000000;stroke-width:2px;stroke-linecap:butt;stroke-linejoin:miter;stroke-opacity:1\"/>\n",
       "<path class=\"bond-5\" d=\"M 185.53,121.377 L 228.484,146.218\" style=\"fill:none;fill-rule:evenodd;stroke:#000000;stroke-width:2px;stroke-linecap:butt;stroke-linejoin:miter;stroke-opacity:1\"/>\n",
       "<path class=\"bond-6\" d=\"M 228.484,146.218 L 244.187,137.166\" style=\"fill:none;fill-rule:evenodd;stroke:#000000;stroke-width:2px;stroke-linecap:butt;stroke-linejoin:miter;stroke-opacity:1\"/>\n",
       "<path class=\"bond-6\" d=\"M 244.187,137.166 L 259.89,128.115\" style=\"fill:none;fill-rule:evenodd;stroke:#FF0000;stroke-width:2px;stroke-linecap:butt;stroke-linejoin:miter;stroke-opacity:1\"/>\n",
       "<path class=\"bond-7\" d=\"M 224.017,146.214 L 224.003,164.823\" style=\"fill:none;fill-rule:evenodd;stroke:#000000;stroke-width:2px;stroke-linecap:butt;stroke-linejoin:miter;stroke-opacity:1\"/>\n",
       "<path class=\"bond-7\" d=\"M 224.003,164.823 L 223.988,183.431\" style=\"fill:none;fill-rule:evenodd;stroke:#FF0000;stroke-width:2px;stroke-linecap:butt;stroke-linejoin:miter;stroke-opacity:1\"/>\n",
       "<path class=\"bond-7\" d=\"M 232.95,146.221 L 232.935,164.83\" style=\"fill:none;fill-rule:evenodd;stroke:#000000;stroke-width:2px;stroke-linecap:butt;stroke-linejoin:miter;stroke-opacity:1\"/>\n",
       "<path class=\"bond-7\" d=\"M 232.935,164.83 L 232.92,183.438\" style=\"fill:none;fill-rule:evenodd;stroke:#FF0000;stroke-width:2px;stroke-linecap:butt;stroke-linejoin:miter;stroke-opacity:1\"/>\n",
       "<text dominant-baseline=\"central\" style=\"font-size:24px;font-style:normal;font-weight:normal;fill-opacity:1;stroke:none;font-family:sans-serif;fill:#000000\" text-anchor=\"start\" x=\"262.371\" y=\"125.158\"><tspan>O</tspan></text>\n",
       "<text dominant-baseline=\"central\" style=\"font-size:24px;font-style:normal;font-weight:normal;fill-opacity:1;stroke:none;font-family:sans-serif;fill:#FF0000\" text-anchor=\"start\" x=\"219.338\" y=\"199.562\"><tspan>O</tspan></text>\n",
       "<path d=\"M 272.965,106.053 L 272.96,105.925 L 272.943,105.798 L 272.916,105.673 L 272.878,105.551 L 272.83,105.432 L 272.771,105.318 L 272.703,105.209 L 272.626,105.107 L 272.541,105.012 L 272.447,104.924 L 272.347,104.845 L 272.24,104.775 L 272.127,104.714 L 272.009,104.663 L 271.888,104.622 L 271.763,104.592 L 271.637,104.573 L 271.509,104.565 L 271.381,104.567 L 271.253,104.581 L 271.128,104.606 L 271.005,104.641 L 270.885,104.687 L 270.77,104.743 L 270.66,104.809 L 270.556,104.883 L 270.459,104.967 L 270.369,105.058 L 270.288,105.157 L 270.215,105.263 L 270.152,105.374 L 270.098,105.491 L 270.055,105.611 L 270.022,105.735 L 270,105.861 L 269.989,105.989 L 269.989,106.117 L 270,106.245 L 270.022,106.371 L 270.055,106.495 L 270.098,106.615 L 270.152,106.732 L 270.215,106.843 L 270.288,106.949 L 270.369,107.048 L 270.459,107.139 L 270.556,107.223 L 270.66,107.297 L 270.77,107.363 L 270.885,107.419 L 271.005,107.465 L 271.128,107.5 L 271.253,107.525 L 271.381,107.539 L 271.509,107.541 L 271.637,107.533 L 271.763,107.514 L 271.888,107.484 L 272.009,107.443 L 272.127,107.392 L 272.24,107.331 L 272.347,107.261 L 272.447,107.182 L 272.541,107.094 L 272.626,106.999 L 272.703,106.897 L 272.771,106.788 L 272.83,106.674 L 272.878,106.555 L 272.916,106.433 L 272.943,106.308 L 272.96,106.181 L 272.965,106.053 L 271.477,106.053 Z\" style=\"fill:#000000;fill-rule:evenodd;fill-opacity=1;stroke:#000000;stroke-width:2px;stroke-linecap:butt;stroke-linejoin:miter;stroke-opacity:1;\"/>\n",
       "<text dominant-baseline=\"central\" style=\"font-size:12px;font-style:normal;font-weight:normal;fill-opacity:1;stroke:none;font-family:sans-serif;fill:#000000\" text-anchor=\"middle\" x=\"150\" y=\"265\"><tspan>C=CCCC(=C)C([O])=O</tspan></text>\n",
       "</svg>"
      ],
      "text/plain": [
       "<IPython.core.display.SVG object>"
      ]
     },
     "execution_count": 125,
     "metadata": {},
     "output_type": "execute_result"
    }
   ],
   "source": [
    "draw('C=CCCC(=C)C([O])=O')"
   ]
  },
  {
   "cell_type": "code",
   "execution_count": 126,
   "metadata": {},
   "outputs": [
    {
     "data": {
      "image/svg+xml": [
       "<svg baseProfile=\"full\" height=\"280px\" version=\"1.1\" viewBox=\"0 0 600 280\" width=\"600px\" xml:space=\"preserve\" xmlns=\"http://www.w3.org/2000/svg\" xmlns:rdkit=\"http://www.rdkit.org/xml\" xmlns:xlink=\"http://www.w3.org/1999/xlink\">\n",
       "<!-- END OF HEADER -->\n",
       "<rect height=\"280\" style=\"opacity:1.0;fill:#FFFFFF;stroke:none\" width=\"600\" x=\"0\" y=\"0\"> </rect>\n",
       "<path d=\"M 284.417,154.145 L 283.764,153.117 L 283.029,152.148 L 282.214,151.243 L 281.327,150.41 L 280.373,149.654 L 279.359,148.981 L 278.293,148.394 L 277.181,147.899 L 276.031,147.499 L 274.853,147.196 L 273.653,146.993 L 272.44,146.891 L 271.223,146.891 L 270.01,146.993 L 268.81,147.196 L 267.631,147.499 L 266.481,147.899 L 265.369,148.394 L 264.303,148.981 L 263.289,149.654 L 262.335,150.41 L 261.448,151.243 L 260.634,152.148 L 259.898,153.117 L 259.246,154.145\" style=\"fill:none;stroke:#FF0000;stroke-width:7px;stroke-linecap:butt;stroke-linejoin:miter;stroke-opacity:1;\"/>\n",
       "<path d=\"M 259.246,154.145 L 258.682,155.224 L 258.21,156.346 L 257.834,157.503 L 257.556,158.688 L 257.378,159.892 L 257.302,161.107 L 257.327,162.324 L 257.454,163.534 L 257.683,164.73 L 258.01,165.902 L 258.434,167.043 L 258.952,168.144 L 259.561,169.198 L 260.255,170.198 L 261.031,171.135 L 261.883,172.005 L 262.804,172.8 L 263.789,173.516 L 264.83,174.146 L 265.92,174.687 L 267.052,175.135 L 268.217,175.487 L 269.408,175.74 L 270.615,175.893 L 271.831,175.944\" style=\"fill:none;stroke:#0000FF;stroke-width:7px;stroke-linecap:butt;stroke-linejoin:miter;stroke-opacity:1;\"/>\n",
       "<path d=\"M 271.831,175.944 L 273.047,175.893 L 274.255,175.74 L 275.445,175.487 L 276.61,175.135 L 277.742,174.687 L 278.832,174.146 L 279.873,173.516 L 280.858,172.8 L 281.779,172.005 L 282.631,171.135 L 283.407,170.198 L 284.101,169.198 L 284.71,168.144 L 285.228,167.043 L 285.652,165.902 L 285.98,164.73 L 286.208,163.534 L 286.335,162.324 L 286.36,161.107 L 286.284,159.892 L 286.106,158.688 L 285.828,157.503 L 285.452,156.346 L 284.981,155.224 L 284.417,154.145\" style=\"fill:none;stroke:#00FF00;stroke-width:7px;stroke-linecap:butt;stroke-linejoin:miter;stroke-opacity:1;\"/>\n",
       "<path class=\"bond-0\" d=\"M 13.6364,137.19 L 55.587,161.411\" style=\"fill:none;fill-rule:evenodd;stroke:#000000;stroke-width:2px;stroke-linecap:butt;stroke-linejoin:miter;stroke-opacity:1\"/>\n",
       "<path class=\"bond-1\" d=\"M 55.587,161.411 L 97.5375,137.19\" style=\"fill:none;fill-rule:evenodd;stroke:#000000;stroke-width:2px;stroke-linecap:butt;stroke-linejoin:miter;stroke-opacity:1\"/>\n",
       "<path class=\"bond-2\" d=\"M 126.231,152.079 L 124.778,154.596\" style=\"fill:none;fill-rule:evenodd;stroke:#000000;stroke-width:2px;stroke-linecap:butt;stroke-linejoin:miter;stroke-opacity:1\"/>\n",
       "<path class=\"bond-2\" d=\"M 112.974,142.747 L 110.068,147.781\" style=\"fill:none;fill-rule:evenodd;stroke:#000000;stroke-width:2px;stroke-linecap:butt;stroke-linejoin:miter;stroke-opacity:1\"/>\n",
       "<path class=\"bond-2\" d=\"M 99.7175,133.415 L 95.3576,140.966\" style=\"fill:none;fill-rule:evenodd;stroke:#000000;stroke-width:2px;stroke-linecap:butt;stroke-linejoin:miter;stroke-opacity:1\"/>\n",
       "<path class=\"bond-3\" d=\"M 139.488,161.411 L 163.709,203.362\" style=\"fill:none;fill-rule:evenodd;stroke:#000000;stroke-width:2px;stroke-linecap:butt;stroke-linejoin:miter;stroke-opacity:1\"/>\n",
       "<path class=\"bond-8\" d=\"M 139.488,161.411 L 187.93,161.411\" style=\"fill:none;fill-rule:evenodd;stroke:#000000;stroke-width:2px;stroke-linecap:butt;stroke-linejoin:miter;stroke-opacity:1\"/>\n",
       "<path class=\"bond-4\" d=\"M 163.709,203.362 L 187.93,161.411\" style=\"fill:none;fill-rule:evenodd;stroke:#000000;stroke-width:2px;stroke-linecap:butt;stroke-linejoin:miter;stroke-opacity:1\"/>\n",
       "<path class=\"bond-5\" d=\"M 187.93,161.411 L 232.06,140.966 L 227.701,133.415 Z\" style=\"fill:#000000;fill-rule:evenodd;fill-opacity=1;stroke:#000000;stroke-width:2px;stroke-linecap:butt;stroke-linejoin:miter;stroke-opacity:1;\"/>\n",
       "<path class=\"bond-6\" d=\"M 229.881,137.19 L 245.2,146.036\" style=\"fill:none;fill-rule:evenodd;stroke:#000000;stroke-width:2px;stroke-linecap:butt;stroke-linejoin:miter;stroke-opacity:1\"/>\n",
       "<path class=\"bond-6\" d=\"M 245.2,146.036 L 260.52,154.881\" style=\"fill:none;fill-rule:evenodd;stroke:#FF0000;stroke-width:2px;stroke-linecap:butt;stroke-linejoin:miter;stroke-opacity:1\"/>\n",
       "<path class=\"bond-7\" d=\"M 234.24,137.19 L 234.24,119.025\" style=\"fill:none;fill-rule:evenodd;stroke:#000000;stroke-width:2px;stroke-linecap:butt;stroke-linejoin:miter;stroke-opacity:1\"/>\n",
       "<path class=\"bond-7\" d=\"M 234.24,119.025 L 234.24,100.859\" style=\"fill:none;fill-rule:evenodd;stroke:#FF0000;stroke-width:2px;stroke-linecap:butt;stroke-linejoin:miter;stroke-opacity:1\"/>\n",
       "<path class=\"bond-7\" d=\"M 225.521,137.19 L 225.521,119.025\" style=\"fill:none;fill-rule:evenodd;stroke:#000000;stroke-width:2px;stroke-linecap:butt;stroke-linejoin:miter;stroke-opacity:1\"/>\n",
       "<path class=\"bond-7\" d=\"M 225.521,119.025 L 225.521,100.859\" style=\"fill:none;fill-rule:evenodd;stroke:#FF0000;stroke-width:2px;stroke-linecap:butt;stroke-linejoin:miter;stroke-opacity:1\"/>\n",
       "<text dominant-baseline=\"central\" style=\"font-size:24px;font-style:normal;font-weight:normal;fill-opacity:1;stroke:none;font-family:sans-serif;fill:#000000\" text-anchor=\"start\" x=\"262.942\" y=\"165.044\"><tspan>O</tspan></text>\n",
       "<text dominant-baseline=\"central\" style=\"font-size:24px;font-style:normal;font-weight:normal;fill-opacity:1;stroke:none;font-family:sans-serif;fill:#FF0000\" text-anchor=\"start\" x=\"220.992\" y=\"92.3817\"><tspan>O</tspan></text>\n",
       "<path d=\"M 273.284,146.394 L 273.279,146.269 L 273.263,146.145 L 273.236,146.023 L 273.199,145.904 L 273.152,145.788 L 273.095,145.677 L 273.028,145.571 L 272.953,145.471 L 272.87,145.378 L 272.778,145.292 L 272.68,145.215 L 272.576,145.146 L 272.466,145.087 L 272.351,145.037 L 272.232,144.998 L 272.111,144.968 L 271.987,144.949 L 271.862,144.941 L 271.737,144.944 L 271.613,144.958 L 271.49,144.982 L 271.37,145.016 L 271.253,145.061 L 271.141,145.115 L 271.033,145.18 L 270.932,145.253 L 270.837,145.334 L 270.75,145.423 L 270.67,145.52 L 270.599,145.623 L 270.538,145.732 L 270.485,145.845 L 270.443,145.963 L 270.411,146.084 L 270.39,146.207 L 270.379,146.332 L 270.379,146.457 L 270.39,146.581 L 270.411,146.705 L 270.443,146.826 L 270.485,146.943 L 270.538,147.057 L 270.599,147.166 L 270.67,147.269 L 270.75,147.365 L 270.837,147.455 L 270.932,147.536 L 271.033,147.609 L 271.141,147.673 L 271.253,147.728 L 271.37,147.773 L 271.49,147.807 L 271.613,147.831 L 271.737,147.845 L 271.862,147.847 L 271.987,147.839 L 272.111,147.82 L 272.232,147.791 L 272.351,147.751 L 272.466,147.702 L 272.576,147.642 L 272.68,147.574 L 272.778,147.496 L 272.87,147.411 L 272.953,147.318 L 273.028,147.218 L 273.095,147.112 L 273.152,147.001 L 273.199,146.885 L 273.236,146.765 L 273.263,146.643 L 273.279,146.519 L 273.284,146.394 L 271.831,146.394 Z\" style=\"fill:#000000;fill-rule:evenodd;fill-opacity=1;stroke:#000000;stroke-width:2px;stroke-linecap:butt;stroke-linejoin:miter;stroke-opacity:1;\"/>\n",
       "<text dominant-baseline=\"central\" style=\"font-size:12px;font-style:normal;font-weight:normal;fill-opacity:1;stroke:none;font-family:sans-serif;fill:#000000\" text-anchor=\"middle\" x=\"150\" y=\"265\"><tspan>CCC[C@H]1C[C@@H]1C([O])=O</tspan></text>\n",
       "</svg>"
      ],
      "text/plain": [
       "<IPython.core.display.SVG object>"
      ]
     },
     "execution_count": 126,
     "metadata": {},
     "output_type": "execute_result"
    }
   ],
   "source": [
    "draw('CCC[C@H]1C[C@@H]1C([O])=O')"
   ]
  },
  {
   "cell_type": "code",
   "execution_count": 127,
   "metadata": {},
   "outputs": [
    {
     "name": "stderr",
     "output_type": "stream",
     "text": [
      " 68%|██████▊   | 3384/5000 [00:00<00:00, 4236.68it/s]RDKit WARNING: [08:31:28] Conflicting single bond directions around double bond at index 2.\n",
      "RDKit WARNING: [08:31:28]   BondStereo set to STEREONONE and single bond directions set to NONE.\n",
      "RDKit WARNING: [08:31:28] Conflicting single bond directions around double bond at index 2.\n",
      "RDKit WARNING: [08:31:28]   BondStereo set to STEREONONE and single bond directions set to NONE.\n",
      "100%|██████████| 5000/5000 [00:01<00:00, 4195.56it/s]\n"
     ]
    }
   ],
   "source": [
    "formal_center = unique_mols.progress_apply(lambda x: [atom.GetIdx() for atom in Chem.MolFromSmiles(x).GetAtoms() if (atom.GetNumRadicalElectrons() == 1)][0])"
   ]
  },
  {
   "cell_type": "code",
   "execution_count": 128,
   "metadata": {},
   "outputs": [],
   "source": [
    "formal_center.name = 'atom_index'\n",
    "radical_center_df = pd.DataFrame(formal_center)\n",
    "radical_center_df['smiles'] = unique_mols"
   ]
  },
  {
   "cell_type": "code",
   "execution_count": 131,
   "metadata": {},
   "outputs": [],
   "source": [
    "preds_on_formal_center = radical_center_df.merge(cdf_test_merged, on=['smiles', 'atom_index'], how='left')"
   ]
  },
  {
   "cell_type": "code",
   "execution_count": 133,
   "metadata": {},
   "outputs": [
    {
     "data": {
      "text/plain": [
       "Text(0.5, 1.0, 'Predictions on the formal radical center')"
      ]
     },
     "execution_count": 133,
     "metadata": {},
     "output_type": "execute_result"
    },
    {
     "data": {
      "image/png": "[encoded data removed]",
      "text/plain": [
       "<Figure size 288x288 with 1 Axes>"
      ]
     },
     "metadata": {
      "needs_background": "light"
     },
     "output_type": "display_data"
    }
   ],
   "source": [
    "cdf_subset = cdf_test_merged[cdf_test_merged.smiles.isin(unique_mols[is_carboxylic_acid])]\n",
    "\n",
    "fig = plt.figure(figsize=(4,4))\n",
    "ax = fig.add_subplot(111, aspect='equal')\n",
    "ax.plot(preds_on_formal_center.fractional_spin, preds_on_formal_center.predicted_fractional_spin, '.', ms=1)\n",
    "ax.set_xlim([0, 1])\n",
    "ax.set_ylim([0, 1])\n",
    "sns.despine(trim=True, offset=10)\n",
    "ax.set_xlabel('Measured fractional spin')\n",
    "ax.set_ylabel('Predicted fractional spin')\n",
    "ax.set_title('Predictions on the formal radical center')"
   ]
  },
  {
   "cell_type": "code",
   "execution_count": 137,
   "metadata": {},
   "outputs": [
    {
     "data": {
      "text/html": [
       "<div>\n",
       "<style scoped>\n",
       "    .dataframe tbody tr th:only-of-type {\n",
       "        vertical-align: middle;\n",
       "    }\n",
       "\n",
       "    .dataframe tbody tr th {\n",
       "        vertical-align: top;\n",
       "    }\n",
       "\n",
       "    .dataframe thead th {\n",
       "        text-align: right;\n",
       "    }\n",
       "</style>\n",
       "<table border=\"1\" class=\"dataframe\">\n",
       "  <thead>\n",
       "    <tr style=\"text-align: right;\">\n",
       "      <th></th>\n",
       "      <th>smiles</th>\n",
       "      <th>atom_type</th>\n",
       "      <th>atom_index</th>\n",
       "      <th>spin</th>\n",
       "      <th>fractional_spin</th>\n",
       "      <th>predicted_fractional_spin</th>\n",
       "      <th>abs_err</th>\n",
       "    </tr>\n",
       "  </thead>\n",
       "  <tbody>\n",
       "    <tr>\n",
       "      <th>89719</th>\n",
       "      <td>O=c1cnc2[c][nH]ccn1-2</td>\n",
       "      <td>C</td>\n",
       "      <td>5</td>\n",
       "      <td>-0.067202</td>\n",
       "      <td>0.055085</td>\n",
       "      <td>0.853996</td>\n",
       "      <td>0.798911</td>\n",
       "    </tr>\n",
       "    <tr>\n",
       "      <th>76682</th>\n",
       "      <td>COC(=O)c1[c]c(O)cs1</td>\n",
       "      <td>C</td>\n",
       "      <td>5</td>\n",
       "      <td>0.968328</td>\n",
       "      <td>0.832611</td>\n",
       "      <td>0.182034</td>\n",
       "      <td>0.650577</td>\n",
       "    </tr>\n",
       "    <tr>\n",
       "      <th>25864</th>\n",
       "      <td>CCCn1[c]c(N)nn1</td>\n",
       "      <td>C</td>\n",
       "      <td>4</td>\n",
       "      <td>0.972479</td>\n",
       "      <td>0.852591</td>\n",
       "      <td>0.227463</td>\n",
       "      <td>0.625128</td>\n",
       "    </tr>\n",
       "    <tr>\n",
       "      <th>94365</th>\n",
       "      <td>O=C(O)c1[c]c(O)cs1</td>\n",
       "      <td>C</td>\n",
       "      <td>4</td>\n",
       "      <td>0.970942</td>\n",
       "      <td>0.831529</td>\n",
       "      <td>0.212202</td>\n",
       "      <td>0.619328</td>\n",
       "    </tr>\n",
       "    <tr>\n",
       "      <th>88570</th>\n",
       "      <td>[O]c1cccc(Cl)c1O</td>\n",
       "      <td>O</td>\n",
       "      <td>0</td>\n",
       "      <td>0.962141</td>\n",
       "      <td>0.831261</td>\n",
       "      <td>0.243010</td>\n",
       "      <td>0.588252</td>\n",
       "    </tr>\n",
       "    <tr>\n",
       "      <th>6109</th>\n",
       "      <td>Cc1[c]n(CCO)c(=O)s1</td>\n",
       "      <td>C</td>\n",
       "      <td>2</td>\n",
       "      <td>0.940959</td>\n",
       "      <td>0.813386</td>\n",
       "      <td>0.336151</td>\n",
       "      <td>0.477235</td>\n",
       "    </tr>\n",
       "    <tr>\n",
       "      <th>13182</th>\n",
       "      <td>C/C=C(C)/[C]=C\\C(=O)OC</td>\n",
       "      <td>C</td>\n",
       "      <td>4</td>\n",
       "      <td>0.474132</td>\n",
       "      <td>0.277424</td>\n",
       "      <td>0.746135</td>\n",
       "      <td>0.468711</td>\n",
       "    </tr>\n",
       "    <tr>\n",
       "      <th>82888</th>\n",
       "      <td>N#C/C=C/C(N)=C/[C]=O</td>\n",
       "      <td>C</td>\n",
       "      <td>7</td>\n",
       "      <td>0.107609</td>\n",
       "      <td>0.063891</td>\n",
       "      <td>0.523944</td>\n",
       "      <td>0.460053</td>\n",
       "    </tr>\n",
       "    <tr>\n",
       "      <th>72932</th>\n",
       "      <td>CNC(=S)[N]CC(N)=O</td>\n",
       "      <td>S</td>\n",
       "      <td>3</td>\n",
       "      <td>0.982853</td>\n",
       "      <td>0.885857</td>\n",
       "      <td>0.428936</td>\n",
       "      <td>0.456921</td>\n",
       "    </tr>\n",
       "    <tr>\n",
       "      <th>77762</th>\n",
       "      <td>C[P+]1CCCCC1</td>\n",
       "      <td>P</td>\n",
       "      <td>1</td>\n",
       "      <td>0.844721</td>\n",
       "      <td>0.783441</td>\n",
       "      <td>0.332062</td>\n",
       "      <td>0.451379</td>\n",
       "    </tr>\n",
       "  </tbody>\n",
       "</table>\n",
       "</div>"
      ],
      "text/plain": [
       "                       smiles atom_type atom_index      spin  fractional_spin  \\\n",
       "89719   O=c1cnc2[c][nH]ccn1-2         C          5 -0.067202         0.055085   \n",
       "76682     COC(=O)c1[c]c(O)cs1         C          5  0.968328         0.832611   \n",
       "25864         CCCn1[c]c(N)nn1         C          4  0.972479         0.852591   \n",
       "94365      O=C(O)c1[c]c(O)cs1         C          4  0.970942         0.831529   \n",
       "88570        [O]c1cccc(Cl)c1O         O          0  0.962141         0.831261   \n",
       "6109      Cc1[c]n(CCO)c(=O)s1         C          2  0.940959         0.813386   \n",
       "13182  C/C=C(C)/[C]=C\\C(=O)OC         C          4  0.474132         0.277424   \n",
       "82888    N#C/C=C/C(N)=C/[C]=O         C          7  0.107609         0.063891   \n",
       "72932       CNC(=S)[N]CC(N)=O         S          3  0.982853         0.885857   \n",
       "77762            C[P+]1CCCCC1         P          1  0.844721         0.783441   \n",
       "\n",
       "       predicted_fractional_spin   abs_err  \n",
       "89719                   0.853996  0.798911  \n",
       "76682                   0.182034  0.650577  \n",
       "25864                   0.227463  0.625128  \n",
       "94365                   0.212202  0.619328  \n",
       "88570                   0.243010  0.588252  \n",
       "6109                    0.336151  0.477235  \n",
       "13182                   0.746135  0.468711  \n",
       "82888                   0.523944  0.460053  \n",
       "72932                   0.428936  0.456921  \n",
       "77762                   0.332062  0.451379  "
      ]
     },
     "execution_count": 137,
     "metadata": {},
     "output_type": "execute_result"
    }
   ],
   "source": [
    "# what about non carboxylic acid errors\n",
    "cdf_test_merged[~cdf_test_merged.smiles.isin(unique_mols[is_carboxylic_acid])].sort_values(\n",
    "    'abs_err', ascending=False).drop_duplicates(subset='smiles', keep='first').head(10)"
   ]
  },
  {
   "cell_type": "markdown",
   "metadata": {},
   "source": [
    "This is a neat one"
   ]
  },
  {
   "cell_type": "code",
   "execution_count": 145,
   "metadata": {},
   "outputs": [
    {
     "data": {
      "image/svg+xml": [
       "<svg baseProfile=\"full\" height=\"280px\" version=\"1.1\" viewBox=\"0 0 600 280\" width=\"600px\" xml:space=\"preserve\" xmlns=\"http://www.w3.org/2000/svg\" xmlns:rdkit=\"http://www.rdkit.org/xml\" xmlns:xlink=\"http://www.w3.org/1999/xlink\">\n",
       "<!-- END OF HEADER -->\n",
       "<rect height=\"280\" style=\"opacity:1.0;fill:#FFFFFF;stroke:none\" width=\"600\" x=\"0\" y=\"0\"> </rect>\n",
       "<ellipse cx=\"241.937\" cy=\"51.2875\" rx=\"19.9863\" ry=\"19.9863\" style=\"fill:none;stroke:#FF0000;stroke-width:10px;stroke-linecap:butt;stroke-linejoin:miter;stroke-opacity:1\"/>\n",
       "<ellipse cx=\"124.684\" cy=\"32.7136\" rx=\"19.9863\" ry=\"19.9863\" style=\"fill:none;stroke:#FF0000;stroke-width:10px;stroke-linecap:butt;stroke-linejoin:miter;stroke-opacity:1\"/>\n",
       "<ellipse cx=\"91.3735\" cy=\"135.23\" rx=\"19.9863\" ry=\"19.9863\" style=\"fill:none;stroke:#FF0000;stroke-width:10px;stroke-linecap:butt;stroke-linejoin:miter;stroke-opacity:1\"/>\n",
       "<path d=\"M 58.063,172.937 L 56.3681,173.009 L 54.6853,173.225 L 53.0269,173.582 L 51.4048,174.079 L 49.8307,174.712 L 48.3158,175.475 L 46.8712,176.365 L 45.5073,177.374 L 44.2337,178.494 L 43.0599,179.719 L 41.9941,181.039 L 41.0441,182.445 L 40.2168,183.926 L 39.518,185.472 L 38.9528,187.071 L 38.5253,188.713 L 38.2386,190.385 L 38.0948,192.075 L 38.0948,193.772 L 38.2386,195.462 L 38.5253,197.134 L 38.9528,198.776 L 39.518,200.376 L 40.2168,201.922 L 41.0441,203.403 L 41.9941,204.808 L 43.0599,206.128 L 44.2337,207.353 L 45.5073,208.474 L 46.8712,209.483 L 48.3158,210.372 L 49.8307,211.136 L 51.4048,211.768 L 53.0269,212.265 L 54.6853,212.623 L 56.3681,212.838 L 58.063,212.91\" style=\"fill:none;stroke:#0000FF;stroke-width:10px;stroke-linecap:butt;stroke-linejoin:miter;stroke-opacity:1;\"/>\n",
       "<path d=\"M 58.063,212.91 L 59.758,212.838 L 61.4407,212.623 L 63.0992,212.265 L 64.7213,211.768 L 66.2954,211.136 L 67.8103,210.372 L 69.2549,209.483 L 70.6188,208.474 L 71.8923,207.353 L 73.0662,206.128 L 74.132,204.808 L 75.082,203.403 L 75.9093,201.922 L 76.6081,200.376 L 77.1733,198.776 L 77.6008,197.134 L 77.8875,195.462 L 78.0313,193.772 L 78.0313,192.075 L 77.8875,190.385 L 77.6008,188.713 L 77.1733,187.071 L 76.6081,185.472 L 75.9093,183.926 L 75.082,182.445 L 74.132,181.039 L 73.0662,179.719 L 71.8923,178.494 L 70.6188,177.374 L 69.2549,176.365 L 67.8103,175.475 L 66.2954,174.712 L 64.7213,174.079 L 63.0992,173.582 L 61.4407,173.225 L 59.758,173.009 L 58.063,172.937\" style=\"fill:none;stroke:#00FF00;stroke-width:10px;stroke-linecap:butt;stroke-linejoin:miter;stroke-opacity:1;\"/>\n",
       "<path class=\"bond-0\" d=\"M 224.529,50.6394 L 200.628,58.4052\" style=\"fill:none;fill-rule:evenodd;stroke:#FF0000;stroke-width:2px;stroke-linecap:butt;stroke-linejoin:miter;stroke-opacity:1\"/>\n",
       "<path class=\"bond-0\" d=\"M 200.628,58.4052 L 176.728,66.171\" style=\"fill:none;fill-rule:evenodd;stroke:#000000;stroke-width:2px;stroke-linecap:butt;stroke-linejoin:miter;stroke-opacity:1\"/>\n",
       "<path class=\"bond-0\" d=\"M 228.234,62.0443 L 204.334,69.81\" style=\"fill:none;fill-rule:evenodd;stroke:#FF0000;stroke-width:2px;stroke-linecap:butt;stroke-linejoin:miter;stroke-opacity:1\"/>\n",
       "<path class=\"bond-0\" d=\"M 204.334,69.81 L 180.433,77.5758\" style=\"fill:none;fill-rule:evenodd;stroke:#000000;stroke-width:2px;stroke-linecap:butt;stroke-linejoin:miter;stroke-opacity:1\"/>\n",
       "<path class=\"bond-1\" d=\"M 178.58,71.8734 L 124.684,32.7136\" style=\"fill:none;fill-rule:evenodd;stroke:#000000;stroke-width:2px;stroke-linecap:butt;stroke-linejoin:miter;stroke-opacity:1\"/>\n",
       "<path class=\"bond-9\" d=\"M 178.58,71.8734 L 170.993,95.224\" style=\"fill:none;fill-rule:evenodd;stroke:#0000FF;stroke-width:2px;stroke-linecap:butt;stroke-linejoin:miter;stroke-opacity:1\"/>\n",
       "<path class=\"bond-9\" d=\"M 170.993,95.224 L 163.406,118.575\" style=\"fill:none;fill-rule:evenodd;stroke:#000000;stroke-width:2px;stroke-linecap:butt;stroke-linejoin:miter;stroke-opacity:1\"/>\n",
       "<path class=\"bond-2\" d=\"M 124.684,32.7136 L 104.954,47.0491\" style=\"fill:none;fill-rule:evenodd;stroke:#000000;stroke-width:2px;stroke-linecap:butt;stroke-linejoin:miter;stroke-opacity:1\"/>\n",
       "<path class=\"bond-2\" d=\"M 104.954,47.0491 L 85.2235,61.3846\" style=\"fill:none;fill-rule:evenodd;stroke:#0000FF;stroke-width:2px;stroke-linecap:butt;stroke-linejoin:miter;stroke-opacity:1\"/>\n",
       "<path class=\"bond-2\" d=\"M 125.814,46.7156 L 112.003,56.7505\" style=\"fill:none;fill-rule:evenodd;stroke:#000000;stroke-width:2px;stroke-linecap:butt;stroke-linejoin:miter;stroke-opacity:1\"/>\n",
       "<path class=\"bond-2\" d=\"M 112.003,56.7505 L 98.1914,66.7854\" style=\"fill:none;fill-rule:evenodd;stroke:#0000FF;stroke-width:2px;stroke-linecap:butt;stroke-linejoin:miter;stroke-opacity:1\"/>\n",
       "<path class=\"bond-3\" d=\"M 76.1993,88.5286 L 83.7864,111.879\" style=\"fill:none;fill-rule:evenodd;stroke:#0000FF;stroke-width:2px;stroke-linecap:butt;stroke-linejoin:miter;stroke-opacity:1\"/>\n",
       "<path class=\"bond-3\" d=\"M 83.7864,111.879 L 91.3735,135.23\" style=\"fill:none;fill-rule:evenodd;stroke:#000000;stroke-width:2px;stroke-linecap:butt;stroke-linejoin:miter;stroke-opacity:1\"/>\n",
       "<path class=\"bond-4\" d=\"M 91.3735,135.23 L 58.063,192.924\" style=\"fill:none;fill-rule:evenodd;stroke:#000000;stroke-width:2px;stroke-linecap:butt;stroke-linejoin:miter;stroke-opacity:1\"/>\n",
       "<path class=\"bond-4\" d=\"M 96.7621,149.88 L 73.4447,190.266\" style=\"fill:none;fill-rule:evenodd;stroke:#000000;stroke-width:2px;stroke-linecap:butt;stroke-linejoin:miter;stroke-opacity:1\"/>\n",
       "<path class=\"bond-10\" d=\"M 91.3735,135.23 L 117.466,135.23\" style=\"fill:none;fill-rule:evenodd;stroke:#0000FF;stroke-width:2px;stroke-linecap:butt;stroke-linejoin:miter;stroke-opacity:1\"/>\n",
       "<path class=\"bond-10\" d=\"M 117.466,135.23 L 143.559,135.23\" style=\"fill:none;fill-rule:evenodd;stroke:#000000;stroke-width:2px;stroke-linecap:butt;stroke-linejoin:miter;stroke-opacity:1\"/>\n",
       "<path class=\"bond-5\" d=\"M 58.063,192.924 L 69.9102,213.443\" style=\"fill:none;fill-rule:evenodd;stroke:#000000;stroke-width:2px;stroke-linecap:butt;stroke-linejoin:miter;stroke-opacity:1\"/>\n",
       "<path class=\"bond-5\" d=\"M 69.9102,213.443 L 81.7573,233.962\" style=\"fill:none;fill-rule:evenodd;stroke:#0000FF;stroke-width:2px;stroke-linecap:butt;stroke-linejoin:miter;stroke-opacity:1\"/>\n",
       "<path class=\"bond-6\" d=\"M 105.809,250.617 L 131.902,250.617\" style=\"fill:none;fill-rule:evenodd;stroke:#0000FF;stroke-width:2px;stroke-linecap:butt;stroke-linejoin:miter;stroke-opacity:1\"/>\n",
       "<path class=\"bond-6\" d=\"M 131.902,250.617 L 157.995,250.617\" style=\"fill:none;fill-rule:evenodd;stroke:#000000;stroke-width:2px;stroke-linecap:butt;stroke-linejoin:miter;stroke-opacity:1\"/>\n",
       "<path class=\"bond-7\" d=\"M 157.995,250.617 L 191.305,192.924\" style=\"fill:none;fill-rule:evenodd;stroke:#000000;stroke-width:2px;stroke-linecap:butt;stroke-linejoin:miter;stroke-opacity:1\"/>\n",
       "<path class=\"bond-7\" d=\"M 152.606,235.967 L 175.923,195.582\" style=\"fill:none;fill-rule:evenodd;stroke:#000000;stroke-width:2px;stroke-linecap:butt;stroke-linejoin:miter;stroke-opacity:1\"/>\n",
       "<path class=\"bond-8\" d=\"M 191.305,192.924 L 179.458,172.404\" style=\"fill:none;fill-rule:evenodd;stroke:#000000;stroke-width:2px;stroke-linecap:butt;stroke-linejoin:miter;stroke-opacity:1\"/>\n",
       "<path class=\"bond-8\" d=\"M 179.458,172.404 L 167.611,151.885\" style=\"fill:none;fill-rule:evenodd;stroke:#0000FF;stroke-width:2px;stroke-linecap:butt;stroke-linejoin:miter;stroke-opacity:1\"/>\n",
       "<text dominant-baseline=\"central\" style=\"font-size:33px;font-style:normal;font-weight:normal;fill-opacity:1;stroke:none;font-family:sans-serif;fill:#000000\" text-anchor=\"start\" x=\"229.712\" y=\"56.2841\"><tspan>O</tspan></text>\n",
       "<text dominant-baseline=\"central\" style=\"font-size:33px;font-style:normal;font-weight:normal;fill-opacity:1;stroke:none;font-family:sans-serif;fill:#0000FF\" text-anchor=\"end\" x=\"81.8925\" y=\"76.87\"><tspan>N</tspan></text>\n",
       "<text dominant-baseline=\"central\" style=\"font-size:33px;font-style:normal;font-weight:normal;fill-opacity:1;stroke:none;font-family:sans-serif;fill:#0000FF\" text-anchor=\"end\" x=\"102.478\" y=\"255.614\"><tspan>HN</tspan></text>\n",
       "<text dominant-baseline=\"central\" style=\"font-size:33px;font-style:normal;font-weight:normal;fill-opacity:1;stroke:none;font-family:sans-serif;fill:#0000FF\" text-anchor=\"start\" x=\"146.89\" y=\"140.227\"><tspan>N</tspan></text>\n",
       "<path d=\"M 41.4078,192.924 L 41.4004,192.752 L 41.3783,192.581 L 41.3415,192.413 L 41.2905,192.249 L 41.2256,192.09 L 41.1472,191.937 L 41.0559,191.791 L 40.9524,191.654 L 40.8375,191.526 L 40.7121,191.408 L 40.577,191.302 L 40.4332,191.207 L 40.2819,191.126 L 40.1241,191.057 L 39.961,191.003 L 39.7938,190.962 L 39.6238,190.937 L 39.4522,190.926 L 39.2802,190.929 L 39.1093,190.948 L 38.9405,190.981 L 38.7752,191.028 L 38.6146,191.09 L 38.4599,191.165 L 38.3122,191.253 L 38.1727,191.353 L 38.0423,191.466 L 37.922,191.588 L 37.8127,191.721 L 37.7152,191.863 L 37.6303,192.013 L 37.5586,192.169 L 37.5005,192.331 L 37.4566,192.497 L 37.4272,192.666 L 37.4124,192.838 L 37.4124,193.01 L 37.4272,193.181 L 37.4566,193.35 L 37.5005,193.517 L 37.5586,193.679 L 37.6303,193.835 L 37.7152,193.984 L 37.8127,194.126 L 37.922,194.259 L 38.0423,194.382 L 38.1727,194.494 L 38.3122,194.594 L 38.4599,194.683 L 38.6146,194.758 L 38.7752,194.819 L 38.9405,194.867 L 39.1093,194.9 L 39.2802,194.918 L 39.4522,194.922 L 39.6238,194.911 L 39.7938,194.885 L 39.961,194.845 L 40.1241,194.79 L 40.2819,194.722 L 40.4332,194.64 L 40.577,194.546 L 40.7121,194.439 L 40.8375,194.322 L 40.9524,194.194 L 41.0559,194.056 L 41.1472,193.911 L 41.2256,193.758 L 41.2905,193.598 L 41.3415,193.434 L 41.3783,193.266 L 41.4004,193.096 L 41.4078,192.924 L 39.4092,192.924 Z\" style=\"fill:#000000;fill-rule:evenodd;fill-opacity=1;stroke:#000000;stroke-width:2px;stroke-linecap:butt;stroke-linejoin:miter;stroke-opacity:1;\"/>\n",
       "<text dominant-baseline=\"central\" style=\"font-size:12px;font-style:normal;font-weight:normal;fill-opacity:1;stroke:none;font-family:sans-serif;fill:#000000\" text-anchor=\"middle\" x=\"150\" y=\"265\"><tspan>O=c1cnc2[c][nH]ccn1-2</tspan></text>\n",
       "</svg>"
      ],
      "text/plain": [
       "<IPython.core.display.SVG object>"
      ]
     },
     "execution_count": 145,
     "metadata": {},
     "output_type": "execute_result"
    }
   ],
   "source": [
    "draw('O=c1cnc2[c][nH]ccn1-2', thres=0.15)"
   ]
  },
  {
   "cell_type": "markdown",
   "metadata": {},
   "source": [
    "What about what we're interested in, spin-delocalized radicals"
   ]
  },
  {
   "cell_type": "code",
   "execution_count": 157,
   "metadata": {},
   "outputs": [
    {
     "data": {
      "text/plain": [
       "<AxesSubplot:ylabel='Frequency'>"
      ]
     },
     "execution_count": 157,
     "metadata": {},
     "output_type": "execute_result"
    },
    {
     "data": {
      "image/png": "[encoded data removed]",
      "text/plain": [
       "<Figure size 432x288 with 1 Axes>"
      ]
     },
     "metadata": {
      "needs_background": "light"
     },
     "output_type": "display_data"
    }
   ],
   "source": [
    "max_spin_by_mol = cdf_test_merged.groupby('smiles').fractional_spin.max()\n",
    "max_spin_by_mol.plot.hist()"
   ]
  },
  {
   "cell_type": "code",
   "execution_count": 156,
   "metadata": {},
   "outputs": [],
   "source": [
    "delocalized = cdf_test_merged[cdf_test_merged.smiles.isin(max_spin_by_mol[max_spin_by_mol < 0.5].index)]"
   ]
  },
  {
   "cell_type": "code",
   "execution_count": 160,
   "metadata": {},
   "outputs": [
    {
     "data": {
      "text/plain": [
       "Text(0.5, 1.0, 'Predictions on spin-delocalized radicals')"
      ]
     },
     "execution_count": 160,
     "metadata": {},
     "output_type": "execute_result"
    },
    {
     "data": {
      "image/png": "[encoded data removed]",
      "text/plain": [
       "<Figure size 288x288 with 1 Axes>"
      ]
     },
     "metadata": {
      "needs_background": "light"
     },
     "output_type": "display_data"
    }
   ],
   "source": [
    "cdf_subset = cdf_test_merged[cdf_test_merged.smiles.isin(unique_mols[is_carboxylic_acid])]\n",
    "\n",
    "fig = plt.figure(figsize=(4,4))\n",
    "ax = fig.add_subplot(111, aspect='equal')\n",
    "ax.plot(delocalized.fractional_spin, delocalized.predicted_fractional_spin, '.', ms=1)\n",
    "ax.set_xlim([0, 1])\n",
    "ax.set_ylim([0, 1])\n",
    "sns.despine(trim=True, offset=10)\n",
    "ax.set_xlabel('Measured fractional spin')\n",
    "ax.set_ylabel('Predicted fractional spin')\n",
    "ax.set_title('Predictions on spin-delocalized radicals')"
   ]
  },
  {
   "cell_type": "markdown",
   "metadata": {},
   "source": [
    "well, that's reassuring. Looks like we do decently here"
   ]
  }
 ],
 "metadata": {
  "kernelspec": {
   "display_name": "Python 3",
   "language": "python",
   "name": "python3"
  },
  "language_info": {
   "codemirror_mode": {
    "name": "ipython",
    "version": 3
   },
   "file_extension": ".py",
   "mimetype": "text/x-python",
   "name": "python",
   "nbconvert_exporter": "python",
   "pygments_lexer": "ipython3",
   "version": "3.7.8"
  }
 },
 "nbformat": 4,
 "nbformat_minor": 4
}
