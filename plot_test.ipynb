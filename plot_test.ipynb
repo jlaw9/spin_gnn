{
 "cells": [
  {
   "cell_type": "code",
   "execution_count": 1,
   "metadata": {},
   "outputs": [],
   "source": [
    "import numpy as np\n",
    "import pandas as pd\n",
    "\n",
    "import matplotlib.pyplot as plt\n",
    "import seaborn as sns\n",
    "sns.set(context='talk', style='ticks',\n",
    "        color_codes=True, rc={'legend.frameon': False})\n",
    "\n",
    "%matplotlib inline"
   ]
  },
  {
   "cell_type": "code",
   "execution_count": 2,
   "metadata": {},
   "outputs": [
    {
     "name": "stdout",
     "output_type": "stream",
     "text": [
      "Wed Aug 12 09:10:26 2020       \n",
      "+-----------------------------------------------------------------------------+\n",
      "| NVIDIA-SMI 440.82       Driver Version: 440.82       CUDA Version: 10.2     |\n",
      "|-------------------------------+----------------------+----------------------+\n",
      "| GPU  Name        Persistence-M| Bus-Id        Disp.A | Volatile Uncorr. ECC |\n",
      "| Fan  Temp  Perf  Pwr:Usage/Cap|         Memory-Usage | GPU-Util  Compute M. |\n",
      "|===============================+======================+======================|\n",
      "|   0  Quadro GV100        Off  | 00000000:37:00.0 Off |                  Off |\n",
      "| 31%   43C    P2    35W / 250W |   6384MiB / 32508MiB |      0%      Default |\n",
      "+-------------------------------+----------------------+----------------------+\n",
      "                                                                               \n",
      "+-----------------------------------------------------------------------------+\n",
      "| Processes:                                                       GPU Memory |\n",
      "|  GPU       PID   Type   Process name                             Usage      |\n",
      "|=============================================================================|\n",
      "|    0      6666      G   paraview                                      85MiB |\n",
      "|    0      8098      G   ...t/nrel/apps/paraview/5.6.0/lib/paraview    87MiB |\n",
      "|    0     12742      G   paraview                                    3561MiB |\n",
      "|    0     16750      G   paraview                                     132MiB |\n",
      "|    0     19337      G   /usr/bin/X                                   150MiB |\n",
      "|    0     34891      C   ...nwilson/miniconda3/envs/mytf/bin/python   445MiB |\n",
      "|    0     36831      C   ...olecule/pstjohn/envs/tf2_gpu/bin/python  1895MiB |\n",
      "+-----------------------------------------------------------------------------+\n",
      "WARNING: infoROM is corrupted at gpu 0000:37:00.0\n"
     ]
    }
   ],
   "source": [
    "!nvidia-smi"
   ]
  },
  {
   "cell_type": "code",
   "execution_count": 3,
   "metadata": {},
   "outputs": [
    {
     "data": {
      "image/png": "[encoded data removed]",
      "text/plain": [
       "<Figure size 432x288 with 1 Axes>"
      ]
     },
     "metadata": {
      "needs_background": "light"
     },
     "output_type": "display_data"
    }
   ],
   "source": [
    "pd.read_csv('20200812_kl_divergence_faster_lr/log.csv').set_index('epoch').plot()\n",
    "plt.yscale('log')"
   ]
  },
  {
   "cell_type": "code",
   "execution_count": 4,
   "metadata": {},
   "outputs": [],
   "source": [
    "import tensorflow as tf\n",
    "gpus = tf.config.experimental.list_physical_devices('GPU')\n",
    "if gpus:\n",
    "    # Currently, memory growth needs to be the same across GPUs\n",
    "    for gpu in gpus:\n",
    "        tf.config.experimental.set_memory_growth(gpu, True)\n",
    "import nfp"
   ]
  },
  {
   "cell_type": "code",
   "execution_count": 5,
   "metadata": {},
   "outputs": [],
   "source": [
    "from preprocess_inputs import preprocessor\n",
    "preprocessor.from_json('tfrecords/preprocessor.json')\n",
    "\n",
    "from loss import AtomInfMask, KLWithLogits\n",
    "\n",
    "model = tf.keras.models.load_model(\n",
    "    '20200812_kl_divergence_faster_lr/best_model.hdf5',\n",
    "    custom_objects={**nfp.custom_objects,\n",
    "                    **{'AtomInfMask': AtomInfMask, 'KLWithLogits': KLWithLogits}})"
   ]
  },
  {
   "cell_type": "code",
   "execution_count": 6,
   "metadata": {},
   "outputs": [],
   "source": [
    "cdf = pd.read_csv('/projects/rlmolecule/pstjohn/atom_spins/cdf_spins.csv.gz')\n",
    "test = np.load('split.npz', allow_pickle=True)['test']"
   ]
  },
  {
   "cell_type": "code",
   "execution_count": 7,
   "metadata": {},
   "outputs": [
    {
     "data": {
      "text/html": [
       "<div>\n",
       "<style scoped>\n",
       "    .dataframe tbody tr th:only-of-type {\n",
       "        vertical-align: middle;\n",
       "    }\n",
       "\n",
       "    .dataframe tbody tr th {\n",
       "        vertical-align: top;\n",
       "    }\n",
       "\n",
       "    .dataframe thead th {\n",
       "        text-align: right;\n",
       "    }\n",
       "</style>\n",
       "<table border=\"1\" class=\"dataframe\">\n",
       "  <thead>\n",
       "    <tr style=\"text-align: right;\">\n",
       "      <th>atom_index</th>\n",
       "      <th>0</th>\n",
       "      <th>1</th>\n",
       "      <th>2</th>\n",
       "      <th>3</th>\n",
       "      <th>4</th>\n",
       "      <th>5</th>\n",
       "      <th>6</th>\n",
       "      <th>7</th>\n",
       "      <th>8</th>\n",
       "      <th>9</th>\n",
       "      <th>...</th>\n",
       "      <th>62</th>\n",
       "      <th>63</th>\n",
       "      <th>64</th>\n",
       "      <th>65</th>\n",
       "      <th>66</th>\n",
       "      <th>67</th>\n",
       "      <th>68</th>\n",
       "      <th>69</th>\n",
       "      <th>70</th>\n",
       "      <th>71</th>\n",
       "    </tr>\n",
       "    <tr>\n",
       "      <th>smiles</th>\n",
       "      <th></th>\n",
       "      <th></th>\n",
       "      <th></th>\n",
       "      <th></th>\n",
       "      <th></th>\n",
       "      <th></th>\n",
       "      <th></th>\n",
       "      <th></th>\n",
       "      <th></th>\n",
       "      <th></th>\n",
       "      <th></th>\n",
       "      <th></th>\n",
       "      <th></th>\n",
       "      <th></th>\n",
       "      <th></th>\n",
       "      <th></th>\n",
       "      <th></th>\n",
       "      <th></th>\n",
       "      <th></th>\n",
       "      <th></th>\n",
       "      <th></th>\n",
       "    </tr>\n",
       "  </thead>\n",
       "  <tbody>\n",
       "    <tr>\n",
       "      <th>CO/[C]=C1/CCCCC1=O</th>\n",
       "      <td>0.001776</td>\n",
       "      <td>0.103081</td>\n",
       "      <td>0.702058</td>\n",
       "      <td>0.109981</td>\n",
       "      <td>0.001902</td>\n",
       "      <td>0.002830</td>\n",
       "      <td>0.001808</td>\n",
       "      <td>0.005006</td>\n",
       "      <td>0.042844</td>\n",
       "      <td>0.010367</td>\n",
       "      <td>...</td>\n",
       "      <td>NaN</td>\n",
       "      <td>NaN</td>\n",
       "      <td>NaN</td>\n",
       "      <td>NaN</td>\n",
       "      <td>NaN</td>\n",
       "      <td>NaN</td>\n",
       "      <td>NaN</td>\n",
       "      <td>NaN</td>\n",
       "      <td>NaN</td>\n",
       "      <td>NaN</td>\n",
       "    </tr>\n",
       "    <tr>\n",
       "      <th>C[CH]C[C@@H]1COOO1</th>\n",
       "      <td>0.047013</td>\n",
       "      <td>0.718680</td>\n",
       "      <td>0.057055</td>\n",
       "      <td>0.019739</td>\n",
       "      <td>0.001834</td>\n",
       "      <td>0.000174</td>\n",
       "      <td>0.000294</td>\n",
       "      <td>0.000185</td>\n",
       "      <td>0.005816</td>\n",
       "      <td>0.043117</td>\n",
       "      <td>...</td>\n",
       "      <td>NaN</td>\n",
       "      <td>NaN</td>\n",
       "      <td>NaN</td>\n",
       "      <td>NaN</td>\n",
       "      <td>NaN</td>\n",
       "      <td>NaN</td>\n",
       "      <td>NaN</td>\n",
       "      <td>NaN</td>\n",
       "      <td>NaN</td>\n",
       "      <td>NaN</td>\n",
       "    </tr>\n",
       "    <tr>\n",
       "      <th>CC[C@@H](F)C(=[N])N</th>\n",
       "      <td>0.000306</td>\n",
       "      <td>0.000109</td>\n",
       "      <td>0.074523</td>\n",
       "      <td>0.005681</td>\n",
       "      <td>0.122172</td>\n",
       "      <td>0.762786</td>\n",
       "      <td>0.020510</td>\n",
       "      <td>0.000498</td>\n",
       "      <td>0.000044</td>\n",
       "      <td>0.000007</td>\n",
       "      <td>...</td>\n",
       "      <td>NaN</td>\n",
       "      <td>NaN</td>\n",
       "      <td>NaN</td>\n",
       "      <td>NaN</td>\n",
       "      <td>NaN</td>\n",
       "      <td>NaN</td>\n",
       "      <td>NaN</td>\n",
       "      <td>NaN</td>\n",
       "      <td>NaN</td>\n",
       "      <td>NaN</td>\n",
       "    </tr>\n",
       "    <tr>\n",
       "      <th>[CH2]Nc1ccc(C)c(Cl)c1</th>\n",
       "      <td>0.597656</td>\n",
       "      <td>0.083265</td>\n",
       "      <td>0.045439</td>\n",
       "      <td>0.047257</td>\n",
       "      <td>0.023602</td>\n",
       "      <td>0.053582</td>\n",
       "      <td>0.002519</td>\n",
       "      <td>0.020194</td>\n",
       "      <td>0.000900</td>\n",
       "      <td>0.065124</td>\n",
       "      <td>...</td>\n",
       "      <td>NaN</td>\n",
       "      <td>NaN</td>\n",
       "      <td>NaN</td>\n",
       "      <td>NaN</td>\n",
       "      <td>NaN</td>\n",
       "      <td>NaN</td>\n",
       "      <td>NaN</td>\n",
       "      <td>NaN</td>\n",
       "      <td>NaN</td>\n",
       "      <td>NaN</td>\n",
       "    </tr>\n",
       "    <tr>\n",
       "      <th>NCc1nc[c]cc1F</th>\n",
       "      <td>0.000266</td>\n",
       "      <td>0.004885</td>\n",
       "      <td>0.036233</td>\n",
       "      <td>0.059242</td>\n",
       "      <td>0.046752</td>\n",
       "      <td>0.721763</td>\n",
       "      <td>0.058991</td>\n",
       "      <td>0.046018</td>\n",
       "      <td>0.003389</td>\n",
       "      <td>0.000182</td>\n",
       "      <td>...</td>\n",
       "      <td>NaN</td>\n",
       "      <td>NaN</td>\n",
       "      <td>NaN</td>\n",
       "      <td>NaN</td>\n",
       "      <td>NaN</td>\n",
       "      <td>NaN</td>\n",
       "      <td>NaN</td>\n",
       "      <td>NaN</td>\n",
       "      <td>NaN</td>\n",
       "      <td>NaN</td>\n",
       "    </tr>\n",
       "  </tbody>\n",
       "</table>\n",
       "<p>5 rows × 72 columns</p>\n",
       "</div>"
      ],
      "text/plain": [
       "atom_index                   0         1         2         3         4   \\\n",
       "smiles                                                                    \n",
       "CO/[C]=C1/CCCCC1=O     0.001776  0.103081  0.702058  0.109981  0.001902   \n",
       "C[CH]C[C@@H]1COOO1     0.047013  0.718680  0.057055  0.019739  0.001834   \n",
       "CC[C@@H](F)C(=[N])N    0.000306  0.000109  0.074523  0.005681  0.122172   \n",
       "[CH2]Nc1ccc(C)c(Cl)c1  0.597656  0.083265  0.045439  0.047257  0.023602   \n",
       "NCc1nc[c]cc1F          0.000266  0.004885  0.036233  0.059242  0.046752   \n",
       "\n",
       "atom_index                   5         6         7         8         9   ...  \\\n",
       "smiles                                                                   ...   \n",
       "CO/[C]=C1/CCCCC1=O     0.002830  0.001808  0.005006  0.042844  0.010367  ...   \n",
       "C[CH]C[C@@H]1COOO1     0.000174  0.000294  0.000185  0.005816  0.043117  ...   \n",
       "CC[C@@H](F)C(=[N])N    0.762786  0.020510  0.000498  0.000044  0.000007  ...   \n",
       "[CH2]Nc1ccc(C)c(Cl)c1  0.053582  0.002519  0.020194  0.000900  0.065124  ...   \n",
       "NCc1nc[c]cc1F          0.721763  0.058991  0.046018  0.003389  0.000182  ...   \n",
       "\n",
       "atom_index             62  63  64  65  66  67  68  69  70  71  \n",
       "smiles                                                         \n",
       "CO/[C]=C1/CCCCC1=O    NaN NaN NaN NaN NaN NaN NaN NaN NaN NaN  \n",
       "C[CH]C[C@@H]1COOO1    NaN NaN NaN NaN NaN NaN NaN NaN NaN NaN  \n",
       "CC[C@@H](F)C(=[N])N   NaN NaN NaN NaN NaN NaN NaN NaN NaN NaN  \n",
       "[CH2]Nc1ccc(C)c(Cl)c1 NaN NaN NaN NaN NaN NaN NaN NaN NaN NaN  \n",
       "NCc1nc[c]cc1F         NaN NaN NaN NaN NaN NaN NaN NaN NaN NaN  \n",
       "\n",
       "[5 rows x 72 columns]"
      ]
     },
     "execution_count": 7,
     "metadata": {},
     "output_type": "execute_result"
    }
   ],
   "source": [
    "cdf_test = cdf[cdf.smiles.isin(test)].copy()\n",
    "cdf_test['fractional_spin'] = cdf_test.groupby('smiles').spin.apply(lambda x: x.abs() / x.abs().sum())\n",
    "cdf_test_pivot = cdf_test.pivot(index='smiles', columns='atom_index', values='fractional_spin')\n",
    "cdf_test_pivot = cdf_test_pivot.reindex(test)\n",
    "cdf_test_pivot.head()"
   ]
  },
  {
   "cell_type": "code",
   "execution_count": 8,
   "metadata": {},
   "outputs": [],
   "source": [
    "test_dataset = tf.data.Dataset.from_generator(\n",
    "    lambda: (preprocessor.construct_feature_matrices(smiles, train=False) for smiles in test),\n",
    "    output_types=preprocessor.output_types,\n",
    "    output_shapes=preprocessor.output_shapes)\\\n",
    "    .padded_batch(batch_size=128, padded_shapes=preprocessor.padded_shapes(max_atoms=cdf_test_pivot.shape[1]),  # explicit padding required for consistent output shape\n",
    "                  padding_values=preprocessor.padding_values)"
   ]
  },
  {
   "cell_type": "code",
   "execution_count": 9,
   "metadata": {},
   "outputs": [
    {
     "name": "stdout",
     "output_type": "stream",
     "text": [
      "     16/Unknown - 2s 98ms/step"
     ]
    },
    {
     "name": "stderr",
     "output_type": "stream",
     "text": [
      "RDKit WARNING: [09:11:24] Conflicting single bond directions around double bond at index 2.\n",
      "RDKit WARNING: [09:11:24]   BondStereo set to STEREONONE and single bond directions set to NONE.\n",
      "RDKit WARNING: [09:11:24] Conflicting single bond directions around double bond at index 2.\n",
      "RDKit WARNING: [09:11:24]   BondStereo set to STEREONONE and single bond directions set to NONE.\n"
     ]
    },
    {
     "name": "stdout",
     "output_type": "stream",
     "text": [
      "40/40 [==============================] - 4s 109ms/step\n"
     ]
    }
   ],
   "source": [
    "predicted_fractional_spins = tf.nn.softmax(model.predict(test_dataset, verbose=True))"
   ]
  },
  {
   "cell_type": "code",
   "execution_count": 10,
   "metadata": {},
   "outputs": [
    {
     "data": {
      "text/plain": [
       "Text(0, 0.5, 'Predicted fractional spin')"
      ]
     },
     "execution_count": 10,
     "metadata": {},
     "output_type": "execute_result"
    },
    {
     "data": {
      "image/png": "[encoded data removed]",
      "text/plain": [
       "<Figure size 288x288 with 1 Axes>"
      ]
     },
     "metadata": {
      "needs_background": "light"
     },
     "output_type": "display_data"
    }
   ],
   "source": [
    "fig = plt.figure(figsize=(4,4))\n",
    "ax = fig.add_subplot(111, aspect='equal')\n",
    "ax.plot(cdf_test_pivot.values.flatten(), predicted_fractional_spins.numpy().flatten(), '.', ms=.5)\n",
    "ax.set_xlim([0, 1])\n",
    "ax.set_ylim([0, 1])\n",
    "sns.despine(trim=True, offset=10)\n",
    "ax.set_xlabel('Measured fractional spin')\n",
    "ax.set_ylabel('Predicted fractional spin')"
   ]
  },
  {
   "cell_type": "code",
   "execution_count": 43,
   "metadata": {},
   "outputs": [
    {
     "data": {
      "text/plain": [
       "Text(0, 0.5, 'Fractional Spin MAE')"
      ]
     },
     "execution_count": 43,
     "metadata": {},
     "output_type": "execute_result"
    },
    {
     "data": {
      "image/png": "[encoded data removed]",
      "text/plain": [
       "<Figure size 432x288 with 1 Axes>"
      ]
     },
     "metadata": {
      "needs_background": "light"
     },
     "output_type": "display_data"
    }
   ],
   "source": [
    "df_pred = pd.DataFrame(predicted_fractional_spins.numpy(), index=test).reset_index().melt(id_vars=['index']).rename(\n",
    "    columns={'variable': 'atom_index', 'value': 'predicted_fractional_spin', 'index': 'smiles'})\n",
    "\n",
    "cdf_test_merged = cdf_test.merge(df_pred, on=['smiles', 'atom_index'], how='left')\n",
    "cdf_test_merged['abs_err'] = (cdf_test_merged['fractional_spin'] - cdf_test_merged['predicted_fractional_spin']).abs()\n",
    "\n",
    "cdf_test_merged.groupby('atom_type').abs_err.mean().sort_values().plot.bar()\n",
    "plt.ylabel('Fractional Spin MAE')"
   ]
  }
 ],
 "metadata": {
  "kernelspec": {
   "display_name": "Python 3",
   "language": "python",
   "name": "python3"
  },
  "language_info": {
   "codemirror_mode": {
    "name": "ipython",
    "version": 3
   },
   "file_extension": ".py",
   "mimetype": "text/x-python",
   "name": "python",
   "nbconvert_exporter": "python",
   "pygments_lexer": "ipython3",
   "version": "3.7.8"
  }
 },
 "nbformat": 4,
 "nbformat_minor": 4
}
