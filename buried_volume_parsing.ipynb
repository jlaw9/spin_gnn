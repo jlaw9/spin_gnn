{
 "cells": [
  {
   "cell_type": "code",
   "execution_count": 2,
   "metadata": {},
   "outputs": [
    {
     "name": "stderr",
     "output_type": "stream",
     "text": [
      "/projects/rlmolecule/pstjohn/envs/tf2_gpu/lib/python3.7/site-packages/tqdm/std.py:668: FutureWarning: The Panel class is removed from pandas. Accessing it from the top-level namespace will also be removed in the next version\n",
      "  from pandas import Panel\n"
     ]
    }
   ],
   "source": [
    "import numpy as np\n",
    "import pandas as pd\n",
    "\n",
    "import matplotlib.pyplot as plt\n",
    "import seaborn as sns\n",
    "sns.set(context='talk', style='ticks', color_codes=True)\n",
    "\n",
    "from tqdm import tqdm\n",
    "tqdm.pandas()\n",
    "\n",
    "%matplotlib inline"
   ]
  },
  {
   "cell_type": "code",
   "execution_count": 3,
   "metadata": {},
   "outputs": [
    {
     "name": "stderr",
     "output_type": "stream",
     "text": [
      "/projects/rlmolecule/pstjohn/envs/tf2_gpu/lib/python3.7/site-packages/numpy/lib/arraysetops.py:580: FutureWarning: elementwise comparison failed; returning scalar instead, but in the future will perform elementwise comparison\n",
      "  mask |= (ar1 == a)\n"
     ]
    },
    {
     "data": {
      "text/html": [
       "<div>\n",
       "<style scoped>\n",
       "    .dataframe tbody tr th:only-of-type {\n",
       "        vertical-align: middle;\n",
       "    }\n",
       "\n",
       "    .dataframe tbody tr th {\n",
       "        vertical-align: top;\n",
       "    }\n",
       "\n",
       "    .dataframe thead th {\n",
       "        text-align: right;\n",
       "    }\n",
       "</style>\n",
       "<table border=\"1\" class=\"dataframe\">\n",
       "  <thead>\n",
       "    <tr style=\"text-align: right;\">\n",
       "      <th></th>\n",
       "      <th>smiles</th>\n",
       "      <th>atom_type</th>\n",
       "      <th>atom_index</th>\n",
       "      <th>spin</th>\n",
       "      <th>buried_vol</th>\n",
       "    </tr>\n",
       "  </thead>\n",
       "  <tbody>\n",
       "    <tr>\n",
       "      <th>0</th>\n",
       "      <td>[Br]</td>\n",
       "      <td>Br</td>\n",
       "      <td>0</td>\n",
       "      <td>1.000000</td>\n",
       "      <td>NaN</td>\n",
       "    </tr>\n",
       "    <tr>\n",
       "      <th>1</th>\n",
       "      <td>BrC12C3C4[C]5C3C1C5C42</td>\n",
       "      <td>Br</td>\n",
       "      <td>0</td>\n",
       "      <td>0.013204</td>\n",
       "      <td>31.048787</td>\n",
       "    </tr>\n",
       "    <tr>\n",
       "      <th>2</th>\n",
       "      <td>BrC12C3C4[C]5C3C1C5C42</td>\n",
       "      <td>C</td>\n",
       "      <td>1</td>\n",
       "      <td>-0.014127</td>\n",
       "      <td>56.750489</td>\n",
       "    </tr>\n",
       "    <tr>\n",
       "      <th>3</th>\n",
       "      <td>BrC12C3C4[C]5C3C1C5C42</td>\n",
       "      <td>C</td>\n",
       "      <td>2</td>\n",
       "      <td>0.076213</td>\n",
       "      <td>50.270936</td>\n",
       "    </tr>\n",
       "    <tr>\n",
       "      <th>4</th>\n",
       "      <td>BrC12C3C4[C]5C3C1C5C42</td>\n",
       "      <td>C</td>\n",
       "      <td>3</td>\n",
       "      <td>-0.102171</td>\n",
       "      <td>46.228361</td>\n",
       "    </tr>\n",
       "  </tbody>\n",
       "</table>\n",
       "</div>"
      ],
      "text/plain": [
       "                   smiles atom_type  atom_index      spin  buried_vol\n",
       "0                    [Br]        Br           0  1.000000         NaN\n",
       "1  BrC12C3C4[C]5C3C1C5C42        Br           0  0.013204   31.048787\n",
       "2  BrC12C3C4[C]5C3C1C5C42         C           1 -0.014127   56.750489\n",
       "3  BrC12C3C4[C]5C3C1C5C42         C           2  0.076213   50.270936\n",
       "4  BrC12C3C4[C]5C3C1C5C42         C           3 -0.102171   46.228361"
      ]
     },
     "execution_count": 3,
     "metadata": {},
     "output_type": "execute_result"
    }
   ],
   "source": [
    "cdf_spin = pd.read_csv('/projects/rlmolecule/pstjohn/atom_spins/cdf_spins.csv.gz')\n",
    "cdf_bv = pd.read_csv('/projects/rlmolecule/pstjohn/atom_spins/cdf_buried_volume.csv.gz', index_col=0)\n",
    "cdf = cdf_spin.merge(cdf_bv, on=['smiles', 'atom_index'], how='left')\n",
    "cdf.head()"
   ]
  },
  {
   "cell_type": "code",
   "execution_count": 4,
   "metadata": {},
   "outputs": [],
   "source": [
    "import psycopg2\n",
    "\n",
    "dbparams = {\n",
    "    'dbname': 'bde',\n",
    "    'port': 5432,\n",
    "    'host': 'yuma.hpc.nrel.gov',\n",
    "    'user': 'bdeops',\n",
    "    'password': 'BD30ps99!',\n",
    "    'options': f'-c search_path=bde',\n",
    "}\n",
    "\n",
    "with psycopg2.connect(**dbparams) as conn:\n",
    "\n",
    "    redf = pd.read_sql_query(\"\"\"\n",
    "    SELECT * from redoxcompound where status = 'finished'\n",
    "    \"\"\", conn)    "
   ]
  },
  {
   "cell_type": "code",
   "execution_count": 5,
   "metadata": {},
   "outputs": [],
   "source": [
    "radical = redf[redf.estate == 'radical'].set_index('smiles')\n",
    "oxidized = redf[redf.estate == 'oxidized'].set_index('smiles')\n",
    "reduced = redf[redf.estate == 'reduced'].set_index('smiles')\n",
    "\n",
    "ionization = (oxidized.enthalpy - radical.enthalpy).dropna()\n",
    "eas = (radical.enthalpy - reduced.enthalpy).dropna()\n",
    "\n",
    "ionization.name = 'ionization energy'\n",
    "eas.name = 'electron affinity'\n",
    "\n",
    "merged_redox = pd.DataFrame(ionization).merge(pd.DataFrame(eas), left_index=True, right_index=True, how='outer')"
   ]
  },
  {
   "cell_type": "code",
   "execution_count": 6,
   "metadata": {},
   "outputs": [],
   "source": [
    "redf_redox_df = ((merged_redox * 627.509) / 23.061 - 4.281).reset_index()\n",
    "redf_redox_df.to_csv('/projects/rlmolecule/pstjohn/atom_spins/redf_redox.csv.gz', compression='gzip', index=False)"
   ]
  },
  {
   "cell_type": "code",
   "execution_count": 7,
   "metadata": {},
   "outputs": [
    {
     "data": {
      "text/html": [
       "<div>\n",
       "<style scoped>\n",
       "    .dataframe tbody tr th:only-of-type {\n",
       "        vertical-align: middle;\n",
       "    }\n",
       "\n",
       "    .dataframe tbody tr th {\n",
       "        vertical-align: top;\n",
       "    }\n",
       "\n",
       "    .dataframe thead th {\n",
       "        text-align: right;\n",
       "    }\n",
       "</style>\n",
       "<table border=\"1\" class=\"dataframe\">\n",
       "  <thead>\n",
       "    <tr style=\"text-align: right;\">\n",
       "      <th></th>\n",
       "      <th>smiles</th>\n",
       "      <th>ionization energy</th>\n",
       "      <th>electron affinity</th>\n",
       "    </tr>\n",
       "  </thead>\n",
       "  <tbody>\n",
       "    <tr>\n",
       "      <th>0</th>\n",
       "      <td>C#C/C(C)=C(\\C)[C@@H]([CH2])C</td>\n",
       "      <td>NaN</td>\n",
       "      <td>-1.429495</td>\n",
       "    </tr>\n",
       "    <tr>\n",
       "      <th>1</th>\n",
       "      <td>C#C/C(C)=C/C([CH2])=C</td>\n",
       "      <td>0.973058</td>\n",
       "      <td>-1.152652</td>\n",
       "    </tr>\n",
       "    <tr>\n",
       "      <th>2</th>\n",
       "      <td>C#C/C(C)=C/CCC([CH2])=O</td>\n",
       "      <td>1.370200</td>\n",
       "      <td>0.133522</td>\n",
       "    </tr>\n",
       "    <tr>\n",
       "      <th>3</th>\n",
       "      <td>C#C/C(C)=C/CC[C]=O</td>\n",
       "      <td>-0.359756</td>\n",
       "      <td>-1.147401</td>\n",
       "    </tr>\n",
       "    <tr>\n",
       "      <th>4</th>\n",
       "      <td>C#C/C(C)=C/C[C@H]([CH2])CO</td>\n",
       "      <td>0.445249</td>\n",
       "      <td>NaN</td>\n",
       "    </tr>\n",
       "    <tr>\n",
       "      <th>...</th>\n",
       "      <td>...</td>\n",
       "      <td>...</td>\n",
       "      <td>...</td>\n",
       "    </tr>\n",
       "    <tr>\n",
       "      <th>14190</th>\n",
       "      <td>c1ccc([C]2CCO2)cc1</td>\n",
       "      <td>-0.399865</td>\n",
       "      <td>-1.653685</td>\n",
       "    </tr>\n",
       "    <tr>\n",
       "      <th>14191</th>\n",
       "      <td>c1cnc2c(c1)=N[N]N=2</td>\n",
       "      <td>2.769816</td>\n",
       "      <td>1.722091</td>\n",
       "    </tr>\n",
       "    <tr>\n",
       "      <th>14192</th>\n",
       "      <td>c1cncc([C]2CCN2)c1</td>\n",
       "      <td>-0.936625</td>\n",
       "      <td>-1.697794</td>\n",
       "    </tr>\n",
       "    <tr>\n",
       "      <th>14193</th>\n",
       "      <td>c1coc([C]2OCCO2)c1</td>\n",
       "      <td>-0.815292</td>\n",
       "      <td>-1.481577</td>\n",
       "    </tr>\n",
       "    <tr>\n",
       "      <th>14194</th>\n",
       "      <td>c1nscc1C[N]C1CC1</td>\n",
       "      <td>0.677004</td>\n",
       "      <td>-1.071673</td>\n",
       "    </tr>\n",
       "  </tbody>\n",
       "</table>\n",
       "<p>14195 rows × 3 columns</p>\n",
       "</div>"
      ],
      "text/plain": [
       "                             smiles  ionization energy  electron affinity\n",
       "0      C#C/C(C)=C(\\C)[C@@H]([CH2])C                NaN          -1.429495\n",
       "1             C#C/C(C)=C/C([CH2])=C           0.973058          -1.152652\n",
       "2           C#C/C(C)=C/CCC([CH2])=O           1.370200           0.133522\n",
       "3                C#C/C(C)=C/CC[C]=O          -0.359756          -1.147401\n",
       "4        C#C/C(C)=C/C[C@H]([CH2])CO           0.445249                NaN\n",
       "...                             ...                ...                ...\n",
       "14190            c1ccc([C]2CCO2)cc1          -0.399865          -1.653685\n",
       "14191           c1cnc2c(c1)=N[N]N=2           2.769816           1.722091\n",
       "14192            c1cncc([C]2CCN2)c1          -0.936625          -1.697794\n",
       "14193            c1coc([C]2OCCO2)c1          -0.815292          -1.481577\n",
       "14194              c1nscc1C[N]C1CC1           0.677004          -1.071673\n",
       "\n",
       "[14195 rows x 3 columns]"
      ]
     },
     "execution_count": 7,
     "metadata": {},
     "output_type": "execute_result"
    }
   ],
   "source": [
    "redf_redox_df"
   ]
  },
  {
   "cell_type": "code",
   "execution_count": 2,
   "metadata": {},
   "outputs": [],
   "source": [
    "redf_spin = pd.read_csv('/projects/rlmolecule/pstjohn/atom_spins/redf_spins.csv.gz')\n",
    "redf_bv = pd.read_csv('/projects/rlmolecule/pstjohn/atom_spins/redf_buried_volume.csv.gz')\n",
    "redf = redf_spin.merge(redf_bv, on=['smiles', 'atom_index', 'atom_type'], how='left')\n",
    "\n",
    "redf_redox = pd.read_csv('/projects/rlmolecule/pstjohn/atom_spins/redf_redox.csv.gz')\n",
    "redf_redox = redf_redox.set_index('smiles').reindex(redf.smiles.unique())"
   ]
  },
  {
   "cell_type": "code",
   "execution_count": 3,
   "metadata": {},
   "outputs": [],
   "source": [
    "df = redf"
   ]
  },
  {
   "cell_type": "code",
   "execution_count": 5,
   "metadata": {},
   "outputs": [
    {
     "name": "stderr",
     "output_type": "stream",
     "text": [
      "  0%|          | 0/14599 [00:00<?, ?it/s]\n"
     ]
    }
   ],
   "source": [
    "for smiles, idf in tqdm(df.groupby('smiles')):\n",
    "#    input_dict = preprocessor.construct_feature_matrices(smiles, train=train)\n",
    "    input_dict = {}\n",
    "    spin = idf.set_index('atom_index').sort_index().spin\n",
    "    fractional_spin = spin.abs() / spin.abs().sum()\n",
    "    input_dict['spin'] = fractional_spin.values\n",
    "    input_dict['bur_vol'] = idf.bur_vol.values\n",
    "    input_dict['redox'] = redf_redox.loc[smiles].values\n",
    "    \n",
    "    \n",
    "    break"
   ]
  },
  {
   "cell_type": "code",
   "execution_count": 7,
   "metadata": {},
   "outputs": [
    {
     "data": {
      "text/plain": [
       "ionization energy          NaN\n",
       "electron affinity    65.758551\n",
       "Name: C#C/C(C)=C(\\C)[C@@H]([CH2])C, dtype: float64"
      ]
     },
     "execution_count": 7,
     "metadata": {},
     "output_type": "execute_result"
    }
   ],
   "source": [
    "redf_redox.loc[smiles]"
   ]
  },
  {
   "cell_type": "code",
   "execution_count": 6,
   "metadata": {},
   "outputs": [
    {
     "data": {
      "text/plain": [
       "{'spin': array([2.51354704e-04, 2.16834236e-03, 2.72572958e-03, 2.69471829e-03,\n",
       "        1.47687210e-02, 2.15202063e-03, 9.29849187e-03, 8.41216459e-01,\n",
       "        1.19222106e-02, 3.10112946e-05, 2.02144676e-03, 6.02271985e-04,\n",
       "        5.69628517e-04, 3.90905530e-04, 3.19089900e-03, 1.19801528e-03,\n",
       "        4.23973363e-02, 3.08692956e-02, 2.79166939e-02, 1.46895606e-03,\n",
       "        2.05409023e-03, 9.14017105e-05]),\n",
       " 'bur_vol': array([27.5506119 , 40.60638847, 51.73196462, 35.91999521, 57.65526653,\n",
       "        41.53958628, 50.91490544, 38.62808771, 37.46743364,         nan,\n",
       "                nan,         nan,         nan,         nan,         nan,\n",
       "                nan,         nan,         nan,         nan,         nan,\n",
       "                nan,         nan]),\n",
       " 'redox': array([        nan, 65.75855064])}"
      ]
     },
     "execution_count": 6,
     "metadata": {},
     "output_type": "execute_result"
    }
   ],
   "source": [
    "input_dict"
   ]
  },
  {
   "cell_type": "code",
   "execution_count": 48,
   "metadata": {},
   "outputs": [
    {
     "data": {
      "text/html": [
       "<div>\n",
       "<style scoped>\n",
       "    .dataframe tbody tr th:only-of-type {\n",
       "        vertical-align: middle;\n",
       "    }\n",
       "\n",
       "    .dataframe tbody tr th {\n",
       "        vertical-align: top;\n",
       "    }\n",
       "\n",
       "    .dataframe thead th {\n",
       "        text-align: right;\n",
       "    }\n",
       "</style>\n",
       "<table border=\"1\" class=\"dataframe\">\n",
       "  <thead>\n",
       "    <tr style=\"text-align: right;\">\n",
       "      <th></th>\n",
       "      <th>ionization energy</th>\n",
       "      <th>electron affinity</th>\n",
       "    </tr>\n",
       "    <tr>\n",
       "      <th>smiles</th>\n",
       "      <th></th>\n",
       "      <th></th>\n",
       "    </tr>\n",
       "  </thead>\n",
       "  <tbody>\n",
       "    <tr>\n",
       "      <th>[CH2]C1=COCC1</th>\n",
       "      <td>95.084556</td>\n",
       "      <td>61.300727</td>\n",
       "    </tr>\n",
       "    <tr>\n",
       "      <th>CC[C@H](C)C[CH]CCO</th>\n",
       "      <td>106.160718</td>\n",
       "      <td>NaN</td>\n",
       "    </tr>\n",
       "    <tr>\n",
       "      <th>CS[C@H]1CC[C@@H]1NC1[CH]C1</th>\n",
       "      <td>NaN</td>\n",
       "      <td>75.592244</td>\n",
       "    </tr>\n",
       "    <tr>\n",
       "      <th>COC(C)[O]</th>\n",
       "      <td>NaN</td>\n",
       "      <td>117.022898</td>\n",
       "    </tr>\n",
       "    <tr>\n",
       "      <th>[CH2]CCCCOC/C=C/C</th>\n",
       "      <td>NaN</td>\n",
       "      <td>62.398240</td>\n",
       "    </tr>\n",
       "    <tr>\n",
       "      <th>...</th>\n",
       "      <td>...</td>\n",
       "      <td>...</td>\n",
       "    </tr>\n",
       "    <tr>\n",
       "      <th>C=CC[CH]C=C(C)C</th>\n",
       "      <td>99.745693</td>\n",
       "      <td>58.719155</td>\n",
       "    </tr>\n",
       "    <tr>\n",
       "      <th>[CH2][C@@H]1CCC[C@@H](C)C1</th>\n",
       "      <td>NaN</td>\n",
       "      <td>60.178741</td>\n",
       "    </tr>\n",
       "    <tr>\n",
       "      <th>C=CO[C@H](C)[C](C)C</th>\n",
       "      <td>97.836811</td>\n",
       "      <td>60.549598</td>\n",
       "    </tr>\n",
       "    <tr>\n",
       "      <th>[CH2][C@@H]1CCC[C@H](O)C1</th>\n",
       "      <td>NaN</td>\n",
       "      <td>63.579212</td>\n",
       "    </tr>\n",
       "    <tr>\n",
       "      <th>CO[C](C)C(C)C</th>\n",
       "      <td>76.003263</td>\n",
       "      <td>53.498280</td>\n",
       "    </tr>\n",
       "  </tbody>\n",
       "</table>\n",
       "<p>14599 rows × 2 columns</p>\n",
       "</div>"
      ],
      "text/plain": [
       "                            ionization energy  electron affinity\n",
       "smiles                                                          \n",
       "[CH2]C1=COCC1                       95.084556          61.300727\n",
       "CC[C@H](C)C[CH]CCO                 106.160718                NaN\n",
       "CS[C@H]1CC[C@@H]1NC1[CH]C1                NaN          75.592244\n",
       "COC(C)[O]                                 NaN         117.022898\n",
       "[CH2]CCCCOC/C=C/C                         NaN          62.398240\n",
       "...                                       ...                ...\n",
       "C=CC[CH]C=C(C)C                     99.745693          58.719155\n",
       "[CH2][C@@H]1CCC[C@@H](C)C1                NaN          60.178741\n",
       "C=CO[C@H](C)[C](C)C                 97.836811          60.549598\n",
       "[CH2][C@@H]1CCC[C@H](O)C1                 NaN          63.579212\n",
       "CO[C](C)C(C)C                       76.003263          53.498280\n",
       "\n",
       "[14599 rows x 2 columns]"
      ]
     },
     "execution_count": 48,
     "metadata": {},
     "output_type": "execute_result"
    }
   ],
   "source": []
  },
  {
   "cell_type": "code",
   "execution_count": 45,
   "metadata": {},
   "outputs": [
    {
     "data": {
      "text/html": [
       "<div>\n",
       "<style scoped>\n",
       "    .dataframe tbody tr th:only-of-type {\n",
       "        vertical-align: middle;\n",
       "    }\n",
       "\n",
       "    .dataframe tbody tr th {\n",
       "        vertical-align: top;\n",
       "    }\n",
       "\n",
       "    .dataframe thead th {\n",
       "        text-align: right;\n",
       "    }\n",
       "</style>\n",
       "<table border=\"1\" class=\"dataframe\">\n",
       "  <thead>\n",
       "    <tr style=\"text-align: right;\">\n",
       "      <th></th>\n",
       "      <th>smiles</th>\n",
       "      <th>ionization energy</th>\n",
       "      <th>electron affinity</th>\n",
       "    </tr>\n",
       "  </thead>\n",
       "  <tbody>\n",
       "    <tr>\n",
       "      <th>0</th>\n",
       "      <td>C#C/C(C)=C(\\C)[C@@H]([CH2])C</td>\n",
       "      <td>NaN</td>\n",
       "      <td>65.758551</td>\n",
       "    </tr>\n",
       "    <tr>\n",
       "      <th>1</th>\n",
       "      <td>C#C/C(C)=C/C([CH2])=C</td>\n",
       "      <td>121.163830</td>\n",
       "      <td>72.142827</td>\n",
       "    </tr>\n",
       "    <tr>\n",
       "      <th>2</th>\n",
       "      <td>C#C/C(C)=C/CCC([CH2])=O</td>\n",
       "      <td>130.322324</td>\n",
       "      <td>101.803295</td>\n",
       "    </tr>\n",
       "    <tr>\n",
       "      <th>3</th>\n",
       "      <td>C#C/C(C)=C/CC[C]=O</td>\n",
       "      <td>90.427812</td>\n",
       "      <td>72.263936</td>\n",
       "    </tr>\n",
       "    <tr>\n",
       "      <th>4</th>\n",
       "      <td>C#C/C(C)=C/C[C@H]([CH2])CO</td>\n",
       "      <td>108.992038</td>\n",
       "      <td>NaN</td>\n",
       "    </tr>\n",
       "    <tr>\n",
       "      <th>...</th>\n",
       "      <td>...</td>\n",
       "      <td>...</td>\n",
       "      <td>...</td>\n",
       "    </tr>\n",
       "    <tr>\n",
       "      <th>14190</th>\n",
       "      <td>c1ccc([C]2CCO2)cc1</td>\n",
       "      <td>89.502864</td>\n",
       "      <td>60.588504</td>\n",
       "    </tr>\n",
       "    <tr>\n",
       "      <th>14191</th>\n",
       "      <td>c1cnc2c(c1)=N[N]N=2</td>\n",
       "      <td>162.598877</td>\n",
       "      <td>138.437271</td>\n",
       "    </tr>\n",
       "    <tr>\n",
       "      <th>14192</th>\n",
       "      <td>c1cncc([C]2CCN2)c1</td>\n",
       "      <td>77.124621</td>\n",
       "      <td>59.571312</td>\n",
       "    </tr>\n",
       "    <tr>\n",
       "      <th>14193</th>\n",
       "      <td>c1coc([C]2OCCO2)c1</td>\n",
       "      <td>79.922684</td>\n",
       "      <td>64.557498</td>\n",
       "    </tr>\n",
       "    <tr>\n",
       "      <th>14194</th>\n",
       "      <td>c1nscc1C[N]C1CC1</td>\n",
       "      <td>114.336532</td>\n",
       "      <td>74.010294</td>\n",
       "    </tr>\n",
       "  </tbody>\n",
       "</table>\n",
       "<p>14195 rows × 3 columns</p>\n",
       "</div>"
      ],
      "text/plain": [
       "                             smiles  ionization energy  electron affinity\n",
       "0      C#C/C(C)=C(\\C)[C@@H]([CH2])C                NaN          65.758551\n",
       "1             C#C/C(C)=C/C([CH2])=C         121.163830          72.142827\n",
       "2           C#C/C(C)=C/CCC([CH2])=O         130.322324         101.803295\n",
       "3                C#C/C(C)=C/CC[C]=O          90.427812          72.263936\n",
       "4        C#C/C(C)=C/C[C@H]([CH2])CO         108.992038                NaN\n",
       "...                             ...                ...                ...\n",
       "14190            c1ccc([C]2CCO2)cc1          89.502864          60.588504\n",
       "14191           c1cnc2c(c1)=N[N]N=2         162.598877         138.437271\n",
       "14192            c1cncc([C]2CCN2)c1          77.124621          59.571312\n",
       "14193            c1coc([C]2OCCO2)c1          79.922684          64.557498\n",
       "14194              c1nscc1C[N]C1CC1         114.336532          74.010294\n",
       "\n",
       "[14195 rows x 3 columns]"
      ]
     },
     "execution_count": 45,
     "metadata": {},
     "output_type": "execute_result"
    }
   ],
   "source": [
    "redf_redox"
   ]
  },
  {
   "cell_type": "code",
   "execution_count": 43,
   "metadata": {},
   "outputs": [
    {
     "data": {
      "text/plain": [
       "'C#C/C(C)=C(\\\\C)[C@@H]([CH2])C'"
      ]
     },
     "execution_count": 43,
     "metadata": {},
     "output_type": "execute_result"
    }
   ],
   "source": [
    "smiles"
   ]
  },
  {
   "cell_type": "code",
   "execution_count": 55,
   "metadata": {},
   "outputs": [
    {
     "name": "stdout",
     "output_type": "stream",
     "text": [
      "Wed Aug 26 08:39:42 2020       \n",
      "+-----------------------------------------------------------------------------+\n",
      "| NVIDIA-SMI 440.82       Driver Version: 440.82       CUDA Version: 10.2     |\n",
      "|-------------------------------+----------------------+----------------------+\n",
      "| GPU  Name        Persistence-M| Bus-Id        Disp.A | Volatile Uncorr. ECC |\n",
      "| Fan  Temp  Perf  Pwr:Usage/Cap|         Memory-Usage | GPU-Util  Compute M. |\n",
      "|===============================+======================+======================|\n",
      "|   0  Quadro GV100        Off  | 00000000:37:00.0 Off |                  Off |\n",
      "| 31%   43C    P2    36W / 250W |   8426MiB / 32508MiB |      0%      Default |\n",
      "+-------------------------------+----------------------+----------------------+\n",
      "                                                                               \n",
      "+-----------------------------------------------------------------------------+\n",
      "| Processes:                                                       GPU Memory |\n",
      "|  GPU       PID   Type   Process name                             Usage      |\n",
      "|=============================================================================|\n",
      "|    0       452      G   paraview                                     167MiB |\n",
      "|    0      3888      C   ...olecule/pstjohn/envs/tf2_gpu/bin/python  2919MiB |\n",
      "|    0      4318      G   ...t/nrel/apps/paraview/5.6.0/lib/paraview   102MiB |\n",
      "|    0      5135      G   ...t/nrel/apps/paraview/5.6.0/lib/paraview    98MiB |\n",
      "|    0      5869      C   /home/jvermaas/lib/vmd/vmd_LINUXAMD64        311MiB |\n",
      "|    0      9462      G   paraview                                     204MiB |\n",
      "|    0     11716      G   paraview                                     115MiB |\n",
      "|    0     12887      G   ...t/nrel/apps/paraview/5.6.0/lib/paraview   244MiB |\n",
      "|    0     19337      G   /usr/bin/X                                   360MiB |\n",
      "|    0     22797      C   ...nwilson/miniconda3/envs/mytf/bin/python   389MiB |\n",
      "|    0     28040      G   paraview                                     136MiB |\n",
      "|    0     28516      G   ...t/nrel/apps/paraview/5.6.0/lib/paraview   337MiB |\n",
      "|    0     36357      C   ...olecule/pstjohn/envs/tf2_gpu/bin/python  2919MiB |\n",
      "+-----------------------------------------------------------------------------+\n",
      "WARNING: infoROM is corrupted at gpu 0000:37:00.0\n"
     ]
    }
   ],
   "source": [
    "!nvidia-smi"
   ]
  },
  {
   "cell_type": "code",
   "execution_count": null,
   "metadata": {},
   "outputs": [],
   "source": []
  }
 ],
 "metadata": {
  "kernelspec": {
   "display_name": "Python 3",
   "language": "python",
   "name": "python3"
  },
  "language_info": {
   "codemirror_mode": {
    "name": "ipython",
    "version": 3
   },
   "file_extension": ".py",
   "mimetype": "text/x-python",
   "name": "python",
   "nbconvert_exporter": "python",
   "pygments_lexer": "ipython3",
   "version": "3.7.8"
  }
 },
 "nbformat": 4,
 "nbformat_minor": 4
}
