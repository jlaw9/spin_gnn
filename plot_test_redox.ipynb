{
 "cells": [
  {
   "cell_type": "code",
   "execution_count": 1,
   "metadata": {},
   "outputs": [],
   "source": [
    "import numpy as np\n",
    "import pandas as pd\n",
    "\n",
    "import matplotlib.pyplot as plt\n",
    "import seaborn as sns\n",
    "sns.set(context='talk', style='ticks',\n",
    "        color_codes=True, rc={'legend.frameon': False})\n",
    "\n",
    "%matplotlib inline"
   ]
  },
  {
   "cell_type": "code",
   "execution_count": 2,
   "metadata": {},
   "outputs": [
    {
     "name": "stdout",
     "output_type": "stream",
     "text": [
      "Thu Sep 17 11:43:34 2020       \n",
      "+-----------------------------------------------------------------------------+\n",
      "| NVIDIA-SMI 440.82       Driver Version: 440.82       CUDA Version: 10.2     |\n",
      "|-------------------------------+----------------------+----------------------+\n",
      "| GPU  Name        Persistence-M| Bus-Id        Disp.A | Volatile Uncorr. ECC |\n",
      "| Fan  Temp  Perf  Pwr:Usage/Cap|         Memory-Usage | GPU-Util  Compute M. |\n",
      "|===============================+======================+======================|\n",
      "|   0  Quadro GV100        Off  | 00000000:37:00.0 Off |                  Off |\n",
      "| 31%   44C    P2    36W / 250W |   2060MiB / 32508MiB |      0%      Default |\n",
      "+-------------------------------+----------------------+----------------------+\n",
      "                                                                               \n",
      "+-----------------------------------------------------------------------------+\n",
      "| Processes:                                                       GPU Memory |\n",
      "|  GPU       PID   Type   Process name                             Usage      |\n",
      "|=============================================================================|\n",
      "|    0       452      G   paraview                                     167MiB |\n",
      "|    0      5135      G   ...t/nrel/apps/paraview/5.6.0/lib/paraview    88MiB |\n",
      "|    0      5869      C   /home/jvermaas/lib/vmd/vmd_LINUXAMD64        311MiB |\n",
      "|    0      9462      G   paraview                                     204MiB |\n",
      "|    0     10344      G   ...t/nrel/apps/paraview/5.6.0/lib/paraview    49MiB |\n",
      "|    0     10585      G   paraview                                      75MiB |\n",
      "|    0     11716      G   paraview                                     115MiB |\n",
      "|    0     12618      G   ...t/nrel/apps/paraview/5.6.0/lib/paraview   102MiB |\n",
      "|    0     19337      G   /usr/bin/X                                   385MiB |\n",
      "|    0     22797      C   ...nwilson/miniconda3/envs/mytf/bin/python   389MiB |\n",
      "|    0     26121      G   paraview                                      24MiB |\n",
      "|    0     28040      G   paraview                                     136MiB |\n",
      "+-----------------------------------------------------------------------------+\n",
      "WARNING: infoROM is corrupted at gpu 0000:37:00.0\n"
     ]
    }
   ],
   "source": [
    "!nvidia-smi"
   ]
  },
  {
   "cell_type": "code",
   "execution_count": 3,
   "metadata": {},
   "outputs": [
    {
     "name": "stdout",
     "output_type": "stream",
     "text": [
      "loss        0.021494\n",
      "val_loss    0.055895\n",
      "dtype: float64\n"
     ]
    },
    {
     "data": {
      "image/png": "[encoded data removed]",
      "text/plain": [
       "<Figure size 432x288 with 1 Axes>"
      ]
     },
     "metadata": {
      "needs_background": "light"
     },
     "output_type": "display_data"
    }
   ],
   "source": [
    "log = pd.read_csv('20200917_redox_atomwise/log.csv').set_index('epoch')\n",
    "\n",
    "plt.semilogy(log.loss)\n",
    "plt.semilogy(log.val_loss)\n",
    "    \n",
    "print(log.min())\n",
    "\n",
    "plt.tight_layout()\n",
    "# plt.xlim([0, 10])"
   ]
  },
  {
   "cell_type": "code",
   "execution_count": 4,
   "metadata": {},
   "outputs": [],
   "source": [
    "import tensorflow as tf\n",
    "gpus = tf.config.experimental.list_physical_devices('GPU')\n",
    "if gpus:\n",
    "    # Currently, memory growth needs to be the same across GPUs\n",
    "    for gpu in gpus:\n",
    "        tf.config.experimental.set_memory_growth(gpu, True)\n",
    "import nfp"
   ]
  },
  {
   "cell_type": "code",
   "execution_count": 5,
   "metadata": {},
   "outputs": [],
   "source": [
    "from preprocess_inputs import preprocessor\n",
    "preprocessor.from_json('tfrecords/preprocessor.json')\n",
    "\n",
    "from loss import AtomInfMask, KLWithLogits, RedoxAttention\n",
    "from nfp import EdgeUpdate, NodeUpdate, GlobalUpdate\n",
    "import tensorflow_addons as tfa\n",
    "\n",
    "model = tf.keras.models.load_model(\n",
    "    '20200917_redox_atomwise/best_model.hdf5',\n",
    "    custom_objects={**nfp.custom_objects,\n",
    "                    **{\n",
    "                       'RedoxAttention': RedoxAttention,\n",
    "                       'EdgeUpdate': EdgeUpdate,\n",
    "                       'NodeUpdate': NodeUpdate,\n",
    "                       'GlobalUpdate': GlobalUpdate}})"
   ]
  },
  {
   "cell_type": "code",
   "execution_count": 7,
   "metadata": {},
   "outputs": [],
   "source": [
    "from preprocess_inputs_redox import redox_df\n",
    "redox_df = redox_df.dropna(0, how='all')\n",
    "redox_df = redox_df.reset_index()"
   ]
  },
  {
   "cell_type": "code",
   "execution_count": 8,
   "metadata": {},
   "outputs": [],
   "source": [
    "train = np.load('redox_split_nos.npz', allow_pickle=True)['train']"
   ]
  },
  {
   "cell_type": "code",
   "execution_count": 9,
   "metadata": {},
   "outputs": [],
   "source": [
    "redox_valid = redox_df[~redox_df.smiles.isin(train)]"
   ]
  },
  {
   "cell_type": "code",
   "execution_count": 10,
   "metadata": {},
   "outputs": [],
   "source": [
    "test_dataset = tf.data.Dataset.from_generator(\n",
    "    lambda: (preprocessor.construct_feature_matrices(smiles, train=False) for smiles in redox_valid.smiles),\n",
    "    output_types=preprocessor.output_types,\n",
    "    output_shapes=preprocessor.output_shapes)\\\n",
    "    .padded_batch(batch_size=128, padded_shapes=preprocessor.padded_shapes(),\n",
    "                  padding_values=preprocessor.padding_values)"
   ]
  },
  {
   "cell_type": "code",
   "execution_count": 11,
   "metadata": {},
   "outputs": [
    {
     "name": "stdout",
     "output_type": "stream",
     "text": [
      "16/16 [==============================] - 3s 172ms/step\n"
     ]
    }
   ],
   "source": [
    "predicted_redox = model.predict(test_dataset, verbose=1)"
   ]
  },
  {
   "cell_type": "code",
   "execution_count": 63,
   "metadata": {},
   "outputs": [
    {
     "data": {
      "text/plain": [
       "Text(0.5, 1.0, 'electron affinity')"
      ]
     },
     "execution_count": 63,
     "metadata": {},
     "output_type": "execute_result"
    },
    {
     "data": {
      "image/png": "[encoded data removed]",
      "text/plain": [
       "<Figure size 576x252 with 2 Axes>"
      ]
     },
     "metadata": {
      "needs_background": "light"
     },
     "output_type": "display_data"
    }
   ],
   "source": [
    "fig, axs = plt.subplots(ncols=2, figsize=(8,3.5))\n",
    "axs[0].plot(redox_valid['ionization energy'], predicted_redox[:, 0], '.', ms=1)\n",
    "axs[1].plot(redox_valid['electron affinity'], predicted_redox[:, 1], '.', ms=1)\n",
    "\n",
    "axs[0].text(.95, .05, f\"MAE: {(redox_valid['ionization energy'] - predicted_redox[:, 0]).abs().mean():.4f} V\", ha='right', va='bottom', transform=axs[0].transAxes, fontsize=14)\n",
    "axs[1].text(.95, .05, f\"MAE: {(redox_valid['electron affinity'] - predicted_redox[:, 1]).abs().mean():.4f} V\", ha='right', va='bottom', transform=axs[1].transAxes, fontsize=14)\n",
    "\n",
    "axs[0].set_title('ionization energy')\n",
    "axs[1].set_title('electron affinity')"
   ]
  },
  {
   "cell_type": "code",
   "execution_count": 13,
   "metadata": {},
   "outputs": [],
   "source": [
    "redox_valid = redox_valid.copy()\n",
    "redox_valid['pred ionization energy'] = predicted_redox[:, 0]\n",
    "redox_valid['pred electron affinity'] = predicted_redox[:, 1]"
   ]
  },
  {
   "cell_type": "code",
   "execution_count": 14,
   "metadata": {},
   "outputs": [],
   "source": [
    "redox_valid['err ionization energy'] = (redox_valid['pred ionization energy'] - redox_valid['ionization energy']).abs()\n",
    "redox_valid['err electron affinity'] = (redox_valid['pred electron affinity'] - redox_valid['electron affinity']).abs()"
   ]
  },
  {
   "cell_type": "code",
   "execution_count": 34,
   "metadata": {},
   "outputs": [],
   "source": [
    "spins = pd.read_csv('/projects/rlmolecule/pstjohn/atom_spins/redf_spins_expanded.csv.gz')"
   ]
  },
  {
   "cell_type": "code",
   "execution_count": 35,
   "metadata": {},
   "outputs": [],
   "source": [
    "spins['fractional_spin'] = spins.groupby('smiles').spin.apply(lambda x: x.abs() / x.abs().sum())"
   ]
  },
  {
   "cell_type": "code",
   "execution_count": 36,
   "metadata": {},
   "outputs": [],
   "source": [
    "max_fractional_spin = spins.groupby('smiles').fractional_spin.max()"
   ]
  },
  {
   "cell_type": "code",
   "execution_count": 40,
   "metadata": {},
   "outputs": [],
   "source": [
    "redox_valid_spin = redox_valid.join(max_fractional_spin, on='smiles')"
   ]
  },
  {
   "cell_type": "code",
   "execution_count": 67,
   "metadata": {},
   "outputs": [
    {
     "data": {
      "text/plain": [
       "Text(0.5, 1.0, 'Electron Affinity')"
      ]
     },
     "execution_count": 67,
     "metadata": {},
     "output_type": "execute_result"
    },
    {
     "data": {
      "image/png": "[encoded data removed]",
      "text/plain": [
       "<Figure size 576x252 with 2 Axes>"
      ]
     },
     "metadata": {
      "needs_background": "light"
     },
     "output_type": "display_data"
    }
   ],
   "source": [
    "fig, axs = plt.subplots(nrows=1, ncols=2, figsize=(8,3.5), sharey=True, sharex=True)\n",
    "axs[0].semilogy(redox_valid_spin['fractional_spin'], redox_valid_spin['err ionization energy'], '.', ms=2.5)\n",
    "axs[0].axhline(0.025, ls='--', color='.8')\n",
    "axs[1].semilogy(redox_valid_spin['fractional_spin'], redox_valid_spin['err electron affinity'], '.', ms=2.5)\n",
    "axs[1].axhline(0.025, ls='--', color='.8')\n",
    "\n",
    "axs[0].set_ylabel('Error')\n",
    "axs[0].set_xlabel('Max fractional spin')\n",
    "axs[1].set_xlabel('Max fractional spin')\n",
    "\n",
    "axs[0].set_title('Ionization Energy')\n",
    "axs[1].set_title('Electron Affinity')"
   ]
  },
  {
   "cell_type": "code",
   "execution_count": 93,
   "metadata": {},
   "outputs": [],
   "source": [
    "ie_outliers = redox_valid_spin[redox_valid_spin['fractional_spin'] > 0.75].sort_values('err ionization energy', ascending=False).head(5)\n",
    "ea_outliers = redox_valid_spin[redox_valid_spin['fractional_spin'] > 0.70].sort_values('err electron affinity', ascending=False).head(5)"
   ]
  },
  {
   "cell_type": "code",
   "execution_count": 75,
   "metadata": {},
   "outputs": [
    {
     "name": "stderr",
     "output_type": "stream",
     "text": [
      "/projects/rlmolecule/pstjohn/envs/tf2_gpu/lib/python3.7/site-packages/tqdm/std.py:668: FutureWarning: The Panel class is removed from pandas. Accessing it from the top-level namespace will also be removed in the next version\n",
      "  from pandas import Panel\n"
     ]
    }
   ],
   "source": [
    "import psycopg2\n",
    "\n",
    "dbparams = {\n",
    "    'dbname': 'bde',\n",
    "    'port': 5432,\n",
    "    'host': 'yuma.hpc.nrel.gov',\n",
    "    'user': 'bdeops',\n",
    "    'password': 'BD30ps99!',\n",
    "    'options': f'-c search_path=bde',\n",
    "}\n",
    "\n",
    "with psycopg2.connect(**dbparams) as conn:\n",
    "\n",
    "    redf = pd.read_sql_query(\"\"\"\n",
    "    SELECT * from redoxcompound where status='finished'\n",
    "    \"\"\", conn)"
   ]
  },
  {
   "cell_type": "code",
   "execution_count": 84,
   "metadata": {},
   "outputs": [
    {
     "data": {
      "text/html": [
       "<div>\n",
       "<style scoped>\n",
       "    .dataframe tbody tr th:only-of-type {\n",
       "        vertical-align: middle;\n",
       "    }\n",
       "\n",
       "    .dataframe tbody tr th {\n",
       "        vertical-align: top;\n",
       "    }\n",
       "\n",
       "    .dataframe thead th {\n",
       "        text-align: right;\n",
       "    }\n",
       "</style>\n",
       "<table border=\"1\" class=\"dataframe\">\n",
       "  <thead>\n",
       "    <tr style=\"text-align: right;\">\n",
       "      <th></th>\n",
       "      <th>smiles</th>\n",
       "      <th>ionization energy</th>\n",
       "      <th>pred ionization energy</th>\n",
       "      <th>oxidized_rms</th>\n",
       "      <th>fractional_spin</th>\n",
       "    </tr>\n",
       "  </thead>\n",
       "  <tbody>\n",
       "    <tr>\n",
       "      <th>66640</th>\n",
       "      <td>[CH]=C(C)C(=O)C(=O)O</td>\n",
       "      <td>-0.401143</td>\n",
       "      <td>1.482698</td>\n",
       "      <td>0.442732</td>\n",
       "      <td>0.777363</td>\n",
       "    </tr>\n",
       "    <tr>\n",
       "      <th>17487</th>\n",
       "      <td>CC(C)[N][N+](=O)[O-]</td>\n",
       "      <td>2.229790</td>\n",
       "      <td>0.468276</td>\n",
       "      <td>0.236478</td>\n",
       "      <td>0.770773</td>\n",
       "    </tr>\n",
       "    <tr>\n",
       "      <th>35333</th>\n",
       "      <td>COC(=O)[C@H](N)CO[NH]</td>\n",
       "      <td>0.120461</td>\n",
       "      <td>1.592959</td>\n",
       "      <td>0.556866</td>\n",
       "      <td>0.756398</td>\n",
       "    </tr>\n",
       "    <tr>\n",
       "      <th>61945</th>\n",
       "      <td>[CH2]ON(CC)N=O</td>\n",
       "      <td>-0.874394</td>\n",
       "      <td>0.425241</td>\n",
       "      <td>0.488680</td>\n",
       "      <td>0.873556</td>\n",
       "    </tr>\n",
       "    <tr>\n",
       "      <th>59150</th>\n",
       "      <td>[CH2]C[C@@H](C)N=C=O</td>\n",
       "      <td>0.631807</td>\n",
       "      <td>-0.516378</td>\n",
       "      <td>0.369227</td>\n",
       "      <td>0.791781</td>\n",
       "    </tr>\n",
       "  </tbody>\n",
       "</table>\n",
       "</div>"
      ],
      "text/plain": [
       "                      smiles  ionization energy  pred ionization energy  \\\n",
       "66640   [CH]=C(C)C(=O)C(=O)O          -0.401143                1.482698   \n",
       "17487   CC(C)[N][N+](=O)[O-]           2.229790                0.468276   \n",
       "35333  COC(=O)[C@H](N)CO[NH]           0.120461                1.592959   \n",
       "61945         [CH2]ON(CC)N=O          -0.874394                0.425241   \n",
       "59150   [CH2]C[C@@H](C)N=C=O           0.631807               -0.516378   \n",
       "\n",
       "       oxidized_rms  fractional_spin  \n",
       "66640      0.442732         0.777363  \n",
       "17487      0.236478         0.770773  \n",
       "35333      0.556866         0.756398  \n",
       "61945      0.488680         0.873556  \n",
       "59150      0.369227         0.791781  "
      ]
     },
     "execution_count": 84,
     "metadata": {},
     "output_type": "execute_result"
    }
   ],
   "source": [
    "ie_outliers[['smiles', 'ionization energy', 'pred ionization energy', 'oxidized_rms', 'fractional_spin']]  # oxidized"
   ]
  },
  {
   "cell_type": "code",
   "execution_count": 94,
   "metadata": {},
   "outputs": [
    {
     "data": {
      "text/html": [
       "<div>\n",
       "<style scoped>\n",
       "    .dataframe tbody tr th:only-of-type {\n",
       "        vertical-align: middle;\n",
       "    }\n",
       "\n",
       "    .dataframe tbody tr th {\n",
       "        vertical-align: top;\n",
       "    }\n",
       "\n",
       "    .dataframe thead th {\n",
       "        text-align: right;\n",
       "    }\n",
       "</style>\n",
       "<table border=\"1\" class=\"dataframe\">\n",
       "  <thead>\n",
       "    <tr style=\"text-align: right;\">\n",
       "      <th></th>\n",
       "      <th>smiles</th>\n",
       "      <th>electron affinity</th>\n",
       "      <th>pred electron affinity</th>\n",
       "      <th>reduced_rms</th>\n",
       "      <th>fractional_spin</th>\n",
       "    </tr>\n",
       "  </thead>\n",
       "  <tbody>\n",
       "    <tr>\n",
       "      <th>51055</th>\n",
       "      <td>O=C1C[CH]CNC1=O</td>\n",
       "      <td>0.036434</td>\n",
       "      <td>-1.353550</td>\n",
       "      <td>0.436397</td>\n",
       "      <td>0.702979</td>\n",
       "    </tr>\n",
       "    <tr>\n",
       "      <th>55962</th>\n",
       "      <td>[CH2]C(C)(C)C(=O)C=C</td>\n",
       "      <td>-0.340409</td>\n",
       "      <td>-1.307572</td>\n",
       "      <td>0.401526</td>\n",
       "      <td>0.809650</td>\n",
       "    </tr>\n",
       "    <tr>\n",
       "      <th>41471</th>\n",
       "      <td>C[C@H]([NH])C(C=O)C=O</td>\n",
       "      <td>-0.708136</td>\n",
       "      <td>-0.017002</td>\n",
       "      <td>0.117294</td>\n",
       "      <td>0.818278</td>\n",
       "    </tr>\n",
       "    <tr>\n",
       "      <th>69838</th>\n",
       "      <td>[c]1cc[nH]cc[nH]c1</td>\n",
       "      <td>-1.216652</td>\n",
       "      <td>-0.755029</td>\n",
       "      <td>0.111850</td>\n",
       "      <td>0.734157</td>\n",
       "    </tr>\n",
       "    <tr>\n",
       "      <th>3283</th>\n",
       "      <td>C/C=[C]/C1=CC(=O)CC1</td>\n",
       "      <td>0.195971</td>\n",
       "      <td>-0.256310</td>\n",
       "      <td>0.400703</td>\n",
       "      <td>0.743589</td>\n",
       "    </tr>\n",
       "  </tbody>\n",
       "</table>\n",
       "</div>"
      ],
      "text/plain": [
       "                      smiles  electron affinity  pred electron affinity  \\\n",
       "51055        O=C1C[CH]CNC1=O           0.036434               -1.353550   \n",
       "55962   [CH2]C(C)(C)C(=O)C=C          -0.340409               -1.307572   \n",
       "41471  C[C@H]([NH])C(C=O)C=O          -0.708136               -0.017002   \n",
       "69838     [c]1cc[nH]cc[nH]c1          -1.216652               -0.755029   \n",
       "3283    C/C=[C]/C1=CC(=O)CC1           0.195971               -0.256310   \n",
       "\n",
       "       reduced_rms  fractional_spin  \n",
       "51055     0.436397         0.702979  \n",
       "55962     0.401526         0.809650  \n",
       "41471     0.117294         0.818278  \n",
       "69838     0.111850         0.734157  \n",
       "3283      0.400703         0.743589  "
      ]
     },
     "execution_count": 94,
     "metadata": {},
     "output_type": "execute_result"
    }
   ],
   "source": [
    "ea_outliers[['smiles', 'electron affinity', 'pred electron affinity', 'reduced_rms', 'fractional_spin']] "
   ]
  },
  {
   "cell_type": "code",
   "execution_count": 98,
   "metadata": {},
   "outputs": [],
   "source": [
    "ie_logs = redf[redf.smiles.isin(ie_outliers.smiles) & redf.estate.isin(('radical', 'oxidized'))].logfile\n",
    "ea_logs = redf[redf.smiles.isin(ea_outliers.smiles) & redf.estate.isin(('radical', 'reduced'))].logfile"
   ]
  },
  {
   "cell_type": "code",
   "execution_count": 99,
   "metadata": {},
   "outputs": [],
   "source": [
    "import shutil"
   ]
  },
  {
   "cell_type": "code",
   "execution_count": 103,
   "metadata": {},
   "outputs": [],
   "source": [
    "for log in ie_logs:\n",
    "    shutil.copy(log, '/home/pstjohn/Research/20200608_redox_calculations/spin_gnn/20200917_outliers/ie')"
   ]
  },
  {
   "cell_type": "code",
   "execution_count": 104,
   "metadata": {},
   "outputs": [],
   "source": [
    "for log in ea_logs:\n",
    "    shutil.copy(log, '/home/pstjohn/Research/20200608_redox_calculations/spin_gnn/20200917_outliers/ea')"
   ]
  },
  {
   "cell_type": "code",
   "execution_count": 102,
   "metadata": {},
   "outputs": [
    {
     "data": {
      "text/plain": [
       "'/projects/rlmolecule/pstjohn/redox_calculations/log/872446_e31dec.log.gz'"
      ]
     },
     "execution_count": 102,
     "metadata": {},
     "output_type": "execute_result"
    }
   ],
   "source": [
    "log"
   ]
  },
  {
   "cell_type": "code",
   "execution_count": null,
   "metadata": {},
   "outputs": [],
   "source": []
  }
 ],
 "metadata": {
  "kernelspec": {
   "display_name": "Python 3",
   "language": "python",
   "name": "python3"
  },
  "language_info": {
   "codemirror_mode": {
    "name": "ipython",
    "version": 3
   },
   "file_extension": ".py",
   "mimetype": "text/x-python",
   "name": "python",
   "nbconvert_exporter": "python",
   "pygments_lexer": "ipython3",
   "version": "3.7.8"
  }
 },
 "nbformat": 4,
 "nbformat_minor": 4
}
