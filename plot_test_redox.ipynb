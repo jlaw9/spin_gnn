{
 "cells": [
  {
   "cell_type": "code",
   "execution_count": 32,
   "metadata": {},
   "outputs": [],
   "source": [
    "import numpy as np\n",
    "import pandas as pd\n",
    "\n",
    "import matplotlib.pyplot as plt\n",
    "import seaborn as sns\n",
    "sns.set(context='talk', style='ticks',\n",
    "        color_codes=True, rc={'legend.frameon': False})\n",
    "\n",
    "%matplotlib inline"
   ]
  },
  {
   "cell_type": "code",
   "execution_count": 33,
   "metadata": {},
   "outputs": [
    {
     "name": "stdout",
     "output_type": "stream",
     "text": [
      "Fri Sep 18 08:14:15 2020       \n",
      "+-----------------------------------------------------------------------------+\n",
      "| NVIDIA-SMI 440.82       Driver Version: 440.82       CUDA Version: 10.2     |\n",
      "|-------------------------------+----------------------+----------------------+\n",
      "| GPU  Name        Persistence-M| Bus-Id        Disp.A | Volatile Uncorr. ECC |\n",
      "| Fan  Temp  Perf  Pwr:Usage/Cap|         Memory-Usage | GPU-Util  Compute M. |\n",
      "|===============================+======================+======================|\n",
      "|   0  Quadro GV100        Off  | 00000000:37:00.0 Off |                  Off |\n",
      "| 31%   43C    P2    36W / 250W |   2811MiB / 32508MiB |      0%      Default |\n",
      "+-------------------------------+----------------------+----------------------+\n",
      "                                                                               \n",
      "+-----------------------------------------------------------------------------+\n",
      "| Processes:                                                       GPU Memory |\n",
      "|  GPU       PID   Type   Process name                             Usage      |\n",
      "|=============================================================================|\n",
      "|    0       452      G   paraview                                     167MiB |\n",
      "|    0      5135      G   ...t/nrel/apps/paraview/5.6.0/lib/paraview    88MiB |\n",
      "|    0      5869      C   /home/jvermaas/lib/vmd/vmd_LINUXAMD64        311MiB |\n",
      "|    0      9462      G   paraview                                     204MiB |\n",
      "|    0     10344      G   ...t/nrel/apps/paraview/5.6.0/lib/paraview    49MiB |\n",
      "|    0     10585      G   paraview                                      73MiB |\n",
      "|    0     11716      G   paraview                                     115MiB |\n",
      "|    0     12618      G   ...t/nrel/apps/paraview/5.6.0/lib/paraview   106MiB |\n",
      "|    0     15106      C   ...olecule/pstjohn/envs/tf2_gpu/bin/python   627MiB |\n",
      "|    0     19337      G   /usr/bin/X                                   415MiB |\n",
      "|    0     22031      G   paraview                                      83MiB |\n",
      "|    0     22797      C   ...nwilson/miniconda3/envs/mytf/bin/python   389MiB |\n",
      "|    0     26121      G   paraview                                      24MiB |\n",
      "|    0     28040      G   paraview                                     136MiB |\n",
      "+-----------------------------------------------------------------------------+\n",
      "WARNING: infoROM is corrupted at gpu 0000:37:00.0\n"
     ]
    }
   ],
   "source": [
    "!nvidia-smi"
   ]
  },
  {
   "cell_type": "code",
   "execution_count": 96,
   "metadata": {},
   "outputs": [
    {
     "name": "stdout",
     "output_type": "stream",
     "text": [
      "loss        0.021494\n",
      "val_loss    0.055895\n",
      "dtype: float64\n",
      "loss        0.020130\n",
      "val_loss    0.040856\n",
      "dtype: float64\n"
     ]
    },
    {
     "data": {
      "image/png": "[encoded data removed]",
      "text/plain": [
       "<Figure size 432x288 with 1 Axes>"
      ]
     },
     "metadata": {
      "needs_background": "light"
     },
     "output_type": "display_data"
    }
   ],
   "source": [
    "log = pd.read_csv('20200917_redox_atomwise/log.csv').set_index('epoch')\n",
    "\n",
    "plt.semilogy(log.loss)\n",
    "plt.semilogy(log.val_loss)\n",
    "    \n",
    "print(log.min())\n",
    "\n",
    "log = pd.read_csv('20200918_redox_atomwise/log.csv').set_index('epoch')\n",
    "\n",
    "plt.semilogy(log.loss)\n",
    "plt.semilogy(log.val_loss)\n",
    "\n",
    "print(log.min())\n",
    "\n",
    "plt.tight_layout()\n",
    "# plt.xlim([0, 10])"
   ]
  },
  {
   "cell_type": "code",
   "execution_count": 97,
   "metadata": {},
   "outputs": [],
   "source": [
    "import tensorflow as tf\n",
    "gpus = tf.config.experimental.list_physical_devices('GPU')\n",
    "if gpus:\n",
    "    # Currently, memory growth needs to be the same across GPUs\n",
    "    for gpu in gpus:\n",
    "        tf.config.experimental.set_memory_growth(gpu, True)\n",
    "import nfp"
   ]
  },
  {
   "cell_type": "code",
   "execution_count": 98,
   "metadata": {},
   "outputs": [],
   "source": [
    "from preprocess_inputs import preprocessor\n",
    "preprocessor.from_json('tfrecords/preprocessor.json')\n",
    "\n",
    "from loss import AtomInfMask, KLWithLogits, RedoxAttention\n",
    "from nfp import EdgeUpdate, NodeUpdate, GlobalUpdate\n",
    "import tensorflow_addons as tfa\n",
    "\n",
    "model = tf.keras.models.load_model(\n",
    "    '20200918_redox_atomwise/best_model.hdf5',\n",
    "    custom_objects={**nfp.custom_objects,\n",
    "                    **{'EdgeUpdate': EdgeUpdate,\n",
    "                       'NodeUpdate': NodeUpdate,\n",
    "                       'GlobalUpdate': GlobalUpdate}})"
   ]
  },
  {
   "cell_type": "code",
   "execution_count": 99,
   "metadata": {},
   "outputs": [],
   "source": [
    "redox_df = pd.read_csv('/projects/rlmolecule/pstjohn/spin_gnn/redox_data.csv.gz')"
   ]
  },
  {
   "cell_type": "code",
   "execution_count": 100,
   "metadata": {},
   "outputs": [
    {
     "data": {
      "text/plain": [
       "smiles               77925\n",
       "ionization energy    44274\n",
       "electron affinity    73684\n",
       "oxidized_s2           2077\n",
       "reduced_s2             174\n",
       "reduced_rms          74348\n",
       "oxidized_rms         45062\n",
       "dtype: int64"
      ]
     },
     "execution_count": 100,
     "metadata": {},
     "output_type": "execute_result"
    }
   ],
   "source": [
    "redox_df.notna().sum(0)"
   ]
  },
  {
   "cell_type": "code",
   "execution_count": 101,
   "metadata": {},
   "outputs": [],
   "source": [
    "data = np.load('redox_split.npz', allow_pickle=True)\n",
    "redox_valid = redox_df[redox_df.smiles.isin(np.concatenate([data['valid'], data['test']]))]"
   ]
  },
  {
   "cell_type": "code",
   "execution_count": 102,
   "metadata": {},
   "outputs": [
    {
     "data": {
      "text/plain": [
       "(1837, 7)"
      ]
     },
     "execution_count": 102,
     "metadata": {},
     "output_type": "execute_result"
    }
   ],
   "source": [
    "redox_valid.shape"
   ]
  },
  {
   "cell_type": "code",
   "execution_count": 73,
   "metadata": {},
   "outputs": [],
   "source": [
    "test_dataset = tf.data.Dataset.from_generator(\n",
    "    lambda: (preprocessor.construct_feature_matrices(smiles, train=False) for smiles in redox_valid.smiles),\n",
    "    output_types=preprocessor.output_types,\n",
    "    output_shapes=preprocessor.output_shapes)\\\n",
    "    .padded_batch(batch_size=128, padded_shapes=preprocessor.padded_shapes(),\n",
    "                  padding_values=preprocessor.padding_values)"
   ]
  },
  {
   "cell_type": "code",
   "execution_count": 74,
   "metadata": {},
   "outputs": [
    {
     "name": "stdout",
     "output_type": "stream",
     "text": [
      "15/15 [==============================] - 2s 132ms/step\n"
     ]
    }
   ],
   "source": [
    "predicted_redox = model.predict(test_dataset, verbose=1)"
   ]
  },
  {
   "cell_type": "code",
   "execution_count": 75,
   "metadata": {},
   "outputs": [
    {
     "data": {
      "text/plain": [
       "Text(0.5, 1.0, 'electron affinity')"
      ]
     },
     "execution_count": 75,
     "metadata": {},
     "output_type": "execute_result"
    },
    {
     "data": {
      "image/png": "[encoded data removed]",
      "text/plain": [
       "<Figure size 576x252 with 2 Axes>"
      ]
     },
     "metadata": {
      "needs_background": "light"
     },
     "output_type": "display_data"
    }
   ],
   "source": [
    "fig, axs = plt.subplots(ncols=2, figsize=(8,3.5))\n",
    "axs[0].plot(redox_valid['ionization energy'], predicted_redox[:, 0], '.', ms=1)\n",
    "axs[1].plot(redox_valid['electron affinity'], predicted_redox[:, 1], '.', ms=1)\n",
    "\n",
    "axs[0].text(.95, .05, f\"MAE: {(redox_valid['ionization energy'] - predicted_redox[:, 0]).abs().mean():.4f} V\", ha='right', va='bottom', transform=axs[0].transAxes, fontsize=14)\n",
    "axs[1].text(.95, .05, f\"MAE: {(redox_valid['electron affinity'] - predicted_redox[:, 1]).abs().mean():.4f} V\", ha='right', va='bottom', transform=axs[1].transAxes, fontsize=14)\n",
    "\n",
    "axs[0].set_title('ionization energy')\n",
    "axs[1].set_title('electron affinity')"
   ]
  },
  {
   "cell_type": "code",
   "execution_count": 76,
   "metadata": {},
   "outputs": [],
   "source": [
    "redox_valid = redox_valid.copy()\n",
    "redox_valid['pred ionization energy'] = predicted_redox[:, 0]\n",
    "redox_valid['pred electron affinity'] = predicted_redox[:, 1]"
   ]
  },
  {
   "cell_type": "code",
   "execution_count": 77,
   "metadata": {},
   "outputs": [],
   "source": [
    "redox_valid['err ionization energy'] = (redox_valid['pred ionization energy'] - redox_valid['ionization energy']).abs()\n",
    "redox_valid['err electron affinity'] = (redox_valid['pred electron affinity'] - redox_valid['electron affinity']).abs()"
   ]
  },
  {
   "cell_type": "code",
   "execution_count": 89,
   "metadata": {},
   "outputs": [
    {
     "data": {
      "text/plain": [
       "<AxesSubplot:ylabel='Frequency'>"
      ]
     },
     "execution_count": 89,
     "metadata": {},
     "output_type": "execute_result"
    },
    {
     "data": {
      "image/png": "[encoded data removed]",
      "text/plain": [
       "<Figure size 432x288 with 1 Axes>"
      ]
     },
     "metadata": {
      "needs_background": "light"
     },
     "output_type": "display_data"
    }
   ],
   "source": [
    "redox_valid['err electron affinity'].plot.hist(range=(0, .2), bins=20)"
   ]
  },
  {
   "cell_type": "code",
   "execution_count": 91,
   "metadata": {},
   "outputs": [
    {
     "data": {
      "text/plain": [
       "0.024738154758599917"
      ]
     },
     "execution_count": 91,
     "metadata": {},
     "output_type": "execute_result"
    }
   ],
   "source": [
    "redox_valid['err ionization energy'].median()"
   ]
  },
  {
   "cell_type": "code",
   "execution_count": 90,
   "metadata": {},
   "outputs": [
    {
     "data": {
      "text/plain": [
       "0.023132014298559156"
      ]
     },
     "execution_count": 90,
     "metadata": {},
     "output_type": "execute_result"
    }
   ],
   "source": [
    "redox_valid['err electron affinity'].median()"
   ]
  },
  {
   "cell_type": "code",
   "execution_count": 78,
   "metadata": {},
   "outputs": [],
   "source": [
    "spins = pd.read_csv('/projects/rlmolecule/pstjohn/atom_spins/redf_spins_expanded.csv.gz')"
   ]
  },
  {
   "cell_type": "code",
   "execution_count": 79,
   "metadata": {},
   "outputs": [],
   "source": [
    "spins['fractional_spin'] = spins.groupby('smiles').spin.apply(lambda x: x.abs() / x.abs().sum())"
   ]
  },
  {
   "cell_type": "code",
   "execution_count": 80,
   "metadata": {},
   "outputs": [],
   "source": [
    "max_fractional_spin = spins.groupby('smiles').fractional_spin.max()"
   ]
  },
  {
   "cell_type": "code",
   "execution_count": 81,
   "metadata": {},
   "outputs": [],
   "source": [
    "redox_valid_spin = redox_valid.join(max_fractional_spin, on='smiles')"
   ]
  },
  {
   "cell_type": "code",
   "execution_count": 82,
   "metadata": {},
   "outputs": [
    {
     "data": {
      "text/plain": [
       "Text(0.5, 1.0, 'Electron Affinity')"
      ]
     },
     "execution_count": 82,
     "metadata": {},
     "output_type": "execute_result"
    },
    {
     "data": {
      "image/png": "[encoded data removed]",
      "text/plain": [
       "<Figure size 576x252 with 2 Axes>"
      ]
     },
     "metadata": {
      "needs_background": "light"
     },
     "output_type": "display_data"
    }
   ],
   "source": [
    "fig, axs = plt.subplots(nrows=1, ncols=2, figsize=(8,3.5), sharey=True, sharex=True)\n",
    "axs[0].semilogy(redox_valid_spin['fractional_spin'], redox_valid_spin['err ionization energy'], '.', ms=2.5)\n",
    "axs[0].axhline(0.025, ls='--', color='.8')\n",
    "axs[1].semilogy(redox_valid_spin['fractional_spin'], redox_valid_spin['err electron affinity'], '.', ms=2.5)\n",
    "axs[1].axhline(0.025, ls='--', color='.8')\n",
    "\n",
    "axs[0].set_ylabel('Error')\n",
    "axs[0].set_xlabel('Max fractional spin')\n",
    "axs[1].set_xlabel('Max fractional spin')\n",
    "\n",
    "axs[0].set_title('Ionization Energy')\n",
    "axs[1].set_title('Electron Affinity')"
   ]
  },
  {
   "cell_type": "code",
   "execution_count": 84,
   "metadata": {},
   "outputs": [],
   "source": [
    "ie_outliers = redox_valid_spin[redox_valid_spin['fractional_spin'] > 0.75].sort_values('err ionization energy', ascending=False).head(3)\n",
    "ea_outliers = redox_valid_spin[redox_valid_spin['fractional_spin'] > 0.70].sort_values('err electron affinity', ascending=False).head(3)"
   ]
  },
  {
   "cell_type": "code",
   "execution_count": 56,
   "metadata": {},
   "outputs": [],
   "source": [
    "import psycopg2\n",
    "\n",
    "dbparams = {\n",
    "    'dbname': 'bde',\n",
    "    'port': 5432,\n",
    "    'host': 'yuma.hpc.nrel.gov',\n",
    "    'user': 'bdeops',\n",
    "    'password': 'BD30ps99!',\n",
    "    'options': f'-c search_path=bde',\n",
    "}\n",
    "\n",
    "with psycopg2.connect(**dbparams) as conn:\n",
    "\n",
    "    redf = pd.read_sql_query(\"\"\"\n",
    "    SELECT * from redoxcompound where status='finished'\n",
    "    \"\"\", conn)"
   ]
  },
  {
   "cell_type": "code",
   "execution_count": 92,
   "metadata": {},
   "outputs": [
    {
     "data": {
      "text/html": [
       "<div>\n",
       "<style scoped>\n",
       "    .dataframe tbody tr th:only-of-type {\n",
       "        vertical-align: middle;\n",
       "    }\n",
       "\n",
       "    .dataframe tbody tr th {\n",
       "        vertical-align: top;\n",
       "    }\n",
       "\n",
       "    .dataframe thead th {\n",
       "        text-align: right;\n",
       "    }\n",
       "</style>\n",
       "<table border=\"1\" class=\"dataframe\">\n",
       "  <thead>\n",
       "    <tr style=\"text-align: right;\">\n",
       "      <th></th>\n",
       "      <th>smiles</th>\n",
       "      <th>ionization energy</th>\n",
       "      <th>pred ionization energy</th>\n",
       "      <th>fractional_spin</th>\n",
       "    </tr>\n",
       "  </thead>\n",
       "  <tbody>\n",
       "    <tr>\n",
       "      <th>57317</th>\n",
       "      <td>O=C1O[C]=C(O)[C@@H]1O</td>\n",
       "      <td>1.515234</td>\n",
       "      <td>1.998724</td>\n",
       "      <td>0.840871</td>\n",
       "    </tr>\n",
       "    <tr>\n",
       "      <th>30035</th>\n",
       "      <td>CC[C@@H]1[C]=C(C)OC1=O</td>\n",
       "      <td>2.257219</td>\n",
       "      <td>1.955173</td>\n",
       "      <td>0.807113</td>\n",
       "    </tr>\n",
       "    <tr>\n",
       "      <th>12124</th>\n",
       "      <td>C=[C]/C(C)=C/CO</td>\n",
       "      <td>-0.024437</td>\n",
       "      <td>0.232750</td>\n",
       "      <td>0.751129</td>\n",
       "    </tr>\n",
       "  </tbody>\n",
       "</table>\n",
       "</div>"
      ],
      "text/plain": [
       "                       smiles  ionization energy  pred ionization energy  \\\n",
       "57317   O=C1O[C]=C(O)[C@@H]1O           1.515234                1.998724   \n",
       "30035  CC[C@@H]1[C]=C(C)OC1=O           2.257219                1.955173   \n",
       "12124         C=[C]/C(C)=C/CO          -0.024437                0.232750   \n",
       "\n",
       "       fractional_spin  \n",
       "57317         0.840871  \n",
       "30035         0.807113  \n",
       "12124         0.751129  "
      ]
     },
     "execution_count": 92,
     "metadata": {},
     "output_type": "execute_result"
    }
   ],
   "source": [
    "ie_outliers[['smiles', 'ionization energy', 'pred ionization energy', 'fractional_spin']]  # oxidized"
   ]
  },
  {
   "cell_type": "code",
   "execution_count": 93,
   "metadata": {},
   "outputs": [
    {
     "data": {
      "text/html": [
       "<div>\n",
       "<style scoped>\n",
       "    .dataframe tbody tr th:only-of-type {\n",
       "        vertical-align: middle;\n",
       "    }\n",
       "\n",
       "    .dataframe tbody tr th {\n",
       "        vertical-align: top;\n",
       "    }\n",
       "\n",
       "    .dataframe thead th {\n",
       "        text-align: right;\n",
       "    }\n",
       "</style>\n",
       "<table border=\"1\" class=\"dataframe\">\n",
       "  <thead>\n",
       "    <tr style=\"text-align: right;\">\n",
       "      <th></th>\n",
       "      <th>smiles</th>\n",
       "      <th>electron affinity</th>\n",
       "      <th>pred electron affinity</th>\n",
       "      <th>fractional_spin</th>\n",
       "    </tr>\n",
       "  </thead>\n",
       "  <tbody>\n",
       "    <tr>\n",
       "      <th>14294</th>\n",
       "      <td>CC(=O)CC/C=[C]/C=O</td>\n",
       "      <td>-0.226205</td>\n",
       "      <td>0.243738</td>\n",
       "      <td>0.772311</td>\n",
       "    </tr>\n",
       "    <tr>\n",
       "      <th>2623</th>\n",
       "      <td>C/C=C/C=C(\\C)C([O])=O</td>\n",
       "      <td>1.944104</td>\n",
       "      <td>1.588787</td>\n",
       "      <td>0.790588</td>\n",
       "    </tr>\n",
       "    <tr>\n",
       "      <th>53705</th>\n",
       "      <td>N=C(N)[S]</td>\n",
       "      <td>0.682718</td>\n",
       "      <td>0.412559</td>\n",
       "      <td>0.866395</td>\n",
       "    </tr>\n",
       "  </tbody>\n",
       "</table>\n",
       "</div>"
      ],
      "text/plain": [
       "                      smiles  electron affinity  pred electron affinity  \\\n",
       "14294     CC(=O)CC/C=[C]/C=O          -0.226205                0.243738   \n",
       "2623   C/C=C/C=C(\\C)C([O])=O           1.944104                1.588787   \n",
       "53705              N=C(N)[S]           0.682718                0.412559   \n",
       "\n",
       "       fractional_spin  \n",
       "14294         0.772311  \n",
       "2623          0.790588  \n",
       "53705         0.866395  "
      ]
     },
     "execution_count": 93,
     "metadata": {},
     "output_type": "execute_result"
    }
   ],
   "source": [
    "ea_outliers[['smiles', 'electron affinity', 'pred electron affinity', 'fractional_spin']] "
   ]
  },
  {
   "cell_type": "code",
   "execution_count": 94,
   "metadata": {},
   "outputs": [],
   "source": [
    "ie_logs = redf[redf.smiles.isin(ie_outliers.smiles) & redf.estate.isin(('radical', 'oxidized'))].logfile\n",
    "ea_logs = redf[redf.smiles.isin(ea_outliers.smiles) & redf.estate.isin(('radical', 'reduced'))].logfile"
   ]
  },
  {
   "cell_type": "code",
   "execution_count": 65,
   "metadata": {},
   "outputs": [
    {
     "data": {
      "text/html": [
       "<div>\n",
       "<style scoped>\n",
       "    .dataframe tbody tr th:only-of-type {\n",
       "        vertical-align: middle;\n",
       "    }\n",
       "\n",
       "    .dataframe tbody tr th {\n",
       "        vertical-align: top;\n",
       "    }\n",
       "\n",
       "    .dataframe thead th {\n",
       "        text-align: right;\n",
       "    }\n",
       "</style>\n",
       "<table border=\"1\" class=\"dataframe\">\n",
       "  <thead>\n",
       "    <tr style=\"text-align: right;\">\n",
       "      <th></th>\n",
       "      <th>id</th>\n",
       "      <th>cid</th>\n",
       "      <th>smiles</th>\n",
       "      <th>estate</th>\n",
       "      <th>type</th>\n",
       "      <th>run</th>\n",
       "      <th>status</th>\n",
       "      <th>enthalpy</th>\n",
       "      <th>freeenergy</th>\n",
       "      <th>mol_initial</th>\n",
       "      <th>mol_final</th>\n",
       "      <th>run_at</th>\n",
       "      <th>queued_at</th>\n",
       "      <th>logfile</th>\n",
       "      <th>error</th>\n",
       "      <th>node</th>\n",
       "    </tr>\n",
       "  </thead>\n",
       "  <tbody>\n",
       "    <tr>\n",
       "      <th>85124</th>\n",
       "      <td>670571</td>\n",
       "      <td>504656</td>\n",
       "      <td>C=[C]/C(C)=C/CO</td>\n",
       "      <td>oxidized</td>\n",
       "      <td>None</td>\n",
       "      <td>10</td>\n",
       "      <td>finished</td>\n",
       "      <td>-308.840234</td>\n",
       "      <td>-308.882919</td>\n",
       "      <td>504656\\n     RDKit          3D\\n\\n 16 15  0  0...</td>\n",
       "      <td>670571\\n     RDKit          3D\\n\\n 16 15  0  0...</td>\n",
       "      <td>2020-09-06 23:23:49.984291</td>\n",
       "      <td>2020-09-06 23:06:53.691739</td>\n",
       "      <td>/projects/rlmolecule/pstjohn/redox_calculation...</td>\n",
       "      <td>None</td>\n",
       "      <td>r6i0n20</td>\n",
       "    </tr>\n",
       "    <tr>\n",
       "      <th>76359</th>\n",
       "      <td>670570</td>\n",
       "      <td>504656</td>\n",
       "      <td>C=[C]/C(C)=C/CO</td>\n",
       "      <td>radical</td>\n",
       "      <td>None</td>\n",
       "      <td>10</td>\n",
       "      <td>finished</td>\n",
       "      <td>-308.994876</td>\n",
       "      <td>-309.039348</td>\n",
       "      <td>504656\\n     RDKit          3D\\n\\n 16 15  0  0...</td>\n",
       "      <td>670570\\n     RDKit          3D\\n\\n 16 15  0  0...</td>\n",
       "      <td>2020-09-06 23:19:07.532071</td>\n",
       "      <td>2020-09-06 23:06:53.553486</td>\n",
       "      <td>/projects/rlmolecule/pstjohn/redox_calculation...</td>\n",
       "      <td>None</td>\n",
       "      <td>r6i2n8</td>\n",
       "    </tr>\n",
       "    <tr>\n",
       "      <th>200906</th>\n",
       "      <td>854879</td>\n",
       "      <td>291918</td>\n",
       "      <td>CC[C@@H]1[C]=C(C)OC1=O</td>\n",
       "      <td>oxidized</td>\n",
       "      <td>None</td>\n",
       "      <td>10</td>\n",
       "      <td>finished</td>\n",
       "      <td>-422.109475</td>\n",
       "      <td>-422.155447</td>\n",
       "      <td>291918\\n     RDKit          3D\\n\\n 18 18  0  0...</td>\n",
       "      <td>854879\\n     RDKit          3D\\n\\n 18 18  0  0...</td>\n",
       "      <td>2020-09-14 02:04:46.740888</td>\n",
       "      <td>2020-09-14 01:14:40.343903</td>\n",
       "      <td>/projects/rlmolecule/pstjohn/redox_calculation...</td>\n",
       "      <td>None</td>\n",
       "      <td>r6i0n23</td>\n",
       "    </tr>\n",
       "    <tr>\n",
       "      <th>197399</th>\n",
       "      <td>854878</td>\n",
       "      <td>291918</td>\n",
       "      <td>CC[C@@H]1[C]=C(C)OC1=O</td>\n",
       "      <td>radical</td>\n",
       "      <td>None</td>\n",
       "      <td>10</td>\n",
       "      <td>finished</td>\n",
       "      <td>-422.350976</td>\n",
       "      <td>-422.395727</td>\n",
       "      <td>291918\\n     RDKit          3D\\n\\n 18 18  0  0...</td>\n",
       "      <td>854878\\n     RDKit          3D\\n\\n 18 18  0  0...</td>\n",
       "      <td>2020-09-14 01:32:45.549037</td>\n",
       "      <td>2020-09-14 01:14:37.282770</td>\n",
       "      <td>/projects/rlmolecule/pstjohn/redox_calculation...</td>\n",
       "      <td>None</td>\n",
       "      <td>r6i0n15</td>\n",
       "    </tr>\n",
       "    <tr>\n",
       "      <th>144860</th>\n",
       "      <td>769220</td>\n",
       "      <td>49663</td>\n",
       "      <td>O=C1O[C]=C(O)[C@@H]1O</td>\n",
       "      <td>oxidized</td>\n",
       "      <td>None</td>\n",
       "      <td>10</td>\n",
       "      <td>finished</td>\n",
       "      <td>-454.735386</td>\n",
       "      <td>-454.775250</td>\n",
       "      <td>49663\\n     RDKit          3D\\n\\n 11 11  0  0 ...</td>\n",
       "      <td>769220\\n     RDKit          3D\\n\\n 11 11  0  0...</td>\n",
       "      <td>2020-09-10 04:18:33.343894</td>\n",
       "      <td>2020-09-10 03:52:22.051503</td>\n",
       "      <td>/projects/rlmolecule/pstjohn/redox_calculation...</td>\n",
       "      <td>None</td>\n",
       "      <td>r6i0n35</td>\n",
       "    </tr>\n",
       "    <tr>\n",
       "      <th>144855</th>\n",
       "      <td>769219</td>\n",
       "      <td>49663</td>\n",
       "      <td>O=C1O[C]=C(O)[C@@H]1O</td>\n",
       "      <td>radical</td>\n",
       "      <td>None</td>\n",
       "      <td>10</td>\n",
       "      <td>finished</td>\n",
       "      <td>-454.947381</td>\n",
       "      <td>-454.988262</td>\n",
       "      <td>49663\\n     RDKit          3D\\n\\n 11 11  0  0 ...</td>\n",
       "      <td>769219\\n     RDKit          3D\\n\\n 11 11  0  0...</td>\n",
       "      <td>2020-09-10 04:08:26.187140</td>\n",
       "      <td>2020-09-10 03:52:20.944238</td>\n",
       "      <td>/projects/rlmolecule/pstjohn/redox_calculation...</td>\n",
       "      <td>None</td>\n",
       "      <td>r6i3n1</td>\n",
       "    </tr>\n",
       "    <tr>\n",
       "      <th>30120</th>\n",
       "      <td>790859</td>\n",
       "      <td>466218</td>\n",
       "      <td>[CH2][C@@H]1C(=O)O[C@@H]2O[C@@H]21</td>\n",
       "      <td>oxidized</td>\n",
       "      <td>None</td>\n",
       "      <td>10</td>\n",
       "      <td>finished</td>\n",
       "      <td>-418.816233</td>\n",
       "      <td>-418.854634</td>\n",
       "      <td>466218\\n     RDKit          3D\\n\\n 13 14  0  0...</td>\n",
       "      <td>790859\\n     RDKit          3D\\n\\n 13 14  0  0...</td>\n",
       "      <td>2020-09-10 22:23:14.425572</td>\n",
       "      <td>2020-09-10 22:12:09.478168</td>\n",
       "      <td>/projects/rlmolecule/pstjohn/redox_calculation...</td>\n",
       "      <td>None</td>\n",
       "      <td>r6i6n15</td>\n",
       "    </tr>\n",
       "    <tr>\n",
       "      <th>112957</th>\n",
       "      <td>790858</td>\n",
       "      <td>466218</td>\n",
       "      <td>[CH2][C@@H]1C(=O)O[C@@H]2O[C@@H]21</td>\n",
       "      <td>radical</td>\n",
       "      <td>None</td>\n",
       "      <td>10</td>\n",
       "      <td>finished</td>\n",
       "      <td>-419.027115</td>\n",
       "      <td>-419.066879</td>\n",
       "      <td>466218\\n     RDKit          3D\\n\\n 13 14  0  0...</td>\n",
       "      <td>790858\\n     RDKit          3D\\n\\n 13 14  0  0...</td>\n",
       "      <td>2020-09-10 22:25:02.853996</td>\n",
       "      <td>2020-09-10 22:12:06.355294</td>\n",
       "      <td>/projects/rlmolecule/pstjohn/redox_calculation...</td>\n",
       "      <td>None</td>\n",
       "      <td>r6i3n28</td>\n",
       "    </tr>\n",
       "    <tr>\n",
       "      <th>26981</th>\n",
       "      <td>25997</td>\n",
       "      <td>511844</td>\n",
       "      <td>[CH]1OCCOCOCO1</td>\n",
       "      <td>oxidized</td>\n",
       "      <td>None</td>\n",
       "      <td>1</td>\n",
       "      <td>finished</td>\n",
       "      <td>-496.464716</td>\n",
       "      <td>-496.505764</td>\n",
       "      <td>511844\\n     RDKit          3D\\n\\n 18 18  0  0...</td>\n",
       "      <td>25997\\n     RDKit          3D\\n\\n 18 18  0  0 ...</td>\n",
       "      <td>2020-06-12 21:57:23.007362</td>\n",
       "      <td>2020-06-12 21:36:20.669668</td>\n",
       "      <td>/projects/rlmolecule/pstjohn/redox_calculation...</td>\n",
       "      <td></td>\n",
       "      <td>r3i2n35</td>\n",
       "    </tr>\n",
       "    <tr>\n",
       "      <th>14301</th>\n",
       "      <td>25996</td>\n",
       "      <td>511844</td>\n",
       "      <td>[CH]1OCCOCOCO1</td>\n",
       "      <td>radical</td>\n",
       "      <td>None</td>\n",
       "      <td>1</td>\n",
       "      <td>finished</td>\n",
       "      <td>-496.598743</td>\n",
       "      <td>-496.640676</td>\n",
       "      <td>511844\\n     RDKit          3D\\n\\n 18 18  0  0...</td>\n",
       "      <td>25996\\n     RDKit          3D\\n\\n 18 18  0  0 ...</td>\n",
       "      <td>2020-06-12 21:56:42.289670</td>\n",
       "      <td>2020-06-12 21:36:19.062129</td>\n",
       "      <td>/projects/rlmolecule/pstjohn/redox_calculation...</td>\n",
       "      <td></td>\n",
       "      <td>r3i2n26</td>\n",
       "    </tr>\n",
       "  </tbody>\n",
       "</table>\n",
       "</div>"
      ],
      "text/plain": [
       "            id     cid                              smiles    estate  type  \\\n",
       "85124   670571  504656                     C=[C]/C(C)=C/CO  oxidized  None   \n",
       "76359   670570  504656                     C=[C]/C(C)=C/CO   radical  None   \n",
       "200906  854879  291918              CC[C@@H]1[C]=C(C)OC1=O  oxidized  None   \n",
       "197399  854878  291918              CC[C@@H]1[C]=C(C)OC1=O   radical  None   \n",
       "144860  769220   49663               O=C1O[C]=C(O)[C@@H]1O  oxidized  None   \n",
       "144855  769219   49663               O=C1O[C]=C(O)[C@@H]1O   radical  None   \n",
       "30120   790859  466218  [CH2][C@@H]1C(=O)O[C@@H]2O[C@@H]21  oxidized  None   \n",
       "112957  790858  466218  [CH2][C@@H]1C(=O)O[C@@H]2O[C@@H]21   radical  None   \n",
       "26981    25997  511844                      [CH]1OCCOCOCO1  oxidized  None   \n",
       "14301    25996  511844                      [CH]1OCCOCOCO1   radical  None   \n",
       "\n",
       "        run    status    enthalpy  freeenergy  \\\n",
       "85124    10  finished -308.840234 -308.882919   \n",
       "76359    10  finished -308.994876 -309.039348   \n",
       "200906   10  finished -422.109475 -422.155447   \n",
       "197399   10  finished -422.350976 -422.395727   \n",
       "144860   10  finished -454.735386 -454.775250   \n",
       "144855   10  finished -454.947381 -454.988262   \n",
       "30120    10  finished -418.816233 -418.854634   \n",
       "112957   10  finished -419.027115 -419.066879   \n",
       "26981     1  finished -496.464716 -496.505764   \n",
       "14301     1  finished -496.598743 -496.640676   \n",
       "\n",
       "                                              mol_initial  \\\n",
       "85124   504656\\n     RDKit          3D\\n\\n 16 15  0  0...   \n",
       "76359   504656\\n     RDKit          3D\\n\\n 16 15  0  0...   \n",
       "200906  291918\\n     RDKit          3D\\n\\n 18 18  0  0...   \n",
       "197399  291918\\n     RDKit          3D\\n\\n 18 18  0  0...   \n",
       "144860  49663\\n     RDKit          3D\\n\\n 11 11  0  0 ...   \n",
       "144855  49663\\n     RDKit          3D\\n\\n 11 11  0  0 ...   \n",
       "30120   466218\\n     RDKit          3D\\n\\n 13 14  0  0...   \n",
       "112957  466218\\n     RDKit          3D\\n\\n 13 14  0  0...   \n",
       "26981   511844\\n     RDKit          3D\\n\\n 18 18  0  0...   \n",
       "14301   511844\\n     RDKit          3D\\n\\n 18 18  0  0...   \n",
       "\n",
       "                                                mol_final  \\\n",
       "85124   670571\\n     RDKit          3D\\n\\n 16 15  0  0...   \n",
       "76359   670570\\n     RDKit          3D\\n\\n 16 15  0  0...   \n",
       "200906  854879\\n     RDKit          3D\\n\\n 18 18  0  0...   \n",
       "197399  854878\\n     RDKit          3D\\n\\n 18 18  0  0...   \n",
       "144860  769220\\n     RDKit          3D\\n\\n 11 11  0  0...   \n",
       "144855  769219\\n     RDKit          3D\\n\\n 11 11  0  0...   \n",
       "30120   790859\\n     RDKit          3D\\n\\n 13 14  0  0...   \n",
       "112957  790858\\n     RDKit          3D\\n\\n 13 14  0  0...   \n",
       "26981   25997\\n     RDKit          3D\\n\\n 18 18  0  0 ...   \n",
       "14301   25996\\n     RDKit          3D\\n\\n 18 18  0  0 ...   \n",
       "\n",
       "                           run_at                  queued_at  \\\n",
       "85124  2020-09-06 23:23:49.984291 2020-09-06 23:06:53.691739   \n",
       "76359  2020-09-06 23:19:07.532071 2020-09-06 23:06:53.553486   \n",
       "200906 2020-09-14 02:04:46.740888 2020-09-14 01:14:40.343903   \n",
       "197399 2020-09-14 01:32:45.549037 2020-09-14 01:14:37.282770   \n",
       "144860 2020-09-10 04:18:33.343894 2020-09-10 03:52:22.051503   \n",
       "144855 2020-09-10 04:08:26.187140 2020-09-10 03:52:20.944238   \n",
       "30120  2020-09-10 22:23:14.425572 2020-09-10 22:12:09.478168   \n",
       "112957 2020-09-10 22:25:02.853996 2020-09-10 22:12:06.355294   \n",
       "26981  2020-06-12 21:57:23.007362 2020-06-12 21:36:20.669668   \n",
       "14301  2020-06-12 21:56:42.289670 2020-06-12 21:36:19.062129   \n",
       "\n",
       "                                                  logfile error     node  \n",
       "85124   /projects/rlmolecule/pstjohn/redox_calculation...  None  r6i0n20  \n",
       "76359   /projects/rlmolecule/pstjohn/redox_calculation...  None   r6i2n8  \n",
       "200906  /projects/rlmolecule/pstjohn/redox_calculation...  None  r6i0n23  \n",
       "197399  /projects/rlmolecule/pstjohn/redox_calculation...  None  r6i0n15  \n",
       "144860  /projects/rlmolecule/pstjohn/redox_calculation...  None  r6i0n35  \n",
       "144855  /projects/rlmolecule/pstjohn/redox_calculation...  None   r6i3n1  \n",
       "30120   /projects/rlmolecule/pstjohn/redox_calculation...  None  r6i6n15  \n",
       "112957  /projects/rlmolecule/pstjohn/redox_calculation...  None  r6i3n28  \n",
       "26981   /projects/rlmolecule/pstjohn/redox_calculation...        r3i2n35  \n",
       "14301   /projects/rlmolecule/pstjohn/redox_calculation...        r3i2n26  "
      ]
     },
     "execution_count": 65,
     "metadata": {},
     "output_type": "execute_result"
    }
   ],
   "source": [
    "redf[redf.smiles.isin(ie_outliers.smiles) & redf.estate.isin(('radical', 'oxidized'))].sort_values(['smiles', 'estate'])"
   ]
  },
  {
   "cell_type": "code",
   "execution_count": 68,
   "metadata": {},
   "outputs": [
    {
     "name": "stdout",
     "output_type": "stream",
     "text": [
      "769219\n",
      "     RDKit          3D\n",
      "\n",
      " 11 11  0  0  0  0  0  0  0  0999 V2000\n",
      "   -2.2620    0.8908    0.8367 O   0  0  0  0  0  0  0  0  0  0  0  0\n",
      "   -1.4167    0.1219    0.5090 C   0  0  0  0  0  0  0  0  0  0  0  0\n",
      "   -1.5233   -1.2300    0.7553 O   0  0  0  0  0  0  0  0  0  0  0  0\n",
      "   -0.3245   -1.7923    0.3703 C   0  0  0  0  0  3  0  0  0  0  0  0\n",
      "    0.5644   -0.9715   -0.1488 C   0  0  0  0  0  0  0  0  0  0  0  0\n",
      "    1.7845   -1.2431   -0.6621 O   0  0  0  0  0  0  0  0  0  0  0  0\n",
      "   -0.0834    0.3927   -0.1957 C   0  0  2  0  0  0  0  0  0  0  0  0\n",
      "    0.6715    1.3805    0.4553 O   0  0  0  0  0  0  0  0  0  0  0  0\n",
      "    2.3146   -0.4329   -0.6660 H   0  0  0  0  0  0  0  0  0  0  0  0\n",
      "   -0.2965    0.6693   -1.2335 H   0  0  0  0  0  0  0  0  0  0  0  0\n",
      "    0.5714    2.2145   -0.0203 H   0  0  0  0  0  0  0  0  0  0  0  0\n",
      "  1  2  2  0\n",
      "  2  3  1  0\n",
      "  3  4  1  0\n",
      "  4  5  2  0\n",
      "  5  6  1  0\n",
      "  5  7  1  0\n",
      "  7  8  1  0\n",
      "  7  2  1  0\n",
      "  6  9  1  0\n",
      "  7 10  1  6\n",
      "  8 11  1  0\n",
      "M  RAD  1   4   2\n",
      "M  END\n",
      "\n"
     ]
    }
   ],
   "source": [
    "print(redf.loc[144855].mol_final)"
   ]
  },
  {
   "cell_type": "code",
   "execution_count": null,
   "metadata": {},
   "outputs": [],
   "source": [
    "import shutil"
   ]
  },
  {
   "cell_type": "code",
   "execution_count": null,
   "metadata": {},
   "outputs": [],
   "source": [
    "for log in ie_logs:\n",
    "    shutil.copy(log, '/home/pstjohn/Research/20200608_redox_calculations/spin_gnn/20200917_outliers/ie')"
   ]
  },
  {
   "cell_type": "code",
   "execution_count": null,
   "metadata": {},
   "outputs": [],
   "source": [
    "for log in ea_logs:\n",
    "    shutil.copy(log, '/home/pstjohn/Research/20200608_redox_calculations/spin_gnn/20200917_outliers/ea')"
   ]
  },
  {
   "cell_type": "code",
   "execution_count": null,
   "metadata": {},
   "outputs": [],
   "source": [
    "log"
   ]
  },
  {
   "cell_type": "code",
   "execution_count": null,
   "metadata": {},
   "outputs": [],
   "source": [
    "import os\n"
   ]
  },
  {
   "cell_type": "code",
   "execution_count": null,
   "metadata": {},
   "outputs": [],
   "source": [
    "ie_logs"
   ]
  },
  {
   "cell_type": "code",
   "execution_count": null,
   "metadata": {},
   "outputs": [],
   "source": [
    "ie_logs.apply(os.path.basename)"
   ]
  },
  {
   "cell_type": "code",
   "execution_count": null,
   "metadata": {},
   "outputs": [],
   "source": []
  }
 ],
 "metadata": {
  "kernelspec": {
   "display_name": "Python 3",
   "language": "python",
   "name": "python3"
  },
  "language_info": {
   "codemirror_mode": {
    "name": "ipython",
    "version": 3
   },
   "file_extension": ".py",
   "mimetype": "text/x-python",
   "name": "python",
   "nbconvert_exporter": "python",
   "pygments_lexer": "ipython3",
   "version": "3.7.8"
  }
 },
 "nbformat": 4,
 "nbformat_minor": 4
}
