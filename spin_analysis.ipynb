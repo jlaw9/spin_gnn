{
 "cells": [
  {
   "cell_type": "code",
   "execution_count": 2,
   "metadata": {},
   "outputs": [
    {
     "name": "stderr",
     "output_type": "stream",
     "text": [
      "/projects/rlmolecule/pstjohn/envs/tf2_gpu/lib/python3.7/site-packages/tqdm/std.py:668: FutureWarning: The Panel class is removed from pandas. Accessing it from the top-level namespace will also be removed in the next version\n",
      "  from pandas import Panel\n"
     ]
    }
   ],
   "source": [
    "import numpy as np\n",
    "import pandas as pd\n",
    "\n",
    "import matplotlib.pyplot as plt\n",
    "import seaborn as sns\n",
    "sns.set(context='talk', style='ticks', color_codes=True)\n",
    "\n",
    "from tqdm import tqdm\n",
    "tqdm.pandas()\n",
    "\n",
    "%matplotlib inline"
   ]
  },
  {
   "cell_type": "code",
   "execution_count": 3,
   "metadata": {},
   "outputs": [],
   "source": [
    "redf = pd.read_csv('/projects/rlmolecule/pstjohn/atom_spins/redf_spins.csv.gz')\n",
    "cdf = pd.read_csv('/projects/rlmolecule/pstjohn/atom_spins/cdf_spins.csv.gz')"
   ]
  },
  {
   "cell_type": "code",
   "execution_count": 4,
   "metadata": {},
   "outputs": [
    {
     "data": {
      "text/html": [
       "<div>\n",
       "<style scoped>\n",
       "    .dataframe tbody tr th:only-of-type {\n",
       "        vertical-align: middle;\n",
       "    }\n",
       "\n",
       "    .dataframe tbody tr th {\n",
       "        vertical-align: top;\n",
       "    }\n",
       "\n",
       "    .dataframe thead th {\n",
       "        text-align: right;\n",
       "    }\n",
       "</style>\n",
       "<table border=\"1\" class=\"dataframe\">\n",
       "  <thead>\n",
       "    <tr style=\"text-align: right;\">\n",
       "      <th></th>\n",
       "      <th>smiles</th>\n",
       "      <th>atom_type</th>\n",
       "      <th>atom_index</th>\n",
       "      <th>spin</th>\n",
       "    </tr>\n",
       "  </thead>\n",
       "  <tbody>\n",
       "    <tr>\n",
       "      <th>0</th>\n",
       "      <td>[Br]</td>\n",
       "      <td>Br</td>\n",
       "      <td>0</td>\n",
       "      <td>1.000000</td>\n",
       "    </tr>\n",
       "    <tr>\n",
       "      <th>1</th>\n",
       "      <td>BrC12C3C4[C]5C3C1C5C42</td>\n",
       "      <td>Br</td>\n",
       "      <td>0</td>\n",
       "      <td>0.013204</td>\n",
       "    </tr>\n",
       "    <tr>\n",
       "      <th>2</th>\n",
       "      <td>BrC12C3C4[C]5C3C1C5C42</td>\n",
       "      <td>C</td>\n",
       "      <td>1</td>\n",
       "      <td>-0.014127</td>\n",
       "    </tr>\n",
       "    <tr>\n",
       "      <th>3</th>\n",
       "      <td>BrC12C3C4[C]5C3C1C5C42</td>\n",
       "      <td>C</td>\n",
       "      <td>2</td>\n",
       "      <td>0.076213</td>\n",
       "    </tr>\n",
       "    <tr>\n",
       "      <th>4</th>\n",
       "      <td>BrC12C3C4[C]5C3C1C5C42</td>\n",
       "      <td>C</td>\n",
       "      <td>3</td>\n",
       "      <td>-0.102171</td>\n",
       "    </tr>\n",
       "  </tbody>\n",
       "</table>\n",
       "</div>"
      ],
      "text/plain": [
       "                   smiles atom_type  atom_index      spin\n",
       "0                    [Br]        Br           0  1.000000\n",
       "1  BrC12C3C4[C]5C3C1C5C42        Br           0  0.013204\n",
       "2  BrC12C3C4[C]5C3C1C5C42         C           1 -0.014127\n",
       "3  BrC12C3C4[C]5C3C1C5C42         C           2  0.076213\n",
       "4  BrC12C3C4[C]5C3C1C5C42         C           3 -0.102171"
      ]
     },
     "execution_count": 4,
     "metadata": {},
     "output_type": "execute_result"
    }
   ],
   "source": [
    "cdf.head()"
   ]
  },
  {
   "cell_type": "code",
   "execution_count": 5,
   "metadata": {},
   "outputs": [
    {
     "data": {
      "text/plain": [
       "(8176197, 4)"
      ]
     },
     "execution_count": 5,
     "metadata": {},
     "output_type": "execute_result"
    }
   ],
   "source": [
    "# Total number of gas-phase spins\n",
    "cdf.shape"
   ]
  },
  {
   "cell_type": "code",
   "execution_count": 6,
   "metadata": {},
   "outputs": [],
   "source": [
    "redf['fractional_spin'] = redf.groupby('smiles').spin.apply(lambda x: x.abs() / x.abs().sum())\n",
    "# cdf['fractional_spin'] = cdf.groupby('smiles').spin.apply(lambda x: x.abs() / x.abs().sum())"
   ]
  },
  {
   "cell_type": "code",
   "execution_count": 7,
   "metadata": {},
   "outputs": [
    {
     "data": {
      "image/png": "[encoded data removed]",
      "text/plain": [
       "<Figure size 432x288 with 1 Axes>"
      ]
     },
     "metadata": {
      "needs_background": "light"
     },
     "output_type": "display_data"
    }
   ],
   "source": [
    "redf['fractional_spin'].plot.hist(bins=30)\n",
    "plt.yscale('log')"
   ]
  },
  {
   "cell_type": "code",
   "execution_count": 66,
   "metadata": {},
   "outputs": [],
   "source": [
    "import psycopg2\n",
    "\n",
    "dbparams = {\n",
    "    'dbname': 'bde',\n",
    "    'port': 5432,\n",
    "    'host': 'yuma.hpc.nrel.gov',\n",
    "    'user': 'redoxops',\n",
    "    'password': 'R3d0x!',\n",
    "    'options': f'-c search_path=redox,bde'\n",
    "}\n",
    "\n",
    "with psycopg2.connect(**dbparams) as conn:\n",
    "    buried_volumes = pd.read_sql_query(\"\"\"\n",
    "    SELECT * from redoxcompoundcopy_all_atoms where bur_vol is not NULL;\n",
    "    \"\"\", conn)"
   ]
  },
  {
   "cell_type": "code",
   "execution_count": 67,
   "metadata": {},
   "outputs": [],
   "source": [
    "buried_volumes = buried_volumes.drop_duplicates(subset=['smiles', 'atom_id'])\n",
    "buried_volumes['atom_id'] = buried_volumes['atom_id'] - 1  # Something to remember; shree's indexing her atoms from 1"
   ]
  },
  {
   "cell_type": "code",
   "execution_count": 68,
   "metadata": {},
   "outputs": [
    {
     "data": {
      "text/html": [
       "<div>\n",
       "<style scoped>\n",
       "    .dataframe tbody tr th:only-of-type {\n",
       "        vertical-align: middle;\n",
       "    }\n",
       "\n",
       "    .dataframe tbody tr th {\n",
       "        vertical-align: top;\n",
       "    }\n",
       "\n",
       "    .dataframe thead th {\n",
       "        text-align: right;\n",
       "    }\n",
       "</style>\n",
       "<table border=\"1\" class=\"dataframe\">\n",
       "  <thead>\n",
       "    <tr style=\"text-align: right;\">\n",
       "      <th></th>\n",
       "      <th>id</th>\n",
       "      <th>cid</th>\n",
       "      <th>smiles</th>\n",
       "      <th>logfile</th>\n",
       "      <th>atom_sym</th>\n",
       "      <th>atom_id</th>\n",
       "      <th>atom_sym_id</th>\n",
       "      <th>mull_charge</th>\n",
       "      <th>spin_density</th>\n",
       "      <th>bur_vol</th>\n",
       "    </tr>\n",
       "  </thead>\n",
       "  <tbody>\n",
       "    <tr>\n",
       "      <th>0</th>\n",
       "      <td>1</td>\n",
       "      <td>820</td>\n",
       "      <td>C=[C]C</td>\n",
       "      <td>/projects/rlmolecule/pstjohn/redox_calculation...</td>\n",
       "      <td>C</td>\n",
       "      <td>0</td>\n",
       "      <td>C1</td>\n",
       "      <td>-0.410670</td>\n",
       "      <td>-0.154865</td>\n",
       "      <td>24.328617</td>\n",
       "    </tr>\n",
       "    <tr>\n",
       "      <th>4</th>\n",
       "      <td>1</td>\n",
       "      <td>820</td>\n",
       "      <td>C=[C]C</td>\n",
       "      <td>/projects/rlmolecule/pstjohn/redox_calculation...</td>\n",
       "      <td>C</td>\n",
       "      <td>1</td>\n",
       "      <td>C2</td>\n",
       "      <td>-0.010124</td>\n",
       "      <td>0.995103</td>\n",
       "      <td>27.919655</td>\n",
       "    </tr>\n",
       "    <tr>\n",
       "      <th>8</th>\n",
       "      <td>1</td>\n",
       "      <td>820</td>\n",
       "      <td>C=[C]C</td>\n",
       "      <td>/projects/rlmolecule/pstjohn/redox_calculation...</td>\n",
       "      <td>C</td>\n",
       "      <td>2</td>\n",
       "      <td>C3</td>\n",
       "      <td>-0.435531</td>\n",
       "      <td>-0.024888</td>\n",
       "      <td>24.661715</td>\n",
       "    </tr>\n",
       "    <tr>\n",
       "      <th>12</th>\n",
       "      <td>4</td>\n",
       "      <td>525151</td>\n",
       "      <td>C[S+]C</td>\n",
       "      <td>/projects/rlmolecule/pstjohn/redox_calculation...</td>\n",
       "      <td>C</td>\n",
       "      <td>0</td>\n",
       "      <td>C1</td>\n",
       "      <td>-0.421570</td>\n",
       "      <td>-0.028532</td>\n",
       "      <td>28.624364</td>\n",
       "    </tr>\n",
       "    <tr>\n",
       "      <th>16</th>\n",
       "      <td>4</td>\n",
       "      <td>525151</td>\n",
       "      <td>C[S+]C</td>\n",
       "      <td>/projects/rlmolecule/pstjohn/redox_calculation...</td>\n",
       "      <td>S</td>\n",
       "      <td>1</td>\n",
       "      <td>S2</td>\n",
       "      <td>0.448108</td>\n",
       "      <td>0.904697</td>\n",
       "      <td>32.659826</td>\n",
       "    </tr>\n",
       "    <tr>\n",
       "      <th>...</th>\n",
       "      <td>...</td>\n",
       "      <td>...</td>\n",
       "      <td>...</td>\n",
       "      <td>...</td>\n",
       "      <td>...</td>\n",
       "      <td>...</td>\n",
       "      <td>...</td>\n",
       "      <td>...</td>\n",
       "      <td>...</td>\n",
       "      <td>...</td>\n",
       "    </tr>\n",
       "    <tr>\n",
       "      <th>196438</th>\n",
       "      <td>44887</td>\n",
       "      <td>913055</td>\n",
       "      <td>[c]1scc2c1OCCCO2</td>\n",
       "      <td>/projects/rlmolecule/svss/Project-Redox/gaussi...</td>\n",
       "      <td>O</td>\n",
       "      <td>5</td>\n",
       "      <td>O6</td>\n",
       "      <td>-0.359027</td>\n",
       "      <td>0.003028</td>\n",
       "      <td>44.345105</td>\n",
       "    </tr>\n",
       "    <tr>\n",
       "      <th>196442</th>\n",
       "      <td>44887</td>\n",
       "      <td>913055</td>\n",
       "      <td>[c]1scc2c1OCCCO2</td>\n",
       "      <td>/projects/rlmolecule/svss/Project-Redox/gaussi...</td>\n",
       "      <td>C</td>\n",
       "      <td>6</td>\n",
       "      <td>C7</td>\n",
       "      <td>-0.144822</td>\n",
       "      <td>-0.000673</td>\n",
       "      <td>40.819055</td>\n",
       "    </tr>\n",
       "    <tr>\n",
       "      <th>196446</th>\n",
       "      <td>44887</td>\n",
       "      <td>913055</td>\n",
       "      <td>[c]1scc2c1OCCCO2</td>\n",
       "      <td>/projects/rlmolecule/svss/Project-Redox/gaussi...</td>\n",
       "      <td>C</td>\n",
       "      <td>7</td>\n",
       "      <td>C8</td>\n",
       "      <td>-0.258243</td>\n",
       "      <td>0.000840</td>\n",
       "      <td>39.742623</td>\n",
       "    </tr>\n",
       "    <tr>\n",
       "      <th>196450</th>\n",
       "      <td>44887</td>\n",
       "      <td>913055</td>\n",
       "      <td>[c]1scc2c1OCCCO2</td>\n",
       "      <td>/projects/rlmolecule/svss/Project-Redox/gaussi...</td>\n",
       "      <td>C</td>\n",
       "      <td>8</td>\n",
       "      <td>C9</td>\n",
       "      <td>-0.146214</td>\n",
       "      <td>-0.000854</td>\n",
       "      <td>40.913471</td>\n",
       "    </tr>\n",
       "    <tr>\n",
       "      <th>196453</th>\n",
       "      <td>44887</td>\n",
       "      <td>913055</td>\n",
       "      <td>[c]1scc2c1OCCCO2</td>\n",
       "      <td>/projects/rlmolecule/svss/Project-Redox/gaussi...</td>\n",
       "      <td>O</td>\n",
       "      <td>9</td>\n",
       "      <td>O10</td>\n",
       "      <td>-0.358554</td>\n",
       "      <td>0.009569</td>\n",
       "      <td>45.099415</td>\n",
       "    </tr>\n",
       "  </tbody>\n",
       "</table>\n",
       "<p>126568 rows × 10 columns</p>\n",
       "</div>"
      ],
      "text/plain": [
       "           id     cid            smiles  \\\n",
       "0           1     820            C=[C]C   \n",
       "4           1     820            C=[C]C   \n",
       "8           1     820            C=[C]C   \n",
       "12          4  525151            C[S+]C   \n",
       "16          4  525151            C[S+]C   \n",
       "...       ...     ...               ...   \n",
       "196438  44887  913055  [c]1scc2c1OCCCO2   \n",
       "196442  44887  913055  [c]1scc2c1OCCCO2   \n",
       "196446  44887  913055  [c]1scc2c1OCCCO2   \n",
       "196450  44887  913055  [c]1scc2c1OCCCO2   \n",
       "196453  44887  913055  [c]1scc2c1OCCCO2   \n",
       "\n",
       "                                                  logfile atom_sym  atom_id  \\\n",
       "0       /projects/rlmolecule/pstjohn/redox_calculation...        C        0   \n",
       "4       /projects/rlmolecule/pstjohn/redox_calculation...        C        1   \n",
       "8       /projects/rlmolecule/pstjohn/redox_calculation...        C        2   \n",
       "12      /projects/rlmolecule/pstjohn/redox_calculation...        C        0   \n",
       "16      /projects/rlmolecule/pstjohn/redox_calculation...        S        1   \n",
       "...                                                   ...      ...      ...   \n",
       "196438  /projects/rlmolecule/svss/Project-Redox/gaussi...        O        5   \n",
       "196442  /projects/rlmolecule/svss/Project-Redox/gaussi...        C        6   \n",
       "196446  /projects/rlmolecule/svss/Project-Redox/gaussi...        C        7   \n",
       "196450  /projects/rlmolecule/svss/Project-Redox/gaussi...        C        8   \n",
       "196453  /projects/rlmolecule/svss/Project-Redox/gaussi...        O        9   \n",
       "\n",
       "       atom_sym_id  mull_charge  spin_density    bur_vol  \n",
       "0               C1    -0.410670     -0.154865  24.328617  \n",
       "4               C2    -0.010124      0.995103  27.919655  \n",
       "8               C3    -0.435531     -0.024888  24.661715  \n",
       "12              C1    -0.421570     -0.028532  28.624364  \n",
       "16              S2     0.448108      0.904697  32.659826  \n",
       "...            ...          ...           ...        ...  \n",
       "196438          O6    -0.359027      0.003028  44.345105  \n",
       "196442          C7    -0.144822     -0.000673  40.819055  \n",
       "196446          C8    -0.258243      0.000840  39.742623  \n",
       "196450          C9    -0.146214     -0.000854  40.913471  \n",
       "196453         O10    -0.358554      0.009569  45.099415  \n",
       "\n",
       "[126568 rows x 10 columns]"
      ]
     },
     "execution_count": 68,
     "metadata": {},
     "output_type": "execute_result"
    }
   ],
   "source": [
    "buried_volumes"
   ]
  },
  {
   "cell_type": "code",
   "execution_count": 69,
   "metadata": {},
   "outputs": [],
   "source": [
    "merged = buried_volumes.merge(redf, left_on=['smiles', 'atom_id'], right_on=['smiles', 'atom_index'], how='left')\n",
    "merged = merged.dropna()\n",
    "merged['atom_index'] = merged['atom_index'].astype(int)"
   ]
  },
  {
   "cell_type": "code",
   "execution_count": 70,
   "metadata": {},
   "outputs": [],
   "source": [
    "merged[['smiles', 'atom_type', 'atom_index', 'bur_vol']].to_csv('/projects/rlmolecule/pstjohn/atom_spins/redf_buried_volume.csv.gz', compression='gzip', index=False)"
   ]
  },
  {
   "cell_type": "code",
   "execution_count": 80,
   "metadata": {},
   "outputs": [
    {
     "data": {
      "text/plain": [
       "14599"
      ]
     },
     "execution_count": 80,
     "metadata": {},
     "output_type": "execute_result"
    }
   ],
   "source": [
    "len(redf.smiles.unique())"
   ]
  },
  {
   "cell_type": "code",
   "execution_count": 81,
   "metadata": {},
   "outputs": [],
   "source": [
    "redf = redf_spin.merge(redf_bv, on=['smiles', 'atom_index', 'atom_type'], how='left')"
   ]
  },
  {
   "cell_type": "code",
   "execution_count": 82,
   "metadata": {},
   "outputs": [
    {
     "name": "stderr",
     "output_type": "stream",
     "text": [
      "  0%|          | 0/14599 [00:01<?, ?it/s]\n"
     ]
    },
    {
     "ename": "NameError",
     "evalue": "name 'preprocessor' is not defined",
     "output_type": "error",
     "traceback": [
      "\u001b[0;31m---------------------------------------------------------------------------\u001b[0m",
      "\u001b[0;31mNameError\u001b[0m                                 Traceback (most recent call last)",
      "\u001b[0;32m<ipython-input-82-72b0316ce5b8>\u001b[0m in \u001b[0;36m<module>\u001b[0;34m\u001b[0m\n\u001b[1;32m      1\u001b[0m \u001b[0;32mfor\u001b[0m \u001b[0msmiles\u001b[0m\u001b[0;34m,\u001b[0m \u001b[0midf\u001b[0m \u001b[0;32min\u001b[0m \u001b[0mtqdm\u001b[0m\u001b[0;34m(\u001b[0m\u001b[0mredf\u001b[0m\u001b[0;34m.\u001b[0m\u001b[0mgroupby\u001b[0m\u001b[0;34m(\u001b[0m\u001b[0;34m'smiles'\u001b[0m\u001b[0;34m)\u001b[0m\u001b[0;34m)\u001b[0m\u001b[0;34m:\u001b[0m\u001b[0;34m\u001b[0m\u001b[0;34m\u001b[0m\u001b[0m\n\u001b[0;32m----> 2\u001b[0;31m     \u001b[0minput_dict\u001b[0m \u001b[0;34m=\u001b[0m \u001b[0mpreprocessor\u001b[0m\u001b[0;34m.\u001b[0m\u001b[0mconstruct_feature_matrices\u001b[0m\u001b[0;34m(\u001b[0m\u001b[0msmiles\u001b[0m\u001b[0;34m,\u001b[0m \u001b[0mtrain\u001b[0m\u001b[0;34m=\u001b[0m\u001b[0mtrain\u001b[0m\u001b[0;34m)\u001b[0m\u001b[0;34m\u001b[0m\u001b[0;34m\u001b[0m\u001b[0m\n\u001b[0m\u001b[1;32m      3\u001b[0m     \u001b[0mspin\u001b[0m \u001b[0;34m=\u001b[0m \u001b[0midf\u001b[0m\u001b[0;34m.\u001b[0m\u001b[0mset_index\u001b[0m\u001b[0;34m(\u001b[0m\u001b[0;34m'atom_index'\u001b[0m\u001b[0;34m)\u001b[0m\u001b[0;34m.\u001b[0m\u001b[0msort_index\u001b[0m\u001b[0;34m(\u001b[0m\u001b[0;34m)\u001b[0m\u001b[0;34m.\u001b[0m\u001b[0mspin\u001b[0m\u001b[0;34m\u001b[0m\u001b[0;34m\u001b[0m\u001b[0m\n\u001b[1;32m      4\u001b[0m     \u001b[0mfractional_spin\u001b[0m \u001b[0;34m=\u001b[0m \u001b[0mspin\u001b[0m\u001b[0;34m.\u001b[0m\u001b[0mabs\u001b[0m\u001b[0;34m(\u001b[0m\u001b[0;34m)\u001b[0m \u001b[0;34m/\u001b[0m \u001b[0mspin\u001b[0m\u001b[0;34m.\u001b[0m\u001b[0mabs\u001b[0m\u001b[0;34m(\u001b[0m\u001b[0;34m)\u001b[0m\u001b[0;34m.\u001b[0m\u001b[0msum\u001b[0m\u001b[0;34m(\u001b[0m\u001b[0;34m)\u001b[0m\u001b[0;34m\u001b[0m\u001b[0;34m\u001b[0m\u001b[0m\n\u001b[1;32m      5\u001b[0m     \u001b[0minput_dict\u001b[0m\u001b[0;34m[\u001b[0m\u001b[0;34m'spin'\u001b[0m\u001b[0;34m]\u001b[0m \u001b[0;34m=\u001b[0m \u001b[0mfractional_spin\u001b[0m\u001b[0;34m.\u001b[0m\u001b[0mvalues\u001b[0m\u001b[0;34m\u001b[0m\u001b[0;34m\u001b[0m\u001b[0m\n",
      "\u001b[0;31mNameError\u001b[0m: name 'preprocessor' is not defined"
     ]
    }
   ],
   "source": [
    "for smiles, idf in tqdm(redf.groupby('smiles')):\n",
    "    input_dict = preprocessor.construct_feature_matrices(smiles, train=train)\n",
    "    spin = idf.set_index('atom_index').sort_index().spin\n",
    "    fractional_spin = spin.abs() / spin.abs().sum()\n",
    "    input_dict['spin'] = fractional_spin.values\n",
    "    break"
   ]
  },
  {
   "cell_type": "code",
   "execution_count": 85,
   "metadata": {},
   "outputs": [
    {
     "data": {
      "text/plain": [
       "array([27.5506119 , 40.60638847, 51.73196462, 35.91999521, 57.65526653,\n",
       "       41.53958628, 50.91490544, 38.62808771, 37.46743364,         nan,\n",
       "               nan,         nan,         nan,         nan,         nan,\n",
       "               nan,         nan,         nan,         nan,         nan,\n",
       "               nan,         nan])"
      ]
     },
     "execution_count": 85,
     "metadata": {},
     "output_type": "execute_result"
    }
   ],
   "source": [
    "idf.bur_vol.values"
   ]
  },
  {
   "cell_type": "code",
   "execution_count": 1,
   "metadata": {},
   "outputs": [
    {
     "ename": "NameError",
     "evalue": "name 'pd' is not defined",
     "output_type": "error",
     "traceback": [
      "\u001b[0;31m---------------------------------------------------------------------------\u001b[0m",
      "\u001b[0;31mNameError\u001b[0m                                 Traceback (most recent call last)",
      "\u001b[0;32m<ipython-input-1-2337d7da5ae8>\u001b[0m in \u001b[0;36m<module>\u001b[0;34m\u001b[0m\n\u001b[0;32m----> 1\u001b[0;31m \u001b[0mpd\u001b[0m\u001b[0;34m\u001b[0m\u001b[0;34m\u001b[0m\u001b[0m\n\u001b[0m",
      "\u001b[0;31mNameError\u001b[0m: name 'pd' is not defined"
     ]
    }
   ],
   "source": [
    "pd"
   ]
  }
 ],
 "metadata": {
  "kernelspec": {
   "display_name": "Python 3",
   "language": "python",
   "name": "python3"
  },
  "language_info": {
   "codemirror_mode": {
    "name": "ipython",
    "version": 3
   },
   "file_extension": ".py",
   "mimetype": "text/x-python",
   "name": "python",
   "nbconvert_exporter": "python",
   "pygments_lexer": "ipython3",
   "version": "3.7.9"
  }
 },
 "nbformat": 4,
 "nbformat_minor": 4
}
