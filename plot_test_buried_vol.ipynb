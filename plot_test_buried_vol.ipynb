{
 "cells": [
  {
   "cell_type": "code",
   "execution_count": 65,
   "metadata": {},
   "outputs": [],
   "source": [
    "import numpy as np\n",
    "import pandas as pd\n",
    "\n",
    "import matplotlib.pyplot as plt\n",
    "import seaborn as sns\n",
    "sns.set(context='talk', style='ticks',\n",
    "        color_codes=True, rc={'legend.frameon': False})\n",
    "\n",
    "%matplotlib inline"
   ]
  },
  {
   "cell_type": "code",
   "execution_count": 66,
   "metadata": {},
   "outputs": [
    {
     "name": "stdout",
     "output_type": "stream",
     "text": [
      "Thu Sep  3 15:20:44 2020       \n",
      "+-----------------------------------------------------------------------------+\n",
      "| NVIDIA-SMI 440.82       Driver Version: 440.82       CUDA Version: 10.2     |\n",
      "|-------------------------------+----------------------+----------------------+\n",
      "| GPU  Name        Persistence-M| Bus-Id        Disp.A | Volatile Uncorr. ECC |\n",
      "| Fan  Temp  Perf  Pwr:Usage/Cap|         Memory-Usage | GPU-Util  Compute M. |\n",
      "|===============================+======================+======================|\n",
      "|   0  Quadro GV100        Off  | 00000000:37:00.0 Off |                  Off |\n",
      "| 31%   43C    P2    36W / 250W |   6446MiB / 32508MiB |      0%      Default |\n",
      "+-------------------------------+----------------------+----------------------+\n",
      "                                                                               \n",
      "+-----------------------------------------------------------------------------+\n",
      "| Processes:                                                       GPU Memory |\n",
      "|  GPU       PID   Type   Process name                             Usage      |\n",
      "|=============================================================================|\n",
      "|    0       452      G   paraview                                     167MiB |\n",
      "|    0      4318      G   ...t/nrel/apps/paraview/5.6.0/lib/paraview   139MiB |\n",
      "|    0      5135      G   ...t/nrel/apps/paraview/5.6.0/lib/paraview    71MiB |\n",
      "|    0      5869      C   /home/jvermaas/lib/vmd/vmd_LINUXAMD64        311MiB |\n",
      "|    0      9462      G   paraview                                     204MiB |\n",
      "|    0     11716      G   paraview                                     115MiB |\n",
      "|    0     18218      C   ...olecule/pstjohn/envs/tf2_gpu/bin/python  1011MiB |\n",
      "|    0     19337      G   /usr/bin/X                                   311MiB |\n",
      "|    0     20688      G   paraview                                      81MiB |\n",
      "|    0     22797      C   ...nwilson/miniconda3/envs/mytf/bin/python   389MiB |\n",
      "|    0     28037      C   ...olecule/pstjohn/envs/tf2_gpu/bin/python  2935MiB |\n",
      "|    0     28040      G   paraview                                     136MiB |\n",
      "|    0     30575      G   ...t/nrel/apps/paraview/5.6.0/lib/paraview    49MiB |\n",
      "|    0     35374      C   ...olecule/pstjohn/envs/tf2_gpu/bin/python   505MiB |\n",
      "+-----------------------------------------------------------------------------+\n",
      "WARNING: infoROM is corrupted at gpu 0000:37:00.0\n"
     ]
    }
   ],
   "source": [
    "!nvidia-smi"
   ]
  },
  {
   "cell_type": "code",
   "execution_count": 98,
   "metadata": {},
   "outputs": [
    {
     "name": "stdout",
     "output_type": "stream",
     "text": [
      "bur_vol_loss        0.365880\n",
      "loss                0.060580\n",
      "spin_loss           0.023966\n",
      "val_bur_vol_loss    0.398604\n",
      "val_loss            0.072824\n",
      "val_spin_loss       0.031998\n",
      "dtype: float64\n"
     ]
    },
    {
     "data": {
      "image/png": "[encoded data removed]",
      "text/plain": [
       "<Figure size 504x216 with 2 Axes>"
      ]
     },
     "metadata": {
      "needs_background": "light"
     },
     "output_type": "display_data"
    }
   ],
   "source": [
    "fig, axs = plt.subplots(ncols=2, sharex=True, figsize=(7, 3))\n",
    "\n",
    "log1 = pd.read_csv('20200901_combined_losses/log.csv').set_index('epoch')\n",
    "\n",
    "axs[0].plot(log1['spin_loss'], label='train')\n",
    "axs[0].plot(log1['val_spin_loss'], label='validation')\n",
    "axs[0].set_title('Spin')\n",
    "\n",
    "axs[1].plot(log1['bur_vol_loss'])\n",
    "axs[1].plot(log1['val_bur_vol_loss'])\n",
    "axs[1].set_title('Buried Volume')\n",
    "\n",
    "for ax in axs:\n",
    "    ax.set_yscale('log')\n",
    "    \n",
    "print(log1.min())\n",
    "axs[0].legend()\n",
    "\n",
    "plt.tight_layout()\n",
    "# plt.xlim([0, 10])"
   ]
  },
  {
   "cell_type": "code",
   "execution_count": 99,
   "metadata": {},
   "outputs": [],
   "source": [
    "import tensorflow as tf\n",
    "gpus = tf.config.experimental.list_physical_devices('GPU')\n",
    "if gpus:\n",
    "    # Currently, memory growth needs to be the same across GPUs\n",
    "    for gpu in gpus:\n",
    "        tf.config.experimental.set_memory_growth(gpu, True)\n",
    "import nfp"
   ]
  },
  {
   "cell_type": "code",
   "execution_count": 101,
   "metadata": {},
   "outputs": [],
   "source": [
    "from preprocess_inputs import preprocessor\n",
    "preprocessor.from_json('tfrecords/preprocessor.json')\n",
    "\n",
    "from loss import AtomInfMask, KLWithLogits\n",
    "from nfp import EdgeUpdate, NodeUpdate, GlobalUpdate\n",
    "\n",
    "model = tf.keras.models.load_model(\n",
    "    '20200901_combined_losses/best_model.hdf5',\n",
    "    custom_objects={**nfp.custom_objects,\n",
    "                    **{'AtomInfMask': AtomInfMask, 'KLWithLogits': KLWithLogits,\n",
    "                       'EdgeUpdate': EdgeUpdate,\n",
    "                       'NodeUpdate': NodeUpdate,\n",
    "                       'GlobalUpdate': GlobalUpdate}})"
   ]
  },
  {
   "cell_type": "code",
   "execution_count": 108,
   "metadata": {},
   "outputs": [
    {
     "name": "stderr",
     "output_type": "stream",
     "text": [
      "/projects/rlmolecule/pstjohn/envs/tf2_gpu/lib/python3.7/site-packages/numpy/lib/arraysetops.py:580: FutureWarning: elementwise comparison failed; returning scalar instead, but in the future will perform elementwise comparison\n",
      "  mask |= (ar1 == a)\n"
     ]
    }
   ],
   "source": [
    "cdf_spin = pd.read_csv('/projects/rlmolecule/pstjohn/atom_spins/cdf_spins.csv.gz')\n",
    "cdf_bv = pd.read_csv('/projects/rlmolecule/pstjohn/atom_spins/cdf_buried_volume.csv.gz', index_col=0)\n",
    "cdf = cdf_spin.merge(cdf_bv, on=['smiles', 'atom_index'], how='left')\n",
    "\n",
    "test = np.load('split.npz', allow_pickle=True)['test']"
   ]
  },
  {
   "cell_type": "code",
   "execution_count": 109,
   "metadata": {},
   "outputs": [
    {
     "data": {
      "text/html": [
       "<div>\n",
       "<style scoped>\n",
       "    .dataframe tbody tr th:only-of-type {\n",
       "        vertical-align: middle;\n",
       "    }\n",
       "\n",
       "    .dataframe tbody tr th {\n",
       "        vertical-align: top;\n",
       "    }\n",
       "\n",
       "    .dataframe thead th {\n",
       "        text-align: right;\n",
       "    }\n",
       "</style>\n",
       "<table border=\"1\" class=\"dataframe\">\n",
       "  <thead>\n",
       "    <tr style=\"text-align: right;\">\n",
       "      <th>atom_index</th>\n",
       "      <th>0</th>\n",
       "      <th>1</th>\n",
       "      <th>2</th>\n",
       "      <th>3</th>\n",
       "      <th>4</th>\n",
       "      <th>5</th>\n",
       "      <th>6</th>\n",
       "      <th>7</th>\n",
       "      <th>8</th>\n",
       "      <th>9</th>\n",
       "      <th>...</th>\n",
       "      <th>62</th>\n",
       "      <th>63</th>\n",
       "      <th>64</th>\n",
       "      <th>65</th>\n",
       "      <th>66</th>\n",
       "      <th>67</th>\n",
       "      <th>68</th>\n",
       "      <th>69</th>\n",
       "      <th>70</th>\n",
       "      <th>71</th>\n",
       "    </tr>\n",
       "    <tr>\n",
       "      <th>smiles</th>\n",
       "      <th></th>\n",
       "      <th></th>\n",
       "      <th></th>\n",
       "      <th></th>\n",
       "      <th></th>\n",
       "      <th></th>\n",
       "      <th></th>\n",
       "      <th></th>\n",
       "      <th></th>\n",
       "      <th></th>\n",
       "      <th></th>\n",
       "      <th></th>\n",
       "      <th></th>\n",
       "      <th></th>\n",
       "      <th></th>\n",
       "      <th></th>\n",
       "      <th></th>\n",
       "      <th></th>\n",
       "      <th></th>\n",
       "      <th></th>\n",
       "      <th></th>\n",
       "    </tr>\n",
       "  </thead>\n",
       "  <tbody>\n",
       "    <tr>\n",
       "      <th>CO/[C]=C1/CCCCC1=O</th>\n",
       "      <td>0.001776</td>\n",
       "      <td>0.103081</td>\n",
       "      <td>0.702058</td>\n",
       "      <td>0.109981</td>\n",
       "      <td>0.001902</td>\n",
       "      <td>0.002830</td>\n",
       "      <td>0.001808</td>\n",
       "      <td>0.005006</td>\n",
       "      <td>0.042844</td>\n",
       "      <td>0.010367</td>\n",
       "      <td>...</td>\n",
       "      <td>NaN</td>\n",
       "      <td>NaN</td>\n",
       "      <td>NaN</td>\n",
       "      <td>NaN</td>\n",
       "      <td>NaN</td>\n",
       "      <td>NaN</td>\n",
       "      <td>NaN</td>\n",
       "      <td>NaN</td>\n",
       "      <td>NaN</td>\n",
       "      <td>NaN</td>\n",
       "    </tr>\n",
       "    <tr>\n",
       "      <th>C[CH]C[C@@H]1COOO1</th>\n",
       "      <td>0.047013</td>\n",
       "      <td>0.718680</td>\n",
       "      <td>0.057055</td>\n",
       "      <td>0.019739</td>\n",
       "      <td>0.001834</td>\n",
       "      <td>0.000174</td>\n",
       "      <td>0.000294</td>\n",
       "      <td>0.000185</td>\n",
       "      <td>0.005816</td>\n",
       "      <td>0.043117</td>\n",
       "      <td>...</td>\n",
       "      <td>NaN</td>\n",
       "      <td>NaN</td>\n",
       "      <td>NaN</td>\n",
       "      <td>NaN</td>\n",
       "      <td>NaN</td>\n",
       "      <td>NaN</td>\n",
       "      <td>NaN</td>\n",
       "      <td>NaN</td>\n",
       "      <td>NaN</td>\n",
       "      <td>NaN</td>\n",
       "    </tr>\n",
       "    <tr>\n",
       "      <th>CC[C@@H](F)C(=[N])N</th>\n",
       "      <td>0.000306</td>\n",
       "      <td>0.000109</td>\n",
       "      <td>0.074523</td>\n",
       "      <td>0.005681</td>\n",
       "      <td>0.122172</td>\n",
       "      <td>0.762786</td>\n",
       "      <td>0.020510</td>\n",
       "      <td>0.000498</td>\n",
       "      <td>0.000044</td>\n",
       "      <td>0.000007</td>\n",
       "      <td>...</td>\n",
       "      <td>NaN</td>\n",
       "      <td>NaN</td>\n",
       "      <td>NaN</td>\n",
       "      <td>NaN</td>\n",
       "      <td>NaN</td>\n",
       "      <td>NaN</td>\n",
       "      <td>NaN</td>\n",
       "      <td>NaN</td>\n",
       "      <td>NaN</td>\n",
       "      <td>NaN</td>\n",
       "    </tr>\n",
       "    <tr>\n",
       "      <th>[CH2]Nc1ccc(C)c(Cl)c1</th>\n",
       "      <td>0.597656</td>\n",
       "      <td>0.083265</td>\n",
       "      <td>0.045439</td>\n",
       "      <td>0.047257</td>\n",
       "      <td>0.023602</td>\n",
       "      <td>0.053582</td>\n",
       "      <td>0.002519</td>\n",
       "      <td>0.020194</td>\n",
       "      <td>0.000900</td>\n",
       "      <td>0.065124</td>\n",
       "      <td>...</td>\n",
       "      <td>NaN</td>\n",
       "      <td>NaN</td>\n",
       "      <td>NaN</td>\n",
       "      <td>NaN</td>\n",
       "      <td>NaN</td>\n",
       "      <td>NaN</td>\n",
       "      <td>NaN</td>\n",
       "      <td>NaN</td>\n",
       "      <td>NaN</td>\n",
       "      <td>NaN</td>\n",
       "    </tr>\n",
       "    <tr>\n",
       "      <th>NCc1nc[c]cc1F</th>\n",
       "      <td>0.000266</td>\n",
       "      <td>0.004885</td>\n",
       "      <td>0.036233</td>\n",
       "      <td>0.059242</td>\n",
       "      <td>0.046752</td>\n",
       "      <td>0.721763</td>\n",
       "      <td>0.058991</td>\n",
       "      <td>0.046018</td>\n",
       "      <td>0.003389</td>\n",
       "      <td>0.000182</td>\n",
       "      <td>...</td>\n",
       "      <td>NaN</td>\n",
       "      <td>NaN</td>\n",
       "      <td>NaN</td>\n",
       "      <td>NaN</td>\n",
       "      <td>NaN</td>\n",
       "      <td>NaN</td>\n",
       "      <td>NaN</td>\n",
       "      <td>NaN</td>\n",
       "      <td>NaN</td>\n",
       "      <td>NaN</td>\n",
       "    </tr>\n",
       "  </tbody>\n",
       "</table>\n",
       "<p>5 rows × 72 columns</p>\n",
       "</div>"
      ],
      "text/plain": [
       "atom_index                   0         1         2         3         4   \\\n",
       "smiles                                                                    \n",
       "CO/[C]=C1/CCCCC1=O     0.001776  0.103081  0.702058  0.109981  0.001902   \n",
       "C[CH]C[C@@H]1COOO1     0.047013  0.718680  0.057055  0.019739  0.001834   \n",
       "CC[C@@H](F)C(=[N])N    0.000306  0.000109  0.074523  0.005681  0.122172   \n",
       "[CH2]Nc1ccc(C)c(Cl)c1  0.597656  0.083265  0.045439  0.047257  0.023602   \n",
       "NCc1nc[c]cc1F          0.000266  0.004885  0.036233  0.059242  0.046752   \n",
       "\n",
       "atom_index                   5         6         7         8         9   ...  \\\n",
       "smiles                                                                   ...   \n",
       "CO/[C]=C1/CCCCC1=O     0.002830  0.001808  0.005006  0.042844  0.010367  ...   \n",
       "C[CH]C[C@@H]1COOO1     0.000174  0.000294  0.000185  0.005816  0.043117  ...   \n",
       "CC[C@@H](F)C(=[N])N    0.762786  0.020510  0.000498  0.000044  0.000007  ...   \n",
       "[CH2]Nc1ccc(C)c(Cl)c1  0.053582  0.002519  0.020194  0.000900  0.065124  ...   \n",
       "NCc1nc[c]cc1F          0.721763  0.058991  0.046018  0.003389  0.000182  ...   \n",
       "\n",
       "atom_index             62  63  64  65  66  67  68  69  70  71  \n",
       "smiles                                                         \n",
       "CO/[C]=C1/CCCCC1=O    NaN NaN NaN NaN NaN NaN NaN NaN NaN NaN  \n",
       "C[CH]C[C@@H]1COOO1    NaN NaN NaN NaN NaN NaN NaN NaN NaN NaN  \n",
       "CC[C@@H](F)C(=[N])N   NaN NaN NaN NaN NaN NaN NaN NaN NaN NaN  \n",
       "[CH2]Nc1ccc(C)c(Cl)c1 NaN NaN NaN NaN NaN NaN NaN NaN NaN NaN  \n",
       "NCc1nc[c]cc1F         NaN NaN NaN NaN NaN NaN NaN NaN NaN NaN  \n",
       "\n",
       "[5 rows x 72 columns]"
      ]
     },
     "execution_count": 109,
     "metadata": {},
     "output_type": "execute_result"
    }
   ],
   "source": [
    "cdf_test = cdf[cdf.smiles.isin(test)].copy()\n",
    "cdf_test['fractional_spin'] = cdf_test.groupby('smiles').spin.apply(lambda x: x.abs() / x.abs().sum())"
   ]
  },
  {
   "cell_type": "code",
   "execution_count": 147,
   "metadata": {},
   "outputs": [],
   "source": [
    "redf_spin = pd.read_csv('/projects/rlmolecule/pstjohn/atom_spins/redf_spins.csv.gz')\n",
    "redf_bv = pd.read_csv('/projects/rlmolecule/pstjohn/atom_spins/redf_buried_volume.csv.gz')\n",
    "redf = redf_spin.merge(redf_bv, on=['smiles', 'atom_index', 'atom_type'], how='left')\n",
    "redf['fractional_spin'] = redf.groupby('smiles').spin.apply(lambda x: x.abs() / x.abs().sum())\n",
    "\n",
    "redf_test = np.load('redf_split.npz', allow_pickle=True)['test']\n",
    "redf_smiles = redf.smiles.unique()"
   ]
  },
  {
   "cell_type": "code",
   "execution_count": 148,
   "metadata": {},
   "outputs": [],
   "source": [
    "test_dataset = tf.data.Dataset.from_generator(\n",
    "    lambda: (preprocessor.construct_feature_matrices(smiles, train=False) for smiles in test),\n",
    "    output_types=preprocessor.output_types,\n",
    "    output_shapes=preprocessor.output_shapes)\\\n",
    "    .padded_batch(batch_size=128, padded_shapes=preprocessor.padded_shapes(max_atoms=cdf_test.atom_index.max() + 1),\n",
    "                  padding_values=preprocessor.padding_values)"
   ]
  },
  {
   "cell_type": "code",
   "execution_count": 149,
   "metadata": {},
   "outputs": [],
   "source": [
    "redf_dataset = tf.data.Dataset.from_generator(\n",
    "    lambda: (preprocessor.construct_feature_matrices(smiles, train=False) for smiles in redf.smiles.unique()),\n",
    "    output_types=preprocessor.output_types,\n",
    "    output_shapes=preprocessor.output_shapes)\\\n",
    "    .padded_batch(batch_size=128, padded_shapes=preprocessor.padded_shapes(max_atoms=redf.atom_index.max() + 1),\n",
    "                  padding_values=preprocessor.padding_values)"
   ]
  },
  {
   "cell_type": "code",
   "execution_count": 150,
   "metadata": {},
   "outputs": [
    {
     "name": "stdout",
     "output_type": "stream",
     "text": [
      "     16/Unknown - 2s 104ms/step"
     ]
    },
    {
     "name": "stderr",
     "output_type": "stream",
     "text": [
      "RDKit WARNING: [07:04:40] Conflicting single bond directions around double bond at index 2.\n",
      "RDKit WARNING: [07:04:40]   BondStereo set to STEREONONE and single bond directions set to NONE.\n",
      "RDKit WARNING: [07:04:41] Conflicting single bond directions around double bond at index 2.\n",
      "RDKit WARNING: [07:04:41]   BondStereo set to STEREONONE and single bond directions set to NONE.\n"
     ]
    },
    {
     "name": "stdout",
     "output_type": "stream",
     "text": [
      "40/40 [==============================] - 4s 102ms/step\n"
     ]
    }
   ],
   "source": [
    "predicted_spin_logits, predicted_bur_vol = model.predict(test_dataset, verbose=1)\n",
    "predicted_fractional_spins = tf.nn.softmax(predicted_spin_logits)"
   ]
  },
  {
   "cell_type": "code",
   "execution_count": 246,
   "metadata": {},
   "outputs": [
    {
     "data": {
      "text/plain": [
       "Text(0.5, 1.0, 'Buried Volume')"
      ]
     },
     "execution_count": 246,
     "metadata": {},
     "output_type": "execute_result"
    },
    {
     "data": {
      "image/png": "[encoded data removed]",
      "text/plain": [
       "<Figure size 612x288 with 2 Axes>"
      ]
     },
     "metadata": {
      "needs_background": "light"
     },
     "output_type": "display_data"
    }
   ],
   "source": [
    "cdf_test_pivot_spins = cdf_test.pivot(index='smiles', columns='atom_index', values='fractional_spin')\n",
    "cdf_test_pivot_spins = cdf_test_pivot_spins.reindex(test)\n",
    "\n",
    "cdf_test_pivot_bur_vol = cdf_test.pivot(index='smiles', columns='atom_index', values='buried_vol')\n",
    "cdf_test_pivot_bur_vol = cdf_test_pivot_bur_vol.reindex(test)\n",
    "\n",
    "fig, axs = plt.subplots(nrows=1, ncols=2, figsize=(8.5,4))\n",
    "axs[0].plot(cdf_test_pivot_spins.values.flatten(), predicted_fractional_spins.numpy().flatten(), '.', ms=1)\n",
    "axs[0].text(.95, .05, f'MAE: {pd.Series(cdf_test_pivot_spins.values.flatten() - predicted_fractional_spins.numpy().flatten()).dropna().abs().mean():.4f}', ha='right',\n",
    "            transform=axs[0].transAxes, fontsize=14)\n",
    "\n",
    "axs[1].plot(cdf_test_pivot_bur_vol.values.flatten(), predicted_bur_vol.flatten(), '.', ms=.1)\n",
    "axs[1].text(.95, .05, f'MAE: {pd.Series(cdf_test_pivot_bur_vol.values.flatten() - predicted_bur_vol.flatten()).dropna().abs().mean():.4f}', ha='right',\n",
    "            transform=axs[1].transAxes, fontsize=14)\n",
    "\n",
    "axs[0].set_title('Spin')\n",
    "axs[1].set_title('Buried Volume')"
   ]
  },
  {
   "cell_type": "code",
   "execution_count": 183,
   "metadata": {},
   "outputs": [
    {
     "name": "stdout",
     "output_type": "stream",
     "text": [
      "     54/Unknown - 5s 97ms/step"
     ]
    },
    {
     "name": "stderr",
     "output_type": "stream",
     "text": [
      "RDKit WARNING: [07:12:04] Conflicting single bond directions around double bond at index 2.\n",
      "RDKit WARNING: [07:12:04]   BondStereo set to STEREONONE and single bond directions set to NONE.\n"
     ]
    },
    {
     "name": "stdout",
     "output_type": "stream",
     "text": [
      "    107/Unknown - 11s 100ms/step"
     ]
    },
    {
     "name": "stderr",
     "output_type": "stream",
     "text": [
      "RDKit WARNING: [07:12:10] Conflicting single bond directions around double bond at index 1.\n",
      "RDKit WARNING: [07:12:10]   BondStereo set to STEREONONE and single bond directions set to NONE.\n"
     ]
    },
    {
     "name": "stdout",
     "output_type": "stream",
     "text": [
      "115/115 [==============================] - 11s 99ms/step\n"
     ]
    }
   ],
   "source": [
    "rpredicted_spin_logits, rpredicted_bur_vol = model.predict(redf_dataset, verbose=1)\n",
    "rpredicted_fractional_spins = tf.nn.softmax(rpredicted_spin_logits)"
   ]
  },
  {
   "cell_type": "code",
   "execution_count": 189,
   "metadata": {},
   "outputs": [
    {
     "data": {
      "text/plain": [
       "Text(0.5, 1.0, 'Buried Volume')"
      ]
     },
     "execution_count": 189,
     "metadata": {},
     "output_type": "execute_result"
    },
    {
     "data": {
      "image/png": "[encoded data removed]",
      "text/plain": [
       "<Figure size 612x288 with 2 Axes>"
      ]
     },
     "metadata": {
      "needs_background": "light"
     },
     "output_type": "display_data"
    }
   ],
   "source": [
    "redf_pivot_spins = redf.pivot(index='smiles', columns='atom_index', values='fractional_spin')\n",
    "redf_pivot_spins = redf_pivot_spins.reindex(redf_smiles)\n",
    "\n",
    "redf_pivot_bur_vol = redf.pivot(index='smiles', columns='atom_index', values='bur_vol')\n",
    "redf_pivot_bur_vol = redf_pivot_bur_vol.reindex(redf_smiles)\n",
    "\n",
    "fig, axs = plt.subplots(nrows=1, ncols=2, figsize=(8.5,4))\n",
    "axs[0].plot(redf_pivot_spins.values.flatten(), rpredicted_fractional_spins.numpy().flatten(), '.', ms=1)\n",
    "axs[0].text(.95, .05, f'MAE: {pd.Series(redf_pivot_spins.values.flatten() - rpredicted_fractional_spins.numpy().flatten()).dropna().abs().mean():.4f}', ha='right',\n",
    "            transform=axs[0].transAxes, fontsize=14)\n",
    "\n",
    "axs[1].plot(redf_pivot_bur_vol.values.flatten(), rpredicted_bur_vol.flatten(), '.', ms=1)\n",
    "axs[1].text(.95, .05, f'MAE: {pd.Series(redf_pivot_bur_vol.values.flatten() - rpredicted_bur_vol.flatten()).dropna().abs().mean():.4f}', ha='right',\n",
    "            transform=axs[1].transAxes, fontsize=14)\n",
    "\n",
    "axs[0].set_title('Spin')\n",
    "axs[1].set_title('Buried Volume')"
   ]
  },
  {
   "cell_type": "code",
   "execution_count": 266,
   "metadata": {},
   "outputs": [],
   "source": [
    "bur_vol_err = cdf_test_pivot_bur_vol - predicted_bur_vol.squeeze()\n",
    "bur_vol_err = bur_vol_err.abs().reset_index().melt(id_vars=['smiles']).dropna()"
   ]
  },
  {
   "cell_type": "code",
   "execution_count": 271,
   "metadata": {},
   "outputs": [],
   "source": [
    "bur_vol_pred = pd.DataFrame(predicted_bur_vol.squeeze(), index=cdf_test_pivot_bur_vol.index, columns=cdf_test_pivot_bur_vol.columns)\n",
    "bur_vol_pred = bur_vol_pred.abs().reset_index().melt(id_vars=['smiles']).dropna()"
   ]
  },
  {
   "cell_type": "code",
   "execution_count": 277,
   "metadata": {},
   "outputs": [],
   "source": [
    "bur_vol_err_df = bur_vol_err.merge(\n",
    "    bur_vol_pred, how='left', on=['smiles', 'atom_index'], suffixes=('_err', '_pred')).merge(\n",
    "    cdf_test[['smiles', 'atom_index', 'buried_vol']], on=['smiles', 'atom_index'])"
   ]
  },
  {
   "cell_type": "code",
   "execution_count": 282,
   "metadata": {},
   "outputs": [
    {
     "data": {
      "text/plain": [
       "'[CH]=C1[C@H]2C[C@@H](C(C)(C)O[C@H]3O[C@H](CO)[C@@H](O)C(=O)[C@@H]3O)CC[C@]2(C)C[C@H](O)[C@@H]1O'"
      ]
     },
     "execution_count": 282,
     "metadata": {},
     "output_type": "execute_result"
    }
   ],
   "source": [
    "bur_vol_err_df.sort_values('value_err', ascending=False).head(10).iloc[1].smiles"
   ]
  },
  {
   "cell_type": "code",
   "execution_count": 284,
   "metadata": {},
   "outputs": [],
   "source": [
    "import rdkit.Chem\n",
    "def num_atoms(smiles):\n",
    "    mol = rdkit.Chem.MolFromSmiles(smiles)\n",
    "    return mol.GetNumAtoms()"
   ]
  },
  {
   "cell_type": "code",
   "execution_count": 289,
   "metadata": {},
   "outputs": [
    {
     "name": "stderr",
     "output_type": "stream",
     "text": [
      "/projects/rlmolecule/pstjohn/envs/tf2_gpu/lib/python3.7/site-packages/tqdm/std.py:668: FutureWarning: The Panel class is removed from pandas. Accessing it from the top-level namespace will also be removed in the next version\n",
      "  from pandas import Panel\n",
      "  0%|          | 1/43138 [00:00<3:27:00,  3.47it/s]RDKit WARNING: [08:21:30] Conflicting single bond directions around double bond at index 2.\n",
      "RDKit WARNING: [08:21:30]   BondStereo set to STEREONONE and single bond directions set to NONE.\n",
      "  4%|▍         | 1760/43138 [00:00<2:19:00,  4.96it/s]RDKit WARNING: [08:21:30] Conflicting single bond directions around double bond at index 2.\n",
      "RDKit WARNING: [08:21:30]   BondStereo set to STEREONONE and single bond directions set to NONE.\n",
      " 12%|█▏        | 5342/43138 [00:00<1:02:14, 10.12it/s]RDKit WARNING: [08:21:30] Conflicting single bond directions around double bond at index 2.\n",
      "RDKit WARNING: [08:21:30]   BondStereo set to STEREONONE and single bond directions set to NONE.\n",
      "RDKit WARNING: [08:21:30] Conflicting single bond directions around double bond at index 2.\n",
      "RDKit WARNING: [08:21:30]   BondStereo set to STEREONONE and single bond directions set to NONE.\n",
      " 25%|██▍       | 10708/43138 [00:00<18:20, 29.48it/s] RDKit WARNING: [08:21:30] Conflicting single bond directions around double bond at index 2.\n",
      "RDKit WARNING: [08:21:30]   BondStereo set to STEREONONE and single bond directions set to NONE.\n",
      "RDKit WARNING: [08:21:30] Conflicting single bond directions around double bond at index 2.\n",
      "RDKit WARNING: [08:21:30]   BondStereo set to STEREONONE and single bond directions set to NONE.\n",
      " 33%|███▎      | 14304/43138 [00:01<08:00, 60.05it/s]RDKit WARNING: [08:21:30] Conflicting single bond directions around double bond at index 2.\n",
      "RDKit WARNING: [08:21:30]   BondStereo set to STEREONONE and single bond directions set to NONE.\n",
      "RDKit WARNING: [08:21:30] Conflicting single bond directions around double bond at index 2.\n",
      "RDKit WARNING: [08:21:30]   BondStereo set to STEREONONE and single bond directions set to NONE.\n",
      " 46%|████▌     | 19695/43138 [00:01<02:14, 173.97it/s]RDKit WARNING: [08:21:31] Conflicting single bond directions around double bond at index 2.\n",
      "RDKit WARNING: [08:21:31]   BondStereo set to STEREONONE and single bond directions set to NONE.\n",
      "RDKit WARNING: [08:21:31] Conflicting single bond directions around double bond at index 2.\n",
      "RDKit WARNING: [08:21:31]   BondStereo set to STEREONONE and single bond directions set to NONE.\n",
      " 58%|█████▊    | 25067/43138 [00:01<00:36, 497.94it/s]RDKit WARNING: [08:21:31] Conflicting single bond directions around double bond at index 2.\n",
      "RDKit WARNING: [08:21:31]   BondStereo set to STEREONONE and single bond directions set to NONE.\n",
      "RDKit WARNING: [08:21:31] Conflicting single bond directions around double bond at index 2.\n",
      "RDKit WARNING: [08:21:31]   BondStereo set to STEREONONE and single bond directions set to NONE.\n",
      " 66%|██████▋   | 28660/43138 [00:01<00:14, 987.70it/s]RDKit WARNING: [08:21:31] Conflicting single bond directions around double bond at index 2.\n",
      "RDKit WARNING: [08:21:31]   BondStereo set to STEREONONE and single bond directions set to NONE.\n",
      "RDKit WARNING: [08:21:31] Conflicting single bond directions around double bond at index 2.\n",
      "RDKit WARNING: [08:21:31]   BondStereo set to STEREONONE and single bond directions set to NONE.\n",
      " 79%|███████▉  | 34013/43138 [00:02<00:03, 2601.44it/s]RDKit WARNING: [08:21:31] Conflicting single bond directions around double bond at index 2.\n",
      "RDKit WARNING: [08:21:31]   BondStereo set to STEREONONE and single bond directions set to NONE.\n",
      "RDKit WARNING: [08:21:31] Conflicting single bond directions around double bond at index 2.\n",
      "RDKit WARNING: [08:21:31]   BondStereo set to STEREONONE and single bond directions set to NONE.\n",
      " 87%|████████▋ | 37560/43138 [00:02<00:01, 4598.74it/s]RDKit WARNING: [08:21:32] Conflicting single bond directions around double bond at index 2.\n",
      "RDKit WARNING: [08:21:32]   BondStereo set to STEREONONE and single bond directions set to NONE.\n",
      "RDKit WARNING: [08:21:32] Conflicting single bond directions around double bond at index 2.\n",
      "RDKit WARNING: [08:21:32]   BondStereo set to STEREONONE and single bond directions set to NONE.\n",
      " 95%|█████████▌| 41064/43138 [00:02<00:00, 7300.96it/s]RDKit WARNING: [08:21:32] Conflicting single bond directions around double bond at index 2.\n",
      "RDKit WARNING: [08:21:32]   BondStereo set to STEREONONE and single bond directions set to NONE.\n",
      "RDKit WARNING: [08:21:32] Conflicting single bond directions around double bond at index 2.\n",
      "RDKit WARNING: [08:21:32]   BondStereo set to STEREONONE and single bond directions set to NONE.\n",
      "100%|██████████| 43138/43138 [00:02<00:00, 15390.22it/s]\n"
     ]
    }
   ],
   "source": [
    "from tqdm import tqdm\n",
    "tqdm.pandas()\n",
    "\n",
    "bur_vol_err_df['num_atoms'] = bur_vol_err_df.smiles.progress_apply(num_atoms)"
   ]
  },
  {
   "cell_type": "code",
   "execution_count": 293,
   "metadata": {},
   "outputs": [
    {
     "data": {
      "text/plain": [
       "1.345533972832391"
      ]
     },
     "execution_count": 293,
     "metadata": {},
     "output_type": "execute_result"
    }
   ],
   "source": [
    "bur_vol_err_df[bur_vol_err_df.num_atoms > 20].value_err.mean()"
   ]
  },
  {
   "cell_type": "code",
   "execution_count": 296,
   "metadata": {},
   "outputs": [
    {
     "data": {
      "text/plain": [
       "Text(0.5, 1.0, '>20 atoms')"
      ]
     },
     "execution_count": 296,
     "metadata": {},
     "output_type": "execute_result"
    },
    {
     "data": {
      "image/png": "[encoded data removed]",
      "text/plain": [
       "<Figure size 288x288 with 1 Axes>"
      ]
     },
     "metadata": {
      "needs_background": "light"
     },
     "output_type": "display_data"
    }
   ],
   "source": [
    "plt.figure(figsize=(4,4))\n",
    "plt.plot(bur_vol_err_df[bur_vol_err_df.num_atoms > 20].buried_vol, bur_vol_err_df[bur_vol_err_df.num_atoms > 20].value_pred, '.', ms=2)\n",
    "plt.xlabel('Buried Volume')\n",
    "plt.ylabel('Predicted')\n",
    "plt.title('>20 atoms')"
   ]
  },
  {
   "cell_type": "code",
   "execution_count": 306,
   "metadata": {},
   "outputs": [],
   "source": [
    "smiles = bur_vol_err_df[bur_vol_err_df.num_atoms <= 10].sort_values('value_err', ascending=False).head(6).smiles"
   ]
  },
  {
   "cell_type": "code",
   "execution_count": 309,
   "metadata": {},
   "outputs": [
    {
     "data": {
      "text/plain": [
       "['OCC[CH]/C=C\\\\CCCO',\n",
       " '[CH2]S/C=C\\\\C(=O)N1CCC1',\n",
       " 'C[C@H]([O])CN(C)CCO',\n",
       " 'N=C(N)SC[CH]S(=O)(=O)O',\n",
       " 'CN(C)CCOP([O])(=O)O',\n",
       " '[NH]CCCCNCCCO']"
      ]
     },
     "execution_count": 309,
     "metadata": {},
     "output_type": "execute_result"
    }
   ],
   "source": []
  },
  {
   "cell_type": "code",
   "execution_count": 311,
   "metadata": {},
   "outputs": [],
   "source": [
    "import psycopg2\n",
    "\n",
    "dbparams = {\n",
    "    'dbname': 'bde',\n",
    "    'port': 5432,\n",
    "    'host': 'yuma.hpc.nrel.gov',\n",
    "    'user': 'bdeops',\n",
    "    'password': 'BD30ps99!',\n",
    "    'options': f'-c search_path=bde',\n",
    "}\n",
    "\n",
    "with psycopg2.connect(**dbparams) as conn:\n",
    "\n",
    "    cdf = pd.read_sql_query(\"\"\"\n",
    "    SELECT * from unique_compound where status='finished' and smiles in %s;\n",
    "    \"\"\", conn, params=[tuple(smiles.values.tolist())])    "
   ]
  },
  {
   "cell_type": "code",
   "execution_count": 314,
   "metadata": {},
   "outputs": [],
   "source": [
    "import shutil"
   ]
  },
  {
   "cell_type": "code",
   "execution_count": 318,
   "metadata": {},
   "outputs": [],
   "source": [
    "import os"
   ]
  },
  {
   "cell_type": "code",
   "execution_count": 325,
   "metadata": {},
   "outputs": [],
   "source": [
    "cdf['logbase'] = cdf.logfile.apply(os.path.basename)"
   ]
  },
  {
   "cell_type": "code",
   "execution_count": 326,
   "metadata": {},
   "outputs": [
    {
     "data": {
      "text/html": [
       "<div>\n",
       "<style scoped>\n",
       "    .dataframe tbody tr th:only-of-type {\n",
       "        vertical-align: middle;\n",
       "    }\n",
       "\n",
       "    .dataframe tbody tr th {\n",
       "        vertical-align: top;\n",
       "    }\n",
       "\n",
       "    .dataframe thead th {\n",
       "        text-align: right;\n",
       "    }\n",
       "</style>\n",
       "<table border=\"1\" class=\"dataframe\">\n",
       "  <thead>\n",
       "    <tr style=\"text-align: right;\">\n",
       "      <th></th>\n",
       "      <th>smiles</th>\n",
       "      <th>logbase</th>\n",
       "    </tr>\n",
       "  </thead>\n",
       "  <tbody>\n",
       "    <tr>\n",
       "      <th>0</th>\n",
       "      <td>C[C@H]([O])CN(C)CCO</td>\n",
       "      <td>99228_07bfe3.log.gz</td>\n",
       "    </tr>\n",
       "    <tr>\n",
       "      <th>1</th>\n",
       "      <td>[CH2]S/C=C\\C(=O)N1CCC1</td>\n",
       "      <td>795386_5bc091.log.gz</td>\n",
       "    </tr>\n",
       "    <tr>\n",
       "      <th>2</th>\n",
       "      <td>CN(C)CCOP([O])(=O)O</td>\n",
       "      <td>879191_da9e6e.log.gz</td>\n",
       "    </tr>\n",
       "    <tr>\n",
       "      <th>3</th>\n",
       "      <td>N=C(N)SC[CH]S(=O)(=O)O</td>\n",
       "      <td>852794_6deda6.log.gz</td>\n",
       "    </tr>\n",
       "    <tr>\n",
       "      <th>4</th>\n",
       "      <td>[NH]CCCCNCCCO</td>\n",
       "      <td>118215_b1a809.log.gz</td>\n",
       "    </tr>\n",
       "    <tr>\n",
       "      <th>5</th>\n",
       "      <td>OCC[CH]/C=C\\CCCO</td>\n",
       "      <td>194727_1f76d6.log.gz</td>\n",
       "    </tr>\n",
       "  </tbody>\n",
       "</table>\n",
       "</div>"
      ],
      "text/plain": [
       "                   smiles               logbase\n",
       "0     C[C@H]([O])CN(C)CCO   99228_07bfe3.log.gz\n",
       "1  [CH2]S/C=C\\C(=O)N1CCC1  795386_5bc091.log.gz\n",
       "2     CN(C)CCOP([O])(=O)O  879191_da9e6e.log.gz\n",
       "3  N=C(N)SC[CH]S(=O)(=O)O  852794_6deda6.log.gz\n",
       "4           [NH]CCCCNCCCO  118215_b1a809.log.gz\n",
       "5        OCC[CH]/C=C\\CCCO  194727_1f76d6.log.gz"
      ]
     },
     "execution_count": 326,
     "metadata": {},
     "output_type": "execute_result"
    }
   ],
   "source": [
    "cdf[['smiles', 'logbase']]"
   ]
  },
  {
   "cell_type": "code",
   "execution_count": 322,
   "metadata": {},
   "outputs": [],
   "source": [
    "for log in cdf.logfile:\n",
    "    shutil.copy(log, '/home/pstjohn/Research/20200608_redox_calculations/bur_vol_logs/')"
   ]
  },
  {
   "cell_type": "code",
   "execution_count": null,
   "metadata": {},
   "outputs": [],
   "source": []
  }
 ],
 "metadata": {
  "kernelspec": {
   "display_name": "Python 3",
   "language": "python",
   "name": "python3"
  },
  "language_info": {
   "codemirror_mode": {
    "name": "ipython",
    "version": 3
   },
   "file_extension": ".py",
   "mimetype": "text/x-python",
   "name": "python",
   "nbconvert_exporter": "python",
   "pygments_lexer": "ipython3",
   "version": "3.7.8"
  }
 },
 "nbformat": 4,
 "nbformat_minor": 4
}
